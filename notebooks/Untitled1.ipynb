{
 "cells": [
  {
   "cell_type": "code",
   "execution_count": 1,
   "metadata": {},
   "outputs": [],
   "source": [
    "import pandas as pd\n",
    "import similaripy as sim\n",
    "from scipy import *\n",
    "from scipy.sparse import *\n",
    "from tqdm import tqdm\n",
    "import numpy as np\n",
    "\n",
    "import re\n",
    "import string as string_lib\n",
    "from collections import Counter\n",
    "from sklearn.feature_extraction.text import TfidfVectorizer"
   ]
  },
  {
   "cell_type": "code",
   "execution_count": 19,
   "metadata": {},
   "outputs": [],
   "source": [
    "def ngrams(string, n=3):\n",
    "    string = string.encode(\"ascii\", errors=\"ignore\").decode() #remove non ascii chars\n",
    "    string = string.lower() #make lower case\n",
    "    chars_to_remove = [\")\",\"(\",\"|\",\"[\",\"]\",\"{\",\"}\",\"'\"]\n",
    "    rx = '[' + re.escape(''.join(chars_to_remove)) + ']'\n",
    "    string = re.sub(rx, '', string) #remove the list of chars defined above\n",
    "    string = re.sub(' +',' ',string).strip() # get rid of multiple spaces and replace with a single space\n",
    "    string = ' '+ string +' ' # pad names for ngrams...\n",
    "    string = re.sub(r'[,-/]',r'', string)\n",
    "    ngrams = zip(*[string[i:] for i in range(n)])\n",
    "    return [''.join(ngram) for ngram in ngrams]"
   ]
  },
  {
   "cell_type": "code",
   "execution_count": 3,
   "metadata": {},
   "outputs": [],
   "source": [
    "# first load the data\n",
    "df_train = pd.read_csv(\"../dataset/original/train.csv\", escapechar=\"\\\\\")\n",
    "df_test = pd.read_csv(\"../dataset/original/test.csv\", escapechar=\"\\\\\")\n",
    "# ALWAYS sort the data by record_id\n",
    "df_train = df_train.sort_values(by=['record_id']).reset_index(drop=True)\n",
    "df_test = df_test.sort_values(by=['record_id']).reset_index(drop=True)"
   ]
  },
  {
   "cell_type": "code",
   "execution_count": 4,
   "metadata": {},
   "outputs": [
    {
     "data": {
      "text/html": [
       "<div>\n",
       "<style scoped>\n",
       "    .dataframe tbody tr th:only-of-type {\n",
       "        vertical-align: middle;\n",
       "    }\n",
       "\n",
       "    .dataframe tbody tr th {\n",
       "        vertical-align: top;\n",
       "    }\n",
       "\n",
       "    .dataframe thead th {\n",
       "        text-align: right;\n",
       "    }\n",
       "</style>\n",
       "<table border=\"1\" class=\"dataframe\">\n",
       "  <thead>\n",
       "    <tr style=\"text-align: right;\">\n",
       "      <th></th>\n",
       "      <th>record_id</th>\n",
       "      <th>name</th>\n",
       "      <th>type</th>\n",
       "      <th>address</th>\n",
       "      <th>phone</th>\n",
       "      <th>email</th>\n",
       "      <th>modification</th>\n",
       "      <th>linked_id</th>\n",
       "    </tr>\n",
       "  </thead>\n",
       "  <tbody>\n",
       "    <tr>\n",
       "      <th>0</th>\n",
       "      <td>10000001</td>\n",
       "      <td>TIANSHENG INDUSTRY AND TRADING CO., LTD.</td>\n",
       "      <td>entity</td>\n",
       "      <td>NaN</td>\n",
       "      <td>3.391448e+11</td>\n",
       "      <td>inquires@TIANSHENG.INDUSTRY.AND.TRADING.CO.LTD.de</td>\n",
       "      <td>original</td>\n",
       "      <td>10000001</td>\n",
       "    </tr>\n",
       "    <tr>\n",
       "      <th>1</th>\n",
       "      <td>10000002</td>\n",
       "      <td>NINGBO SUNRISE ENTERPRISES UNITED CO., LTD.</td>\n",
       "      <td>entity</td>\n",
       "      <td>NaN</td>\n",
       "      <td>1.813704e+10</td>\n",
       "      <td>consulting@zoho.cz</td>\n",
       "      <td>original</td>\n",
       "      <td>10000002</td>\n",
       "    </tr>\n",
       "    <tr>\n",
       "      <th>2</th>\n",
       "      <td>10000002-M0</td>\n",
       "      <td>NINGBO SUNRISE ENTERPRISES UNITED CO., LTD.</td>\n",
       "      <td>entity</td>\n",
       "      <td>NaN</td>\n",
       "      <td>1.813704e+10</td>\n",
       "      <td>NaN</td>\n",
       "      <td>missing</td>\n",
       "      <td>10000002</td>\n",
       "    </tr>\n",
       "    <tr>\n",
       "      <th>3</th>\n",
       "      <td>10000002-M1</td>\n",
       "      <td>NINGBO SUNRISE ENTERPRISES UNITED CO., LTD.</td>\n",
       "      <td>entity</td>\n",
       "      <td>NaN</td>\n",
       "      <td>NaN</td>\n",
       "      <td>NaN</td>\n",
       "      <td>missing</td>\n",
       "      <td>10000002</td>\n",
       "    </tr>\n",
       "    <tr>\n",
       "      <th>4</th>\n",
       "      <td>10000004</td>\n",
       "      <td>SKY-BLUE GIFTS &amp; TOYS CO., LTD.</td>\n",
       "      <td>entity</td>\n",
       "      <td>NaN</td>\n",
       "      <td>NaN</td>\n",
       "      <td>NaN</td>\n",
       "      <td>original</td>\n",
       "      <td>10000004</td>\n",
       "    </tr>\n",
       "  </tbody>\n",
       "</table>\n",
       "</div>"
      ],
      "text/plain": [
       "     record_id                                         name    type address  \\\n",
       "0     10000001     TIANSHENG INDUSTRY AND TRADING CO., LTD.  entity     NaN   \n",
       "1     10000002  NINGBO SUNRISE ENTERPRISES UNITED CO., LTD.  entity     NaN   \n",
       "2  10000002-M0  NINGBO SUNRISE ENTERPRISES UNITED CO., LTD.  entity     NaN   \n",
       "3  10000002-M1  NINGBO SUNRISE ENTERPRISES UNITED CO., LTD.  entity     NaN   \n",
       "4     10000004              SKY-BLUE GIFTS & TOYS CO., LTD.  entity     NaN   \n",
       "\n",
       "          phone                                              email  \\\n",
       "0  3.391448e+11  inquires@TIANSHENG.INDUSTRY.AND.TRADING.CO.LTD.de   \n",
       "1  1.813704e+10                                 consulting@zoho.cz   \n",
       "2  1.813704e+10                                                NaN   \n",
       "3           NaN                                                NaN   \n",
       "4           NaN                                                NaN   \n",
       "\n",
       "  modification  linked_id  \n",
       "0     original   10000001  \n",
       "1     original   10000002  \n",
       "2      missing   10000002  \n",
       "3      missing   10000002  \n",
       "4     original   10000004  "
      ]
     },
     "execution_count": 4,
     "metadata": {},
     "output_type": "execute_result"
    }
   ],
   "source": [
    "df_train.head()"
   ]
  },
  {
   "cell_type": "code",
   "execution_count": 6,
   "metadata": {},
   "outputs": [],
   "source": [
    "df_test = convert_phones(df_test)\n",
    "df_train = convert_phones(df_train)"
   ]
  },
  {
   "cell_type": "code",
   "execution_count": 7,
   "metadata": {},
   "outputs": [],
   "source": [
    "# mi serve una colonna con tutti i telefoni su cui fare tfidf\n",
    "all_phones = list(df_train.phone) + list(df_test.phone)\n",
    "# daje con tfidf\n",
    "vectorizer = TfidfVectorizer(min_df=1, analyzer=ngrams)\n",
    "tf_idf_matrix = vectorizer.fit_transform(all_phones)"
   ]
  },
  {
   "cell_type": "code",
   "execution_count": 8,
   "metadata": {},
   "outputs": [
    {
     "name": "stderr",
     "output_type": "stream",
     "text": [
      "Computing:   8%|████▏                                                   | 20254/266955 [01:12<14:44, 278.92it/s]"
     ]
    },
    {
     "ename": "KeyboardInterrupt",
     "evalue": "",
     "output_type": "error",
     "traceback": [
      "\u001b[1;31m---------------------------------------------------------------------------\u001b[0m",
      "\u001b[1;31mKeyboardInterrupt\u001b[0m                         Traceback (most recent call last)",
      "\u001b[1;32m<ipython-input-8-03939e646b39>\u001b[0m in \u001b[0;36m<module>\u001b[1;34m\u001b[0m\n\u001b[0;32m      2\u001b[0m \u001b[0mtf_idf_train\u001b[0m \u001b[1;33m=\u001b[0m \u001b[0mtf_idf_matrix\u001b[0m\u001b[1;33m[\u001b[0m\u001b[1;33m:\u001b[0m\u001b[1;36m691440\u001b[0m\u001b[1;33m,\u001b[0m\u001b[1;33m:\u001b[0m\u001b[1;33m]\u001b[0m \u001b[1;31m# 691440 è la lunghezza del train\u001b[0m\u001b[1;33m\u001b[0m\u001b[1;33m\u001b[0m\u001b[0m\n\u001b[0;32m      3\u001b[0m \u001b[0mtf_idf_test\u001b[0m \u001b[1;33m=\u001b[0m \u001b[0mtf_idf_matrix\u001b[0m\u001b[1;33m[\u001b[0m\u001b[1;36m691440\u001b[0m\u001b[1;33m:\u001b[0m\u001b[1;33m,\u001b[0m\u001b[1;33m:\u001b[0m\u001b[1;33m]\u001b[0m\u001b[1;33m\u001b[0m\u001b[1;33m\u001b[0m\u001b[0m\n\u001b[1;32m----> 4\u001b[1;33m \u001b[0mjac\u001b[0m \u001b[1;33m=\u001b[0m \u001b[0msim\u001b[0m\u001b[1;33m.\u001b[0m\u001b[0mjaccard\u001b[0m\u001b[1;33m(\u001b[0m\u001b[0mtf_idf_test\u001b[0m\u001b[1;33m,\u001b[0m \u001b[0mtf_idf_train\u001b[0m\u001b[1;33m.\u001b[0m\u001b[0mT\u001b[0m\u001b[1;33m,\u001b[0m \u001b[0mk\u001b[0m\u001b[1;33m=\u001b[0m\u001b[1;36m300\u001b[0m\u001b[1;33m)\u001b[0m\u001b[1;33m\u001b[0m\u001b[1;33m\u001b[0m\u001b[0m\n\u001b[0m\u001b[0;32m      5\u001b[0m \u001b[0msave_npz\u001b[0m\u001b[1;33m(\u001b[0m\u001b[1;34m'jaccard_tfidf_phone.npz'\u001b[0m\u001b[1;33m,\u001b[0m \u001b[0mjac\u001b[0m\u001b[1;33m.\u001b[0m\u001b[0mtocsr\u001b[0m\u001b[1;33m(\u001b[0m\u001b[1;33m)\u001b[0m\u001b[1;33m)\u001b[0m\u001b[1;33m\u001b[0m\u001b[1;33m\u001b[0m\u001b[0m\n",
      "\u001b[1;32mc:\\users\\blueace17\\appdata\\local\\programs\\python\\python37\\lib\\site-packages\\similaripy\\similarity.py\u001b[0m in \u001b[0;36mjaccard\u001b[1;34m(matrix1, matrix2, k, shrink, threshold, binary, target_rows, target_cols, filter_cols, verbose, format_output)\u001b[0m\n\u001b[0;32m    128\u001b[0m         \u001b[0mfilter_cols\u001b[0m\u001b[1;33m=\u001b[0m\u001b[0mfilter_cols\u001b[0m\u001b[1;33m,\u001b[0m\u001b[1;33m\u001b[0m\u001b[1;33m\u001b[0m\u001b[0m\n\u001b[0;32m    129\u001b[0m         \u001b[0mverbose\u001b[0m\u001b[1;33m=\u001b[0m\u001b[0mverbose\u001b[0m\u001b[1;33m,\u001b[0m\u001b[1;33m\u001b[0m\u001b[1;33m\u001b[0m\u001b[0m\n\u001b[1;32m--> 130\u001b[1;33m         format_output=format_output) \n\u001b[0m\u001b[0;32m    131\u001b[0m \u001b[1;33m\u001b[0m\u001b[0m\n\u001b[0;32m    132\u001b[0m \u001b[1;33m\u001b[0m\u001b[0m\n",
      "\u001b[1;32mc:\\users\\blueace17\\appdata\\local\\programs\\python\\python37\\lib\\site-packages\\similaripy\\cython_code\\s_plus.pyx\u001b[0m in \u001b[0;36msimilaripy.cython_code.s_plus.s_plus\u001b[1;34m()\u001b[0m\n",
      "\u001b[1;32mc:\\users\\blueace17\\appdata\\local\\programs\\python\\python37\\lib\\site-packages\\tqdm\\_tqdm.py\u001b[0m in \u001b[0;36mrefresh\u001b[1;34m(self, nolock)\u001b[0m\n\u001b[0;32m   1286\u001b[0m             \u001b[0mself\u001b[0m\u001b[1;33m.\u001b[0m\u001b[0m_lock\u001b[0m\u001b[1;33m.\u001b[0m\u001b[0mrelease\u001b[0m\u001b[1;33m(\u001b[0m\u001b[1;33m)\u001b[0m\u001b[1;33m\u001b[0m\u001b[1;33m\u001b[0m\u001b[0m\n\u001b[0;32m   1287\u001b[0m \u001b[1;33m\u001b[0m\u001b[0m\n\u001b[1;32m-> 1288\u001b[1;33m     \u001b[1;32mdef\u001b[0m \u001b[0mrefresh\u001b[0m\u001b[1;33m(\u001b[0m\u001b[0mself\u001b[0m\u001b[1;33m,\u001b[0m \u001b[0mnolock\u001b[0m\u001b[1;33m=\u001b[0m\u001b[1;32mFalse\u001b[0m\u001b[1;33m)\u001b[0m\u001b[1;33m:\u001b[0m\u001b[1;33m\u001b[0m\u001b[1;33m\u001b[0m\u001b[0m\n\u001b[0m\u001b[0;32m   1289\u001b[0m         \"\"\"\n\u001b[0;32m   1290\u001b[0m         \u001b[0mForce\u001b[0m \u001b[0mrefresh\u001b[0m \u001b[0mthe\u001b[0m \u001b[0mdisplay\u001b[0m \u001b[0mof\u001b[0m \u001b[0mthis\u001b[0m \u001b[0mbar\u001b[0m\u001b[1;33m\u001b[0m\u001b[1;33m\u001b[0m\u001b[0m\n",
      "\u001b[1;31mKeyboardInterrupt\u001b[0m: "
     ]
    }
   ],
   "source": [
    "# split\n",
    "tf_idf_train = tf_idf_matrix[:691440,:] # 691440 è la lunghezza del train\n",
    "tf_idf_test = tf_idf_matrix[691440:,:]\n",
    "jac = sim.jaccard(tf_idf_test, tf_idf_train.T, k=300)\n",
    "save_npz('jaccard_tfidf_phone.npz', jac.tocsr())"
   ]
  }
 ],
 "metadata": {
  "kernelspec": {
   "display_name": "Python 3",
   "language": "python",
   "name": "python3"
  },
  "language_info": {
   "codemirror_mode": {
    "name": "ipython",
    "version": 3
   },
   "file_extension": ".py",
   "mimetype": "text/x-python",
   "name": "python",
   "nbconvert_exporter": "python",
   "pygments_lexer": "ipython3",
   "version": "3.7.1"
  }
 },
 "nbformat": 4,
 "nbformat_minor": 2
}
