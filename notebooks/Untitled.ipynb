{
 "cells": [
  {
   "cell_type": "code",
   "execution_count": 1,
   "metadata": {},
   "outputs": [],
   "source": [
    "from tqdm import tqdm\n",
    "from scipy import *\n",
    "from scipy.sparse import *\n",
    "import pandas as pd\n",
    "\n",
    "def get_sub(sim, df_train, df_test, sub_name='mimmo'):\n",
    "    \"\"\"\n",
    "    This function generates a submission-style pandas dataframe from the similarity\n",
    "    and writes the dataframe to a csv file named as the sub_name parameter\n",
    "    : param sim : similarity in CSR format\n",
    "    : param df_train : the train pandas dataframe\n",
    "    : param df_test : the test pandas dataframe\n",
    "    : param sub_name : the name of the file of the submission\n",
    "    : return : the pandas dataframe\n",
    "    \"\"\"\n",
    "    # first make sure df_train and df_test are sorted by record_id\n",
    "    print(\"Sorting dataframes...\")\n",
    "    df_train = df_train.sort_values(by=['record_id']).reset_index(drop=True)\n",
    "    df_test = df_test.sort_values(by=['record_id']).reset_index(drop=True)\n",
    "    # then extract top indices sorting\n",
    "    print(\"Sorting similarity to get top indices...\")\n",
    "    indices = []\n",
    "    for x in tqdm(range(sim.shape[0])):\n",
    "        if x == 0:\n",
    "            indices.append(sim[x].nonzero()[1][sim[x].data[1:].argsort()[::-1]])\n",
    "        else:\n",
    "            indices.append(sim[x].nonzero()[1][sim[x].data.argsort()[::-1]])\n",
    "    linked_id_list = []\n",
    "    num_diff_lin_id = 10\n",
    "    # use indices wrt to loc, much more faster\n",
    "    # avoid drop_duplicates, simply check whether the linked_id is already in the list\n",
    "    dict_index_linked_id =dict(zip(df_train.index, df_train.linked_id))\n",
    "    print(\"Retrieving linked ids from df_train...\")\n",
    "    for x in tqdm(indices):\n",
    "        tmp = []\n",
    "        for l in x:\n",
    "            if len(tmp)<num_diff_lin_id:\n",
    "                ind = dict_index_linked_id[l]\n",
    "                if ind not in tmp:\n",
    "                    tmp.append(ind)\n",
    "            else:\n",
    "                continue\n",
    "        linked_id_list.append(tmp)\n",
    "    # the create sub\n",
    "    print(\"Creating the sub...\")\n",
    "    sub = pd.DataFrame()\n",
    "    sub['queried_record_id'] = df_test.record_id\n",
    "    sub['predicted_record_id'] = linked_id_list\n",
    "    print('Exploding list to string...')\n",
    "    strings = []\n",
    "    for t in tqdm(sub.predicted_record_id):\n",
    "        strings.append(' '.join([str(x) for x in t]))\n",
    "    sub['predicted_record_id'] = strings\n",
    "    print(f\"Writing to {sub_name}.csv...\")\n",
    "    sub.to_csv(f'{sub_name}.csv', index=False)\n",
    "    print('DONE!')\n",
    "    return sub\n"
   ]
  },
  {
   "cell_type": "code",
   "execution_count": 26,
   "metadata": {},
   "outputs": [],
   "source": [
    "s1 = load_npz('../jaccard_tfidf_test_train_300.npz')\n",
    "s2 = load_npz('../jaccard_tfidf_phone.npz')\n",
    "s3 = load_npz('../jaccard_tfidf_email.npz')\n",
    "s4 = load_npz('../jaccard_tfidf_3ngrams_500k.npz')\n",
    "s5 = load_npz('../jaccard_tfidf_phone_500k.npz')\n",
    "s = s4+0.8*s5\n",
    "df_train = pd.read_csv(\"../dataset/original/train.csv\", escapechar=\"\\\\\")\n",
    "df_test = pd.read_csv(\"../dataset/original/test.csv\", escapechar=\"\\\\\")\n",
    "# ALWAYS sort the data by record_id\n",
    "df_train = df_train.sort_values(by=['record_id']).reset_index(drop=True)\n",
    "df_test = df_test.sort_values(by=['record_id']).reset_index(drop=True)"
   ]
  },
  {
   "cell_type": "code",
   "execution_count": 27,
   "metadata": {},
   "outputs": [
    {
     "name": "stdout",
     "output_type": "stream",
     "text": [
      "Sorting dataframes...\n",
      "Sorting similarity to get top indices...\n"
     ]
    },
    {
     "name": "stderr",
     "output_type": "stream",
     "text": [
      "100%|█████████████████████████████████████████████████████████████████| 266955/266955 [00:56<00:00, 4716.04it/s]\n"
     ]
    },
    {
     "name": "stdout",
     "output_type": "stream",
     "text": [
      "Retrieving linked ids from df_train...\n"
     ]
    },
    {
     "name": "stderr",
     "output_type": "stream",
     "text": [
      "100%|█████████████████████████████████████████████████████████████████| 266955/266955 [00:46<00:00, 5766.80it/s]\n"
     ]
    },
    {
     "name": "stdout",
     "output_type": "stream",
     "text": [
      "Creating the sub...\n",
      "Exploding list to string...\n"
     ]
    },
    {
     "name": "stderr",
     "output_type": "stream",
     "text": [
      "100%|███████████████████████████████████████████████████████████████| 266955/266955 [00:00<00:00, 328587.58it/s]\n"
     ]
    },
    {
     "name": "stdout",
     "output_type": "stream",
     "text": [
      "Writing to name_08phone500.csv...\n",
      "DONE!\n"
     ]
    }
   ],
   "source": [
    "ss = get_sub(s, df_train, df_test, 'name_08phone500') "
   ]
  },
  {
   "cell_type": "code",
   "execution_count": 2,
   "metadata": {},
   "outputs": [],
   "source": [
    "df_train = pd.read_csv(\"../dataset/original/train.csv\", escapechar=\"\\\\\")\n",
    "df_test = pd.read_csv(\"../dataset/original/test.csv\", escapechar=\"\\\\\")\n",
    "# ALWAYS sort the data by record_id\n",
    "df_train = df_train.sort_values(by=['record_id']).reset_index(drop=True)\n",
    "df_test = df_test.sort_values(by=['record_id']).reset_index(drop=True)"
   ]
  },
  {
   "cell_type": "code",
   "execution_count": 3,
   "metadata": {},
   "outputs": [
    {
     "data": {
      "text/html": [
       "<div>\n",
       "<style scoped>\n",
       "    .dataframe tbody tr th:only-of-type {\n",
       "        vertical-align: middle;\n",
       "    }\n",
       "\n",
       "    .dataframe tbody tr th {\n",
       "        vertical-align: top;\n",
       "    }\n",
       "\n",
       "    .dataframe thead th {\n",
       "        text-align: right;\n",
       "    }\n",
       "</style>\n",
       "<table border=\"1\" class=\"dataframe\">\n",
       "  <thead>\n",
       "    <tr style=\"text-align: right;\">\n",
       "      <th></th>\n",
       "      <th>record_id</th>\n",
       "      <th>name</th>\n",
       "      <th>type</th>\n",
       "      <th>address</th>\n",
       "      <th>phone</th>\n",
       "      <th>email</th>\n",
       "      <th>modification</th>\n",
       "    </tr>\n",
       "  </thead>\n",
       "  <tbody>\n",
       "    <tr>\n",
       "      <th>0</th>\n",
       "      <td>10000003-TST-MR</td>\n",
       "      <td>HOTFOCUS CO., LTD.</td>\n",
       "      <td>entity</td>\n",
       "      <td>NaN</td>\n",
       "      <td>4.401574e+11</td>\n",
       "      <td>consulting@outlook.ch</td>\n",
       "      <td>move unique</td>\n",
       "    </tr>\n",
       "    <tr>\n",
       "      <th>1</th>\n",
       "      <td>10000008-TST-M</td>\n",
       "      <td>BONUS TRADE LIMITED</td>\n",
       "      <td>entity</td>\n",
       "      <td>NaN</td>\n",
       "      <td>NaN</td>\n",
       "      <td>help@gmail.gov</td>\n",
       "      <td>move row</td>\n",
       "    </tr>\n",
       "    <tr>\n",
       "      <th>2</th>\n",
       "      <td>10000010-TST-CP</td>\n",
       "      <td>NEW IDEA LIMITED</td>\n",
       "      <td>entity</td>\n",
       "      <td>NaN</td>\n",
       "      <td>1.912469e+10</td>\n",
       "      <td>NaN</td>\n",
       "      <td>identical copy</td>\n",
       "    </tr>\n",
       "    <tr>\n",
       "      <th>3</th>\n",
       "      <td>10000013-TST-MR</td>\n",
       "      <td>VICTORY GROUP LIMITED</td>\n",
       "      <td>entity</td>\n",
       "      <td>NaN</td>\n",
       "      <td>1.949506e+10</td>\n",
       "      <td>NaN</td>\n",
       "      <td>move unique</td>\n",
       "    </tr>\n",
       "    <tr>\n",
       "      <th>4</th>\n",
       "      <td>10000016-TST-MR</td>\n",
       "      <td>NINGBO RAPID INTERNATIONAL TRADING CO., LTD.</td>\n",
       "      <td>entity</td>\n",
       "      <td>NaN</td>\n",
       "      <td>4.446512e+11</td>\n",
       "      <td>info@outlook.cz</td>\n",
       "      <td>move unique</td>\n",
       "    </tr>\n",
       "  </tbody>\n",
       "</table>\n",
       "</div>"
      ],
      "text/plain": [
       "         record_id                                          name    type  \\\n",
       "0  10000003-TST-MR                            HOTFOCUS CO., LTD.  entity   \n",
       "1   10000008-TST-M                           BONUS TRADE LIMITED  entity   \n",
       "2  10000010-TST-CP                              NEW IDEA LIMITED  entity   \n",
       "3  10000013-TST-MR                         VICTORY GROUP LIMITED  entity   \n",
       "4  10000016-TST-MR  NINGBO RAPID INTERNATIONAL TRADING CO., LTD.  entity   \n",
       "\n",
       "  address         phone                  email    modification  \n",
       "0     NaN  4.401574e+11  consulting@outlook.ch     move unique  \n",
       "1     NaN           NaN         help@gmail.gov        move row  \n",
       "2     NaN  1.912469e+10                    NaN  identical copy  \n",
       "3     NaN  1.949506e+10                    NaN     move unique  \n",
       "4     NaN  4.446512e+11        info@outlook.cz     move unique  "
      ]
     },
     "execution_count": 3,
     "metadata": {},
     "output_type": "execute_result"
    }
   ],
   "source": [
    "df_test.head()"
   ]
  },
  {
   "cell_type": "code",
   "execution_count": 4,
   "metadata": {},
   "outputs": [],
   "source": [
    "df_test['real_linked_id'] = [str(x).split('-')[0] for x in df_test.record_id]"
   ]
  },
  {
   "cell_type": "code",
   "execution_count": 5,
   "metadata": {},
   "outputs": [
    {
     "data": {
      "text/html": [
       "<div>\n",
       "<style scoped>\n",
       "    .dataframe tbody tr th:only-of-type {\n",
       "        vertical-align: middle;\n",
       "    }\n",
       "\n",
       "    .dataframe tbody tr th {\n",
       "        vertical-align: top;\n",
       "    }\n",
       "\n",
       "    .dataframe thead th {\n",
       "        text-align: right;\n",
       "    }\n",
       "</style>\n",
       "<table border=\"1\" class=\"dataframe\">\n",
       "  <thead>\n",
       "    <tr style=\"text-align: right;\">\n",
       "      <th></th>\n",
       "      <th>record_id</th>\n",
       "      <th>name</th>\n",
       "      <th>type</th>\n",
       "      <th>address</th>\n",
       "      <th>phone</th>\n",
       "      <th>email</th>\n",
       "      <th>modification</th>\n",
       "      <th>real_linked_id</th>\n",
       "    </tr>\n",
       "  </thead>\n",
       "  <tbody>\n",
       "    <tr>\n",
       "      <th>0</th>\n",
       "      <td>10000003-TST-MR</td>\n",
       "      <td>HOTFOCUS CO., LTD.</td>\n",
       "      <td>entity</td>\n",
       "      <td>NaN</td>\n",
       "      <td>4.401574e+11</td>\n",
       "      <td>consulting@outlook.ch</td>\n",
       "      <td>move unique</td>\n",
       "      <td>10000003</td>\n",
       "    </tr>\n",
       "    <tr>\n",
       "      <th>1</th>\n",
       "      <td>10000008-TST-M</td>\n",
       "      <td>BONUS TRADE LIMITED</td>\n",
       "      <td>entity</td>\n",
       "      <td>NaN</td>\n",
       "      <td>NaN</td>\n",
       "      <td>help@gmail.gov</td>\n",
       "      <td>move row</td>\n",
       "      <td>10000008</td>\n",
       "    </tr>\n",
       "    <tr>\n",
       "      <th>2</th>\n",
       "      <td>10000010-TST-CP</td>\n",
       "      <td>NEW IDEA LIMITED</td>\n",
       "      <td>entity</td>\n",
       "      <td>NaN</td>\n",
       "      <td>1.912469e+10</td>\n",
       "      <td>NaN</td>\n",
       "      <td>identical copy</td>\n",
       "      <td>10000010</td>\n",
       "    </tr>\n",
       "    <tr>\n",
       "      <th>3</th>\n",
       "      <td>10000013-TST-MR</td>\n",
       "      <td>VICTORY GROUP LIMITED</td>\n",
       "      <td>entity</td>\n",
       "      <td>NaN</td>\n",
       "      <td>1.949506e+10</td>\n",
       "      <td>NaN</td>\n",
       "      <td>move unique</td>\n",
       "      <td>10000013</td>\n",
       "    </tr>\n",
       "    <tr>\n",
       "      <th>4</th>\n",
       "      <td>10000016-TST-MR</td>\n",
       "      <td>NINGBO RAPID INTERNATIONAL TRADING CO., LTD.</td>\n",
       "      <td>entity</td>\n",
       "      <td>NaN</td>\n",
       "      <td>4.446512e+11</td>\n",
       "      <td>info@outlook.cz</td>\n",
       "      <td>move unique</td>\n",
       "      <td>10000016</td>\n",
       "    </tr>\n",
       "  </tbody>\n",
       "</table>\n",
       "</div>"
      ],
      "text/plain": [
       "         record_id                                          name    type  \\\n",
       "0  10000003-TST-MR                            HOTFOCUS CO., LTD.  entity   \n",
       "1   10000008-TST-M                           BONUS TRADE LIMITED  entity   \n",
       "2  10000010-TST-CP                              NEW IDEA LIMITED  entity   \n",
       "3  10000013-TST-MR                         VICTORY GROUP LIMITED  entity   \n",
       "4  10000016-TST-MR  NINGBO RAPID INTERNATIONAL TRADING CO., LTD.  entity   \n",
       "\n",
       "  address         phone                  email    modification real_linked_id  \n",
       "0     NaN  4.401574e+11  consulting@outlook.ch     move unique       10000003  \n",
       "1     NaN           NaN         help@gmail.gov        move row       10000008  \n",
       "2     NaN  1.912469e+10                    NaN  identical copy       10000010  \n",
       "3     NaN  1.949506e+10                    NaN     move unique       10000013  \n",
       "4     NaN  4.446512e+11        info@outlook.cz     move unique       10000016  "
      ]
     },
     "execution_count": 5,
     "metadata": {},
     "output_type": "execute_result"
    }
   ],
   "source": [
    "df_test.head()"
   ]
  },
  {
   "cell_type": "code",
   "execution_count": 6,
   "metadata": {},
   "outputs": [
    {
     "name": "stderr",
     "output_type": "stream",
     "text": [
      "c:\\users\\blueace17\\appdata\\local\\programs\\python\\python37\\lib\\site-packages\\ipykernel_launcher.py:2: UserWarning: Pandas doesn't allow columns to be created via a new attribute name - see https://pandas.pydata.org/pandas-docs/stable/indexing.html#attribute-access\n",
      "  \n"
     ]
    }
   ],
   "source": [
    "df_test.real_linked_id = df_test.real_linked_id.astype(str) \n",
    "df_train.real_linked_id = df_train.linked_id.astype(str) "
   ]
  },
  {
   "cell_type": "code",
   "execution_count": 7,
   "metadata": {},
   "outputs": [
    {
     "data": {
      "text/plain": [
       "118112"
      ]
     },
     "execution_count": 7,
     "metadata": {},
     "output_type": "execute_result"
    }
   ],
   "source": [
    "len(set(df_test.real_linked_id) - set(df_train.real_linked_id))"
   ]
  },
  {
   "cell_type": "code",
   "execution_count": 11,
   "metadata": {},
   "outputs": [
    {
     "data": {
      "text/plain": [
       "44.24416100091776"
      ]
     },
     "execution_count": 11,
     "metadata": {},
     "output_type": "execute_result"
    }
   ],
   "source": [
    "len(set(df_test.real_linked_id) - set(df_train.real_linked_id)) * 100 / df_test.shape[0]"
   ]
  }
 ],
 "metadata": {
  "kernelspec": {
   "display_name": "Python 3",
   "language": "python",
   "name": "python3"
  },
  "language_info": {
   "codemirror_mode": {
    "name": "ipython",
    "version": 3
   },
   "file_extension": ".py",
   "mimetype": "text/x-python",
   "name": "python",
   "nbconvert_exporter": "python",
   "pygments_lexer": "ipython3",
   "version": "3.7.1"
  }
 },
 "nbformat": 4,
 "nbformat_minor": 2
}
