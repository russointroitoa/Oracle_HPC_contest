{
 "cells": [
  {
   "cell_type": "code",
   "execution_count": 1,
   "metadata": {},
   "outputs": [
    {
     "data": {
      "text/html": [
       "<div>\n",
       "<style scoped>\n",
       "    .dataframe tbody tr th:only-of-type {\n",
       "        vertical-align: middle;\n",
       "    }\n",
       "\n",
       "    .dataframe tbody tr th {\n",
       "        vertical-align: top;\n",
       "    }\n",
       "\n",
       "    .dataframe thead th {\n",
       "        text-align: right;\n",
       "    }\n",
       "</style>\n",
       "<table border=\"1\" class=\"dataframe\">\n",
       "  <thead>\n",
       "    <tr style=\"text-align: right;\">\n",
       "      <th></th>\n",
       "      <th>record_id</th>\n",
       "      <th>name</th>\n",
       "      <th>type</th>\n",
       "      <th>address</th>\n",
       "      <th>phone</th>\n",
       "      <th>email</th>\n",
       "      <th>modification</th>\n",
       "      <th>linked_id</th>\n",
       "    </tr>\n",
       "  </thead>\n",
       "  <tbody>\n",
       "    <tr>\n",
       "      <th>0</th>\n",
       "      <td>10000001</td>\n",
       "      <td>TIANSHENG INDUSTRY AND TRADING CO., LTD.</td>\n",
       "      <td>entity</td>\n",
       "      <td>NaN</td>\n",
       "      <td>3.391448e+11</td>\n",
       "      <td>inquires@TIANSHENG.INDUSTRY.AND.TRADING.CO.LTD.de</td>\n",
       "      <td>original</td>\n",
       "      <td>10000001</td>\n",
       "    </tr>\n",
       "    <tr>\n",
       "      <th>1</th>\n",
       "      <td>10000002</td>\n",
       "      <td>NINGBO SUNRISE ENTERPRISES UNITED CO., LTD.</td>\n",
       "      <td>entity</td>\n",
       "      <td>NaN</td>\n",
       "      <td>1.813704e+10</td>\n",
       "      <td>consulting@zoho.cz</td>\n",
       "      <td>original</td>\n",
       "      <td>10000002</td>\n",
       "    </tr>\n",
       "    <tr>\n",
       "      <th>2</th>\n",
       "      <td>10000002-M0</td>\n",
       "      <td>NINGBO SUNRISE ENTERPRISES UNITED CO., LTD.</td>\n",
       "      <td>entity</td>\n",
       "      <td>NaN</td>\n",
       "      <td>1.813704e+10</td>\n",
       "      <td>NaN</td>\n",
       "      <td>missing</td>\n",
       "      <td>10000002</td>\n",
       "    </tr>\n",
       "    <tr>\n",
       "      <th>3</th>\n",
       "      <td>10000002-M1</td>\n",
       "      <td>NINGBO SUNRISE ENTERPRISES UNITED CO., LTD.</td>\n",
       "      <td>entity</td>\n",
       "      <td>NaN</td>\n",
       "      <td>NaN</td>\n",
       "      <td>NaN</td>\n",
       "      <td>missing</td>\n",
       "      <td>10000002</td>\n",
       "    </tr>\n",
       "    <tr>\n",
       "      <th>4</th>\n",
       "      <td>10000004</td>\n",
       "      <td>SKY-BLUE GIFTS &amp; TOYS CO., LTD.</td>\n",
       "      <td>entity</td>\n",
       "      <td>NaN</td>\n",
       "      <td>NaN</td>\n",
       "      <td>NaN</td>\n",
       "      <td>original</td>\n",
       "      <td>10000004</td>\n",
       "    </tr>\n",
       "  </tbody>\n",
       "</table>\n",
       "</div>"
      ],
      "text/plain": [
       "     record_id                                         name    type address  \\\n",
       "0     10000001     TIANSHENG INDUSTRY AND TRADING CO., LTD.  entity     NaN   \n",
       "1     10000002  NINGBO SUNRISE ENTERPRISES UNITED CO., LTD.  entity     NaN   \n",
       "2  10000002-M0  NINGBO SUNRISE ENTERPRISES UNITED CO., LTD.  entity     NaN   \n",
       "3  10000002-M1  NINGBO SUNRISE ENTERPRISES UNITED CO., LTD.  entity     NaN   \n",
       "4     10000004              SKY-BLUE GIFTS & TOYS CO., LTD.  entity     NaN   \n",
       "\n",
       "          phone                                              email  \\\n",
       "0  3.391448e+11  inquires@TIANSHENG.INDUSTRY.AND.TRADING.CO.LTD.de   \n",
       "1  1.813704e+10                                 consulting@zoho.cz   \n",
       "2  1.813704e+10                                                NaN   \n",
       "3           NaN                                                NaN   \n",
       "4           NaN                                                NaN   \n",
       "\n",
       "  modification  linked_id  \n",
       "0     original   10000001  \n",
       "1     original   10000002  \n",
       "2      missing   10000002  \n",
       "3      missing   10000002  \n",
       "4     original   10000004  "
      ]
     },
     "execution_count": 1,
     "metadata": {},
     "output_type": "execute_result"
    }
   ],
   "source": [
    "import pandas as pd\n",
    "tr = pd.read_csv('../dataset/original/train.csv', escapechar='\\\\')\n",
    "tr = tr.sort_values(by=['record_id']).reset_index(drop=True)\n",
    "tr.head()"
   ]
  },
  {
   "cell_type": "code",
   "execution_count": 2,
   "metadata": {},
   "outputs": [
    {
     "data": {
      "text/html": [
       "<div>\n",
       "<style scoped>\n",
       "    .dataframe tbody tr th:only-of-type {\n",
       "        vertical-align: middle;\n",
       "    }\n",
       "\n",
       "    .dataframe tbody tr th {\n",
       "        vertical-align: top;\n",
       "    }\n",
       "\n",
       "    .dataframe thead th {\n",
       "        text-align: right;\n",
       "    }\n",
       "</style>\n",
       "<table border=\"1\" class=\"dataframe\">\n",
       "  <thead>\n",
       "    <tr style=\"text-align: right;\">\n",
       "      <th></th>\n",
       "      <th>record_id</th>\n",
       "      <th>name</th>\n",
       "      <th>type</th>\n",
       "      <th>address</th>\n",
       "      <th>phone</th>\n",
       "      <th>email</th>\n",
       "      <th>modification</th>\n",
       "      <th>linked_id</th>\n",
       "    </tr>\n",
       "  </thead>\n",
       "  <tbody>\n",
       "    <tr>\n",
       "      <th>691390</th>\n",
       "      <td>15001801-M0</td>\n",
       "      <td>Clive Khulubuse Zuma</td>\n",
       "      <td>officer</td>\n",
       "      <td>NaN</td>\n",
       "      <td>4.918253e+10</td>\n",
       "      <td>NaN</td>\n",
       "      <td>missing</td>\n",
       "      <td>15001801</td>\n",
       "    </tr>\n",
       "    <tr>\n",
       "      <th>691391</th>\n",
       "      <td>15001801-M1</td>\n",
       "      <td>Clive Khulubuse Zuma</td>\n",
       "      <td>officer</td>\n",
       "      <td>NaN</td>\n",
       "      <td>4.918253e+10</td>\n",
       "      <td>NaN</td>\n",
       "      <td>missing</td>\n",
       "      <td>15001801</td>\n",
       "    </tr>\n",
       "    <tr>\n",
       "      <th>691392</th>\n",
       "      <td>15001801-T0</td>\n",
       "      <td>Clive Khulubuse Zuma</td>\n",
       "      <td>officer</td>\n",
       "      <td>NaN</td>\n",
       "      <td>4.918253e+10</td>\n",
       "      <td>NaN</td>\n",
       "      <td>typo</td>\n",
       "      <td>15001801</td>\n",
       "    </tr>\n",
       "    <tr>\n",
       "      <th>691393</th>\n",
       "      <td>15001902</td>\n",
       "      <td>Hasan Nawaz Sharif</td>\n",
       "      <td>officer</td>\n",
       "      <td>NaN</td>\n",
       "      <td>3.345135e+11</td>\n",
       "      <td>NaN</td>\n",
       "      <td>original</td>\n",
       "      <td>15001902</td>\n",
       "    </tr>\n",
       "    <tr>\n",
       "      <th>691394</th>\n",
       "      <td>15002201</td>\n",
       "      <td>Mohammad Mustafa</td>\n",
       "      <td>officer</td>\n",
       "      <td>NaN</td>\n",
       "      <td>NaN</td>\n",
       "      <td>MohammadMustafa@icloud.ch</td>\n",
       "      <td>original</td>\n",
       "      <td>15002201</td>\n",
       "    </tr>\n",
       "    <tr>\n",
       "      <th>691395</th>\n",
       "      <td>15002201-M0</td>\n",
       "      <td>Mohammad Mustafa</td>\n",
       "      <td>officer</td>\n",
       "      <td>NaN</td>\n",
       "      <td>NaN</td>\n",
       "      <td>NaN</td>\n",
       "      <td>missing</td>\n",
       "      <td>15002201</td>\n",
       "    </tr>\n",
       "    <tr>\n",
       "      <th>691396</th>\n",
       "      <td>15002201-M1</td>\n",
       "      <td>Mohammad Mustafa</td>\n",
       "      <td>officer</td>\n",
       "      <td>NaN</td>\n",
       "      <td>NaN</td>\n",
       "      <td>MohammadMustafa@icloud.ch</td>\n",
       "      <td>missing</td>\n",
       "      <td>15002201</td>\n",
       "    </tr>\n",
       "    <tr>\n",
       "      <th>691397</th>\n",
       "      <td>15002201-M2</td>\n",
       "      <td>Mohammad Mustafa</td>\n",
       "      <td>officer</td>\n",
       "      <td>NaN</td>\n",
       "      <td>NaN</td>\n",
       "      <td>NaN</td>\n",
       "      <td>missing</td>\n",
       "      <td>15002201</td>\n",
       "    </tr>\n",
       "    <tr>\n",
       "      <th>691398</th>\n",
       "      <td>15002501</td>\n",
       "      <td>José Maria Botelho de Vasconcelos</td>\n",
       "      <td>officer</td>\n",
       "      <td>NaN</td>\n",
       "      <td>3.918951e+09</td>\n",
       "      <td>NaN</td>\n",
       "      <td>original</td>\n",
       "      <td>15002501</td>\n",
       "    </tr>\n",
       "    <tr>\n",
       "      <th>691399</th>\n",
       "      <td>15002701</td>\n",
       "      <td>Mauricio Macri</td>\n",
       "      <td>officer</td>\n",
       "      <td>NaN</td>\n",
       "      <td>4.173633e+12</td>\n",
       "      <td>MauricioMacri@zoho.gov</td>\n",
       "      <td>original</td>\n",
       "      <td>15002701</td>\n",
       "    </tr>\n",
       "    <tr>\n",
       "      <th>691400</th>\n",
       "      <td>15003401</td>\n",
       "      <td>Anurag Kejriwal</td>\n",
       "      <td>officer</td>\n",
       "      <td>NaN</td>\n",
       "      <td>NaN</td>\n",
       "      <td>NaN</td>\n",
       "      <td>original</td>\n",
       "      <td>15003401</td>\n",
       "    </tr>\n",
       "    <tr>\n",
       "      <th>691401</th>\n",
       "      <td>15003401-T0</td>\n",
       "      <td>Anurag Kejrmwal</td>\n",
       "      <td>officer</td>\n",
       "      <td>NaN</td>\n",
       "      <td>NaN</td>\n",
       "      <td>NaN</td>\n",
       "      <td>typo</td>\n",
       "      <td>15003401</td>\n",
       "    </tr>\n",
       "    <tr>\n",
       "      <th>691402</th>\n",
       "      <td>15003401-T1</td>\n",
       "      <td>Anyrag Kejriwal</td>\n",
       "      <td>officer</td>\n",
       "      <td>NaN</td>\n",
       "      <td>NaN</td>\n",
       "      <td>NaN</td>\n",
       "      <td>typo</td>\n",
       "      <td>15003401</td>\n",
       "    </tr>\n",
       "    <tr>\n",
       "      <th>691403</th>\n",
       "      <td>15003401-T2</td>\n",
       "      <td>Anurae Kejriwal</td>\n",
       "      <td>officer</td>\n",
       "      <td>NaN</td>\n",
       "      <td>NaN</td>\n",
       "      <td>NaN</td>\n",
       "      <td>typo</td>\n",
       "      <td>15003401</td>\n",
       "    </tr>\n",
       "    <tr>\n",
       "      <th>691404</th>\n",
       "      <td>15003501</td>\n",
       "      <td>Khalifa bin Zayed bin Sultan Al Nahyan</td>\n",
       "      <td>officer</td>\n",
       "      <td>NaN</td>\n",
       "      <td>NaN</td>\n",
       "      <td>NaN</td>\n",
       "      <td>original</td>\n",
       "      <td>15003501</td>\n",
       "    </tr>\n",
       "    <tr>\n",
       "      <th>691405</th>\n",
       "      <td>15003701</td>\n",
       "      <td>Juan Armando Hinojosa</td>\n",
       "      <td>officer</td>\n",
       "      <td>NaN</td>\n",
       "      <td>4.130422e+12</td>\n",
       "      <td>info@yahoo.cz</td>\n",
       "      <td>original</td>\n",
       "      <td>15003701</td>\n",
       "    </tr>\n",
       "    <tr>\n",
       "      <th>691406</th>\n",
       "      <td>15004001</td>\n",
       "      <td>João Lyra</td>\n",
       "      <td>officer</td>\n",
       "      <td>NaN</td>\n",
       "      <td>4.978747e+10</td>\n",
       "      <td>NaN</td>\n",
       "      <td>original</td>\n",
       "      <td>15004001</td>\n",
       "    </tr>\n",
       "    <tr>\n",
       "      <th>691407</th>\n",
       "      <td>15004001-M0</td>\n",
       "      <td>João Lyra</td>\n",
       "      <td>officer</td>\n",
       "      <td>NaN</td>\n",
       "      <td>4.978747e+10</td>\n",
       "      <td>NaN</td>\n",
       "      <td>missing</td>\n",
       "      <td>15004001</td>\n",
       "    </tr>\n",
       "    <tr>\n",
       "      <th>691408</th>\n",
       "      <td>15004001-M1</td>\n",
       "      <td>João Lyra</td>\n",
       "      <td>officer</td>\n",
       "      <td>NaN</td>\n",
       "      <td>NaN</td>\n",
       "      <td>NaN</td>\n",
       "      <td>missing</td>\n",
       "      <td>15004001</td>\n",
       "    </tr>\n",
       "    <tr>\n",
       "      <th>691409</th>\n",
       "      <td>15004001-M2</td>\n",
       "      <td>João Lyra</td>\n",
       "      <td>officer</td>\n",
       "      <td>NaN</td>\n",
       "      <td>NaN</td>\n",
       "      <td>NaN</td>\n",
       "      <td>missing</td>\n",
       "      <td>15004001</td>\n",
       "    </tr>\n",
       "    <tr>\n",
       "      <th>691410</th>\n",
       "      <td>15004001-NV0</td>\n",
       "      <td>João Lyra</td>\n",
       "      <td>officer</td>\n",
       "      <td>80 MINGZE STREET; DALIAN; P.R. CHINA</td>\n",
       "      <td>4.167459e+12</td>\n",
       "      <td>NaN</td>\n",
       "      <td>new_value</td>\n",
       "      <td>15004001</td>\n",
       "    </tr>\n",
       "    <tr>\n",
       "      <th>691411</th>\n",
       "      <td>15004001-NV1</td>\n",
       "      <td>João Lyra</td>\n",
       "      <td>officer</td>\n",
       "      <td>NaN</td>\n",
       "      <td>4.167459e+12</td>\n",
       "      <td>NaN</td>\n",
       "      <td>new_value</td>\n",
       "      <td>15004001</td>\n",
       "    </tr>\n",
       "    <tr>\n",
       "      <th>691412</th>\n",
       "      <td>15004001-T0</td>\n",
       "      <td>João Lyra</td>\n",
       "      <td>officer</td>\n",
       "      <td>NaN</td>\n",
       "      <td>4.978747e+10</td>\n",
       "      <td>NaN</td>\n",
       "      <td>typo</td>\n",
       "      <td>15004001</td>\n",
       "    </tr>\n",
       "    <tr>\n",
       "      <th>691413</th>\n",
       "      <td>15004001-T1</td>\n",
       "      <td>João Lyra</td>\n",
       "      <td>officer</td>\n",
       "      <td>NaN</td>\n",
       "      <td>4.908747e+10</td>\n",
       "      <td>NaN</td>\n",
       "      <td>typo</td>\n",
       "      <td>15004001</td>\n",
       "    </tr>\n",
       "    <tr>\n",
       "      <th>691414</th>\n",
       "      <td>15004001-T2</td>\n",
       "      <td>João Lyra</td>\n",
       "      <td>officer</td>\n",
       "      <td>NaN</td>\n",
       "      <td>4.978747e+10</td>\n",
       "      <td>NaN</td>\n",
       "      <td>typo</td>\n",
       "      <td>15004001</td>\n",
       "    </tr>\n",
       "    <tr>\n",
       "      <th>691415</th>\n",
       "      <td>15004001-T4</td>\n",
       "      <td>unãopLyra</td>\n",
       "      <td>officer</td>\n",
       "      <td>NaN</td>\n",
       "      <td>4.978747e+10</td>\n",
       "      <td>NaN</td>\n",
       "      <td>typo</td>\n",
       "      <td>15004001</td>\n",
       "    </tr>\n",
       "    <tr>\n",
       "      <th>691416</th>\n",
       "      <td>15004801</td>\n",
       "      <td>Néstor Grindetti</td>\n",
       "      <td>officer</td>\n",
       "      <td>NaN</td>\n",
       "      <td>NaN</td>\n",
       "      <td>NestorGrindetti@gmail.ch</td>\n",
       "      <td>original</td>\n",
       "      <td>15004801</td>\n",
       "    </tr>\n",
       "    <tr>\n",
       "      <th>691417</th>\n",
       "      <td>15004801-NV0</td>\n",
       "      <td>Néstor Grindetti</td>\n",
       "      <td>officer</td>\n",
       "      <td>NaN</td>\n",
       "      <td>NaN</td>\n",
       "      <td>NestorGrindetti@gmail.ch</td>\n",
       "      <td>new_value</td>\n",
       "      <td>15004801</td>\n",
       "    </tr>\n",
       "    <tr>\n",
       "      <th>691418</th>\n",
       "      <td>15005001</td>\n",
       "      <td>Mehriban Aliyeva</td>\n",
       "      <td>officer</td>\n",
       "      <td>NaN</td>\n",
       "      <td>4.124248e+12</td>\n",
       "      <td>NaN</td>\n",
       "      <td>original</td>\n",
       "      <td>15005001</td>\n",
       "    </tr>\n",
       "    <tr>\n",
       "      <th>691419</th>\n",
       "      <td>15005001-T0</td>\n",
       "      <td>Mehriban Aliyeva</td>\n",
       "      <td>officer</td>\n",
       "      <td>NaN</td>\n",
       "      <td>4.124248e+12</td>\n",
       "      <td>NaN</td>\n",
       "      <td>typo</td>\n",
       "      <td>15005001</td>\n",
       "    </tr>\n",
       "    <tr>\n",
       "      <th>691420</th>\n",
       "      <td>15005001-T1</td>\n",
       "      <td>wehribansAgiyeva</td>\n",
       "      <td>officer</td>\n",
       "      <td>NaN</td>\n",
       "      <td>3.144248e+12</td>\n",
       "      <td>NaN</td>\n",
       "      <td>typo</td>\n",
       "      <td>15005001</td>\n",
       "    </tr>\n",
       "    <tr>\n",
       "      <th>691421</th>\n",
       "      <td>15005501-T0</td>\n",
       "      <td>Alfredo Ovalle Rodríguez</td>\n",
       "      <td>officer</td>\n",
       "      <td>NaN</td>\n",
       "      <td>1.097098e+10</td>\n",
       "      <td>NaN</td>\n",
       "      <td>typo</td>\n",
       "      <td>15005501</td>\n",
       "    </tr>\n",
       "    <tr>\n",
       "      <th>691422</th>\n",
       "      <td>15005501-T1</td>\n",
       "      <td>Alfredo Ovalle Rodrígrez</td>\n",
       "      <td>officer</td>\n",
       "      <td>NaN</td>\n",
       "      <td>1.097099e+10</td>\n",
       "      <td>NaN</td>\n",
       "      <td>typo</td>\n",
       "      <td>15005501</td>\n",
       "    </tr>\n",
       "    <tr>\n",
       "      <th>691423</th>\n",
       "      <td>15005501-T2</td>\n",
       "      <td>Alfredo Ovalle Rodríguez</td>\n",
       "      <td>officer</td>\n",
       "      <td>NaN</td>\n",
       "      <td>1.097098e+10</td>\n",
       "      <td>NaN</td>\n",
       "      <td>typo</td>\n",
       "      <td>15005501</td>\n",
       "    </tr>\n",
       "    <tr>\n",
       "      <th>691424</th>\n",
       "      <td>15005501-T3</td>\n",
       "      <td>Alfredo Ovalle Rodríguez</td>\n",
       "      <td>officer</td>\n",
       "      <td>NaN</td>\n",
       "      <td>1.036098e+10</td>\n",
       "      <td>NaN</td>\n",
       "      <td>typo</td>\n",
       "      <td>15005501</td>\n",
       "    </tr>\n",
       "    <tr>\n",
       "      <th>691425</th>\n",
       "      <td>15005501-T4</td>\n",
       "      <td>Alfredo Ovalle Rodríguez</td>\n",
       "      <td>officer</td>\n",
       "      <td>NaN</td>\n",
       "      <td>1.097099e+10</td>\n",
       "      <td>NaN</td>\n",
       "      <td>typo</td>\n",
       "      <td>15005501</td>\n",
       "    </tr>\n",
       "    <tr>\n",
       "      <th>691426</th>\n",
       "      <td>15005801</td>\n",
       "      <td>Ahmad Ali al-Mirghani</td>\n",
       "      <td>officer</td>\n",
       "      <td>NaN</td>\n",
       "      <td>NaN</td>\n",
       "      <td>AhmadAlial-Mirghani@gmail.de</td>\n",
       "      <td>original</td>\n",
       "      <td>15005801</td>\n",
       "    </tr>\n",
       "    <tr>\n",
       "      <th>691427</th>\n",
       "      <td>15005901</td>\n",
       "      <td>Galo Chiriboga</td>\n",
       "      <td>officer</td>\n",
       "      <td>NaN</td>\n",
       "      <td>4.135358e+12</td>\n",
       "      <td>NaN</td>\n",
       "      <td>original</td>\n",
       "      <td>15005901</td>\n",
       "    </tr>\n",
       "    <tr>\n",
       "      <th>691428</th>\n",
       "      <td>15006301</td>\n",
       "      <td>Mounir Majidi</td>\n",
       "      <td>officer</td>\n",
       "      <td>NaN</td>\n",
       "      <td>3.363776e+11</td>\n",
       "      <td>NaN</td>\n",
       "      <td>original</td>\n",
       "      <td>15006301</td>\n",
       "    </tr>\n",
       "    <tr>\n",
       "      <th>691429</th>\n",
       "      <td>15006301-T0</td>\n",
       "      <td>Mounir Majidi</td>\n",
       "      <td>officer</td>\n",
       "      <td>NaN</td>\n",
       "      <td>3.363776e+11</td>\n",
       "      <td>NaN</td>\n",
       "      <td>typo</td>\n",
       "      <td>15006301</td>\n",
       "    </tr>\n",
       "    <tr>\n",
       "      <th>691430</th>\n",
       "      <td>15006301-T1</td>\n",
       "      <td>MounirsMajidi</td>\n",
       "      <td>officer</td>\n",
       "      <td>NaN</td>\n",
       "      <td>3.363776e+11</td>\n",
       "      <td>NaN</td>\n",
       "      <td>typo</td>\n",
       "      <td>15006301</td>\n",
       "    </tr>\n",
       "    <tr>\n",
       "      <th>691431</th>\n",
       "      <td>15006301-T2</td>\n",
       "      <td>Mounir umjidx</td>\n",
       "      <td>officer</td>\n",
       "      <td>NaN</td>\n",
       "      <td>3.363076e+11</td>\n",
       "      <td>NaN</td>\n",
       "      <td>typo</td>\n",
       "      <td>15006301</td>\n",
       "    </tr>\n",
       "    <tr>\n",
       "      <th>691432</th>\n",
       "      <td>15006401</td>\n",
       "      <td>Jesús Villanueva</td>\n",
       "      <td>officer</td>\n",
       "      <td>NaN</td>\n",
       "      <td>4.163753e+12</td>\n",
       "      <td>NaN</td>\n",
       "      <td>original</td>\n",
       "      <td>15006401</td>\n",
       "    </tr>\n",
       "    <tr>\n",
       "      <th>691433</th>\n",
       "      <td>15006701</td>\n",
       "      <td>Ólöf Nordal</td>\n",
       "      <td>officer</td>\n",
       "      <td>NaN</td>\n",
       "      <td>4.912080e+10</td>\n",
       "      <td>OlofNordal@yahoo.it</td>\n",
       "      <td>original</td>\n",
       "      <td>15006701</td>\n",
       "    </tr>\n",
       "    <tr>\n",
       "      <th>691434</th>\n",
       "      <td>15007201</td>\n",
       "      <td>Arkady Rotenberg</td>\n",
       "      <td>officer</td>\n",
       "      <td>NaN</td>\n",
       "      <td>3.374887e+11</td>\n",
       "      <td>NaN</td>\n",
       "      <td>original</td>\n",
       "      <td>15007201</td>\n",
       "    </tr>\n",
       "    <tr>\n",
       "      <th>691435</th>\n",
       "      <td>15007202</td>\n",
       "      <td>Boris Rotenberg</td>\n",
       "      <td>officer</td>\n",
       "      <td>NaN</td>\n",
       "      <td>NaN</td>\n",
       "      <td>BorisRotenberg@gmail.gov</td>\n",
       "      <td>original</td>\n",
       "      <td>15007202</td>\n",
       "    </tr>\n",
       "    <tr>\n",
       "      <th>691436</th>\n",
       "      <td>15007202-M0</td>\n",
       "      <td>Boris Rotenberg</td>\n",
       "      <td>officer</td>\n",
       "      <td>NaN</td>\n",
       "      <td>NaN</td>\n",
       "      <td>NaN</td>\n",
       "      <td>missing</td>\n",
       "      <td>15007202</td>\n",
       "    </tr>\n",
       "    <tr>\n",
       "      <th>691437</th>\n",
       "      <td>15007202-M1</td>\n",
       "      <td>Boris Rotenberg</td>\n",
       "      <td>officer</td>\n",
       "      <td>NaN</td>\n",
       "      <td>NaN</td>\n",
       "      <td>NaN</td>\n",
       "      <td>missing</td>\n",
       "      <td>15007202</td>\n",
       "    </tr>\n",
       "    <tr>\n",
       "      <th>691438</th>\n",
       "      <td>15007401</td>\n",
       "      <td>Jean-Claude N’Da Ametchi</td>\n",
       "      <td>officer</td>\n",
       "      <td>NaN</td>\n",
       "      <td>4.954055e+10</td>\n",
       "      <td>NaN</td>\n",
       "      <td>original</td>\n",
       "      <td>15007401</td>\n",
       "    </tr>\n",
       "    <tr>\n",
       "      <th>691439</th>\n",
       "      <td>15007401-M0</td>\n",
       "      <td>Jean-Claude N’Da Ametchi</td>\n",
       "      <td>officer</td>\n",
       "      <td>NaN</td>\n",
       "      <td>NaN</td>\n",
       "      <td>NaN</td>\n",
       "      <td>missing</td>\n",
       "      <td>15007401</td>\n",
       "    </tr>\n",
       "  </tbody>\n",
       "</table>\n",
       "</div>"
      ],
      "text/plain": [
       "           record_id                                    name     type  \\\n",
       "691390   15001801-M0                    Clive Khulubuse Zuma  officer   \n",
       "691391   15001801-M1                    Clive Khulubuse Zuma  officer   \n",
       "691392   15001801-T0                    Clive Khulubuse Zuma  officer   \n",
       "691393      15001902                      Hasan Nawaz Sharif  officer   \n",
       "691394      15002201                        Mohammad Mustafa  officer   \n",
       "691395   15002201-M0                        Mohammad Mustafa  officer   \n",
       "691396   15002201-M1                        Mohammad Mustafa  officer   \n",
       "691397   15002201-M2                        Mohammad Mustafa  officer   \n",
       "691398      15002501       José Maria Botelho de Vasconcelos  officer   \n",
       "691399      15002701                          Mauricio Macri  officer   \n",
       "691400      15003401                         Anurag Kejriwal  officer   \n",
       "691401   15003401-T0                         Anurag Kejrmwal  officer   \n",
       "691402   15003401-T1                         Anyrag Kejriwal  officer   \n",
       "691403   15003401-T2                         Anurae Kejriwal  officer   \n",
       "691404      15003501  Khalifa bin Zayed bin Sultan Al Nahyan  officer   \n",
       "691405      15003701                   Juan Armando Hinojosa  officer   \n",
       "691406      15004001                               João Lyra  officer   \n",
       "691407   15004001-M0                               João Lyra  officer   \n",
       "691408   15004001-M1                               João Lyra  officer   \n",
       "691409   15004001-M2                               João Lyra  officer   \n",
       "691410  15004001-NV0                               João Lyra  officer   \n",
       "691411  15004001-NV1                               João Lyra  officer   \n",
       "691412   15004001-T0                               João Lyra  officer   \n",
       "691413   15004001-T1                               João Lyra  officer   \n",
       "691414   15004001-T2                               João Lyra  officer   \n",
       "691415   15004001-T4                               unãopLyra  officer   \n",
       "691416      15004801                        Néstor Grindetti  officer   \n",
       "691417  15004801-NV0                        Néstor Grindetti  officer   \n",
       "691418      15005001                        Mehriban Aliyeva  officer   \n",
       "691419   15005001-T0                        Mehriban Aliyeva  officer   \n",
       "691420   15005001-T1                        wehribansAgiyeva  officer   \n",
       "691421   15005501-T0                Alfredo Ovalle Rodríguez  officer   \n",
       "691422   15005501-T1                Alfredo Ovalle Rodrígrez  officer   \n",
       "691423   15005501-T2                Alfredo Ovalle Rodríguez  officer   \n",
       "691424   15005501-T3                Alfredo Ovalle Rodríguez  officer   \n",
       "691425   15005501-T4                Alfredo Ovalle Rodríguez  officer   \n",
       "691426      15005801                   Ahmad Ali al-Mirghani  officer   \n",
       "691427      15005901                          Galo Chiriboga  officer   \n",
       "691428      15006301                           Mounir Majidi  officer   \n",
       "691429   15006301-T0                           Mounir Majidi  officer   \n",
       "691430   15006301-T1                           MounirsMajidi  officer   \n",
       "691431   15006301-T2                           Mounir umjidx  officer   \n",
       "691432      15006401                        Jesús Villanueva  officer   \n",
       "691433      15006701                             Ólöf Nordal  officer   \n",
       "691434      15007201                        Arkady Rotenberg  officer   \n",
       "691435      15007202                         Boris Rotenberg  officer   \n",
       "691436   15007202-M0                         Boris Rotenberg  officer   \n",
       "691437   15007202-M1                         Boris Rotenberg  officer   \n",
       "691438      15007401                Jean-Claude N’Da Ametchi  officer   \n",
       "691439   15007401-M0                Jean-Claude N’Da Ametchi  officer   \n",
       "\n",
       "                                     address         phone  \\\n",
       "691390                                   NaN  4.918253e+10   \n",
       "691391                                   NaN  4.918253e+10   \n",
       "691392                                   NaN  4.918253e+10   \n",
       "691393                                   NaN  3.345135e+11   \n",
       "691394                                   NaN           NaN   \n",
       "691395                                   NaN           NaN   \n",
       "691396                                   NaN           NaN   \n",
       "691397                                   NaN           NaN   \n",
       "691398                                   NaN  3.918951e+09   \n",
       "691399                                   NaN  4.173633e+12   \n",
       "691400                                   NaN           NaN   \n",
       "691401                                   NaN           NaN   \n",
       "691402                                   NaN           NaN   \n",
       "691403                                   NaN           NaN   \n",
       "691404                                   NaN           NaN   \n",
       "691405                                   NaN  4.130422e+12   \n",
       "691406                                   NaN  4.978747e+10   \n",
       "691407                                   NaN  4.978747e+10   \n",
       "691408                                   NaN           NaN   \n",
       "691409                                   NaN           NaN   \n",
       "691410  80 MINGZE STREET; DALIAN; P.R. CHINA  4.167459e+12   \n",
       "691411                                   NaN  4.167459e+12   \n",
       "691412                                   NaN  4.978747e+10   \n",
       "691413                                   NaN  4.908747e+10   \n",
       "691414                                   NaN  4.978747e+10   \n",
       "691415                                   NaN  4.978747e+10   \n",
       "691416                                   NaN           NaN   \n",
       "691417                                   NaN           NaN   \n",
       "691418                                   NaN  4.124248e+12   \n",
       "691419                                   NaN  4.124248e+12   \n",
       "691420                                   NaN  3.144248e+12   \n",
       "691421                                   NaN  1.097098e+10   \n",
       "691422                                   NaN  1.097099e+10   \n",
       "691423                                   NaN  1.097098e+10   \n",
       "691424                                   NaN  1.036098e+10   \n",
       "691425                                   NaN  1.097099e+10   \n",
       "691426                                   NaN           NaN   \n",
       "691427                                   NaN  4.135358e+12   \n",
       "691428                                   NaN  3.363776e+11   \n",
       "691429                                   NaN  3.363776e+11   \n",
       "691430                                   NaN  3.363776e+11   \n",
       "691431                                   NaN  3.363076e+11   \n",
       "691432                                   NaN  4.163753e+12   \n",
       "691433                                   NaN  4.912080e+10   \n",
       "691434                                   NaN  3.374887e+11   \n",
       "691435                                   NaN           NaN   \n",
       "691436                                   NaN           NaN   \n",
       "691437                                   NaN           NaN   \n",
       "691438                                   NaN  4.954055e+10   \n",
       "691439                                   NaN           NaN   \n",
       "\n",
       "                               email modification  linked_id  \n",
       "691390                           NaN      missing   15001801  \n",
       "691391                           NaN      missing   15001801  \n",
       "691392                           NaN         typo   15001801  \n",
       "691393                           NaN     original   15001902  \n",
       "691394     MohammadMustafa@icloud.ch     original   15002201  \n",
       "691395                           NaN      missing   15002201  \n",
       "691396     MohammadMustafa@icloud.ch      missing   15002201  \n",
       "691397                           NaN      missing   15002201  \n",
       "691398                           NaN     original   15002501  \n",
       "691399        MauricioMacri@zoho.gov     original   15002701  \n",
       "691400                           NaN     original   15003401  \n",
       "691401                           NaN         typo   15003401  \n",
       "691402                           NaN         typo   15003401  \n",
       "691403                           NaN         typo   15003401  \n",
       "691404                           NaN     original   15003501  \n",
       "691405                 info@yahoo.cz     original   15003701  \n",
       "691406                           NaN     original   15004001  \n",
       "691407                           NaN      missing   15004001  \n",
       "691408                           NaN      missing   15004001  \n",
       "691409                           NaN      missing   15004001  \n",
       "691410                           NaN    new_value   15004001  \n",
       "691411                           NaN    new_value   15004001  \n",
       "691412                           NaN         typo   15004001  \n",
       "691413                           NaN         typo   15004001  \n",
       "691414                           NaN         typo   15004001  \n",
       "691415                           NaN         typo   15004001  \n",
       "691416      NestorGrindetti@gmail.ch     original   15004801  \n",
       "691417      NestorGrindetti@gmail.ch    new_value   15004801  \n",
       "691418                           NaN     original   15005001  \n",
       "691419                           NaN         typo   15005001  \n",
       "691420                           NaN         typo   15005001  \n",
       "691421                           NaN         typo   15005501  \n",
       "691422                           NaN         typo   15005501  \n",
       "691423                           NaN         typo   15005501  \n",
       "691424                           NaN         typo   15005501  \n",
       "691425                           NaN         typo   15005501  \n",
       "691426  AhmadAlial-Mirghani@gmail.de     original   15005801  \n",
       "691427                           NaN     original   15005901  \n",
       "691428                           NaN     original   15006301  \n",
       "691429                           NaN         typo   15006301  \n",
       "691430                           NaN         typo   15006301  \n",
       "691431                           NaN         typo   15006301  \n",
       "691432                           NaN     original   15006401  \n",
       "691433           OlofNordal@yahoo.it     original   15006701  \n",
       "691434                           NaN     original   15007201  \n",
       "691435      BorisRotenberg@gmail.gov     original   15007202  \n",
       "691436                           NaN      missing   15007202  \n",
       "691437                           NaN      missing   15007202  \n",
       "691438                           NaN     original   15007401  \n",
       "691439                           NaN      missing   15007401  "
      ]
     },
     "execution_count": 2,
     "metadata": {},
     "output_type": "execute_result"
    }
   ],
   "source": [
    "tr.tail(50)"
   ]
  },
  {
   "cell_type": "code",
   "execution_count": 3,
   "metadata": {},
   "outputs": [],
   "source": [
    "from tqdm.auto import tqdm\n",
    "def case_typo(df_test):\n",
    "    df_test = df_test.sort_values(by=['record_id']).reset_index(drop=True)\n",
    "    feature = df_test[['record_id','name']]\n",
    "    feature.name = feature.name.astype(str)\n",
    "    feature['case_typo'] = [check_string_words(s) for s in tqdm(list(feature.name))]\n",
    "    final_feature = feature[['record_id','case_typo']]\n",
    "    return final_feature\n",
    "\n",
    "def check_string_words(string):\n",
    "    string = string.replace('-',' ')\n",
    "    str_strip = string.split(' ')\n",
    "    errors = []\n",
    "    for s in str_strip:\n",
    "        if s.islower() or s.isupper() or s.istitle():\n",
    "            pass\n",
    "        else:\n",
    "            return 1\n",
    "    return 0"
   ]
  },
  {
   "cell_type": "code",
   "execution_count": 4,
   "metadata": {},
   "outputs": [
    {
     "name": "stderr",
     "output_type": "stream",
     "text": [
      "/usr/local/lib/python3.7/site-packages/pandas/core/generic.py:4405: SettingWithCopyWarning: \n",
      "A value is trying to be set on a copy of a slice from a DataFrame.\n",
      "Try using .loc[row_indexer,col_indexer] = value instead\n",
      "\n",
      "See the caveats in the documentation: http://pandas.pydata.org/pandas-docs/stable/indexing.html#indexing-view-versus-copy\n",
      "  self[name] = value\n"
     ]
    },
    {
     "data": {
      "application/vnd.jupyter.widget-view+json": {
       "model_id": "7e6083c0df9549f699cd83a08f7b67c0",
       "version_major": 2,
       "version_minor": 0
      },
      "text/plain": [
       "HBox(children=(IntProgress(value=0, max=691440), HTML(value='')))"
      ]
     },
     "metadata": {},
     "output_type": "display_data"
    },
    {
     "name": "stdout",
     "output_type": "stream",
     "text": [
      "\n"
     ]
    },
    {
     "name": "stderr",
     "output_type": "stream",
     "text": [
      "/usr/local/lib/python3.7/site-packages/ipykernel_launcher.py:6: SettingWithCopyWarning: \n",
      "A value is trying to be set on a copy of a slice from a DataFrame.\n",
      "Try using .loc[row_indexer,col_indexer] = value instead\n",
      "\n",
      "See the caveats in the documentation: http://pandas.pydata.org/pandas-docs/stable/indexing.html#indexing-view-versus-copy\n",
      "  \n"
     ]
    },
    {
     "data": {
      "text/html": [
       "<div>\n",
       "<style scoped>\n",
       "    .dataframe tbody tr th:only-of-type {\n",
       "        vertical-align: middle;\n",
       "    }\n",
       "\n",
       "    .dataframe tbody tr th {\n",
       "        vertical-align: top;\n",
       "    }\n",
       "\n",
       "    .dataframe thead th {\n",
       "        text-align: right;\n",
       "    }\n",
       "</style>\n",
       "<table border=\"1\" class=\"dataframe\">\n",
       "  <thead>\n",
       "    <tr style=\"text-align: right;\">\n",
       "      <th></th>\n",
       "      <th>record_id</th>\n",
       "      <th>case_typo</th>\n",
       "    </tr>\n",
       "  </thead>\n",
       "  <tbody>\n",
       "    <tr>\n",
       "      <th>0</th>\n",
       "      <td>10000001</td>\n",
       "      <td>0</td>\n",
       "    </tr>\n",
       "    <tr>\n",
       "      <th>1</th>\n",
       "      <td>10000002</td>\n",
       "      <td>0</td>\n",
       "    </tr>\n",
       "    <tr>\n",
       "      <th>2</th>\n",
       "      <td>10000002-M0</td>\n",
       "      <td>0</td>\n",
       "    </tr>\n",
       "    <tr>\n",
       "      <th>3</th>\n",
       "      <td>10000002-M1</td>\n",
       "      <td>0</td>\n",
       "    </tr>\n",
       "    <tr>\n",
       "      <th>4</th>\n",
       "      <td>10000004</td>\n",
       "      <td>1</td>\n",
       "    </tr>\n",
       "  </tbody>\n",
       "</table>\n",
       "</div>"
      ],
      "text/plain": [
       "     record_id  case_typo\n",
       "0     10000001          0\n",
       "1     10000002          0\n",
       "2  10000002-M0          0\n",
       "3  10000002-M1          0\n",
       "4     10000004          1"
      ]
     },
     "execution_count": 4,
     "metadata": {},
     "output_type": "execute_result"
    }
   ],
   "source": [
    "feature = case_typo(tr)\n",
    "\n",
    "feature.head()"
   ]
  },
  {
   "cell_type": "code",
   "execution_count": 5,
   "metadata": {},
   "outputs": [
    {
     "data": {
      "text/html": [
       "<div>\n",
       "<style scoped>\n",
       "    .dataframe tbody tr th:only-of-type {\n",
       "        vertical-align: middle;\n",
       "    }\n",
       "\n",
       "    .dataframe tbody tr th {\n",
       "        vertical-align: top;\n",
       "    }\n",
       "\n",
       "    .dataframe thead th {\n",
       "        text-align: right;\n",
       "    }\n",
       "</style>\n",
       "<table border=\"1\" class=\"dataframe\">\n",
       "  <thead>\n",
       "    <tr style=\"text-align: right;\">\n",
       "      <th></th>\n",
       "      <th>record_id</th>\n",
       "      <th>case_typo</th>\n",
       "    </tr>\n",
       "  </thead>\n",
       "  <tbody>\n",
       "    <tr>\n",
       "      <th>0</th>\n",
       "      <td>10000001</td>\n",
       "      <td>non_typo</td>\n",
       "    </tr>\n",
       "    <tr>\n",
       "      <th>1</th>\n",
       "      <td>10000002</td>\n",
       "      <td>non_typo</td>\n",
       "    </tr>\n",
       "    <tr>\n",
       "      <th>2</th>\n",
       "      <td>10000002-M0</td>\n",
       "      <td>non_typo</td>\n",
       "    </tr>\n",
       "    <tr>\n",
       "      <th>3</th>\n",
       "      <td>10000002-M1</td>\n",
       "      <td>non_typo</td>\n",
       "    </tr>\n",
       "    <tr>\n",
       "      <th>4</th>\n",
       "      <td>10000004</td>\n",
       "      <td>typo</td>\n",
       "    </tr>\n",
       "  </tbody>\n",
       "</table>\n",
       "</div>"
      ],
      "text/plain": [
       "     record_id case_typo\n",
       "0     10000001  non_typo\n",
       "1     10000002  non_typo\n",
       "2  10000002-M0  non_typo\n",
       "3  10000002-M1  non_typo\n",
       "4     10000004      typo"
      ]
     },
     "execution_count": 5,
     "metadata": {},
     "output_type": "execute_result"
    }
   ],
   "source": [
    "feature['case_typo'] = ['typo' if x == 1 else 'non_typo' for x in feature.case_typo ]\n",
    "\n",
    "feature.head()"
   ]
  },
  {
   "cell_type": "code",
   "execution_count": 6,
   "metadata": {},
   "outputs": [
    {
     "data": {
      "application/vnd.jupyter.widget-view+json": {
       "model_id": "99d2427d9cdd4ed5b3e96806c5d5c40d",
       "version_major": 2,
       "version_minor": 0
      },
      "text/plain": [
       "HBox(children=(IntProgress(value=1, bar_style='info', max=1), HTML(value='')))"
      ]
     },
     "metadata": {},
     "output_type": "display_data"
    },
    {
     "name": "stdout",
     "output_type": "stream",
     "text": [
      "\n"
     ]
    }
   ],
   "source": [
    "pr = 0\n",
    "for o,f in tqdm(zip(tr.modification, feature.case_typo)):\n",
    "    if o == f:\n",
    "        pr += 1"
   ]
  },
  {
   "cell_type": "code",
   "execution_count": 7,
   "metadata": {},
   "outputs": [
    {
     "data": {
      "text/plain": [
       "45.457190929196514"
      ]
     },
     "execution_count": 7,
     "metadata": {},
     "output_type": "execute_result"
    }
   ],
   "source": [
    "# questo è il numero di volte che io dico che c'è un typo su quante volte c'è un typo\n",
    "# da considerare che i typos sono anche su altre colonne\n",
    "pr*100/tr[tr.modification=='typo'].shape[0]"
   ]
  },
  {
   "cell_type": "code",
   "execution_count": 8,
   "metadata": {},
   "outputs": [
    {
     "data": {
      "text/plain": [
       "82.20036548378764"
      ]
     },
     "execution_count": 8,
     "metadata": {},
     "output_type": "execute_result"
    }
   ],
   "source": [
    "# questa è quante volte c'è davvero un typo rispetto a quante volte dico che c'è un typo \n",
    "pr * 100 / feature[feature.case_typo=='typo'].shape[0]"
   ]
  },
  {
   "cell_type": "code",
   "execution_count": 9,
   "metadata": {},
   "outputs": [],
   "source": [
    "# modified version: instead of controlling each word, check the entire string\n",
    "def modified_case_typo(df_test):\n",
    "    df_test = df_test.sort_values(by=['record_id']).reset_index(drop=True)\n",
    "    feature = df_test[['record_id','name']]\n",
    "    feature.name = feature.name.astype(str)\n",
    "    feature['case_typo'] = [check_string(s) for s in tqdm(list(feature.name))]\n",
    "    final_feature = feature[['record_id','case_typo']]\n",
    "    return final_feature\n",
    "\n",
    "def check_string(s):\n",
    "    if s.islower() or s.isupper() or s.istitle():\n",
    "        return 0\n",
    "    else: \n",
    "        return 1"
   ]
  },
  {
   "cell_type": "code",
   "execution_count": 10,
   "metadata": {},
   "outputs": [
    {
     "data": {
      "application/vnd.jupyter.widget-view+json": {
       "model_id": "00e122a262874a3a8feaad1b509d56de",
       "version_major": 2,
       "version_minor": 0
      },
      "text/plain": [
       "HBox(children=(IntProgress(value=0, max=691440), HTML(value='')))"
      ]
     },
     "metadata": {},
     "output_type": "display_data"
    },
    {
     "name": "stdout",
     "output_type": "stream",
     "text": [
      "\n"
     ]
    },
    {
     "name": "stderr",
     "output_type": "stream",
     "text": [
      "/usr/local/lib/python3.7/site-packages/ipykernel_launcher.py:6: SettingWithCopyWarning: \n",
      "A value is trying to be set on a copy of a slice from a DataFrame.\n",
      "Try using .loc[row_indexer,col_indexer] = value instead\n",
      "\n",
      "See the caveats in the documentation: http://pandas.pydata.org/pandas-docs/stable/indexing.html#indexing-view-versus-copy\n",
      "  \n"
     ]
    },
    {
     "data": {
      "text/html": [
       "<div>\n",
       "<style scoped>\n",
       "    .dataframe tbody tr th:only-of-type {\n",
       "        vertical-align: middle;\n",
       "    }\n",
       "\n",
       "    .dataframe tbody tr th {\n",
       "        vertical-align: top;\n",
       "    }\n",
       "\n",
       "    .dataframe thead th {\n",
       "        text-align: right;\n",
       "    }\n",
       "</style>\n",
       "<table border=\"1\" class=\"dataframe\">\n",
       "  <thead>\n",
       "    <tr style=\"text-align: right;\">\n",
       "      <th></th>\n",
       "      <th>record_id</th>\n",
       "      <th>case_typo</th>\n",
       "    </tr>\n",
       "  </thead>\n",
       "  <tbody>\n",
       "    <tr>\n",
       "      <th>0</th>\n",
       "      <td>10000001</td>\n",
       "      <td>0</td>\n",
       "    </tr>\n",
       "    <tr>\n",
       "      <th>1</th>\n",
       "      <td>10000002</td>\n",
       "      <td>0</td>\n",
       "    </tr>\n",
       "    <tr>\n",
       "      <th>2</th>\n",
       "      <td>10000002-M0</td>\n",
       "      <td>0</td>\n",
       "    </tr>\n",
       "    <tr>\n",
       "      <th>3</th>\n",
       "      <td>10000002-M1</td>\n",
       "      <td>0</td>\n",
       "    </tr>\n",
       "    <tr>\n",
       "      <th>4</th>\n",
       "      <td>10000004</td>\n",
       "      <td>0</td>\n",
       "    </tr>\n",
       "  </tbody>\n",
       "</table>\n",
       "</div>"
      ],
      "text/plain": [
       "     record_id  case_typo\n",
       "0     10000001          0\n",
       "1     10000002          0\n",
       "2  10000002-M0          0\n",
       "3  10000002-M1          0\n",
       "4     10000004          0"
      ]
     },
     "execution_count": 10,
     "metadata": {},
     "output_type": "execute_result"
    }
   ],
   "source": [
    "modified_feature = modified_case_typo(tr)\n",
    "modified_feature.head()"
   ]
  },
  {
   "cell_type": "code",
   "execution_count": 11,
   "metadata": {},
   "outputs": [
    {
     "data": {
      "text/plain": [
       "record_id    15002501\n",
       "case_typo           1\n",
       "Name: 691398, dtype: object"
      ]
     },
     "execution_count": 11,
     "metadata": {},
     "output_type": "execute_result"
    }
   ],
   "source": [
    "modified_feature.loc[691398]"
   ]
  },
  {
   "cell_type": "code",
   "execution_count": 12,
   "metadata": {},
   "outputs": [
    {
     "data": {
      "text/html": [
       "<div>\n",
       "<style scoped>\n",
       "    .dataframe tbody tr th:only-of-type {\n",
       "        vertical-align: middle;\n",
       "    }\n",
       "\n",
       "    .dataframe tbody tr th {\n",
       "        vertical-align: top;\n",
       "    }\n",
       "\n",
       "    .dataframe thead th {\n",
       "        text-align: right;\n",
       "    }\n",
       "</style>\n",
       "<table border=\"1\" class=\"dataframe\">\n",
       "  <thead>\n",
       "    <tr style=\"text-align: right;\">\n",
       "      <th></th>\n",
       "      <th>record_id</th>\n",
       "      <th>case_typo</th>\n",
       "    </tr>\n",
       "  </thead>\n",
       "  <tbody>\n",
       "    <tr>\n",
       "      <th>0</th>\n",
       "      <td>10000001</td>\n",
       "      <td>non_typo</td>\n",
       "    </tr>\n",
       "    <tr>\n",
       "      <th>1</th>\n",
       "      <td>10000002</td>\n",
       "      <td>non_typo</td>\n",
       "    </tr>\n",
       "    <tr>\n",
       "      <th>2</th>\n",
       "      <td>10000002-M0</td>\n",
       "      <td>non_typo</td>\n",
       "    </tr>\n",
       "    <tr>\n",
       "      <th>3</th>\n",
       "      <td>10000002-M1</td>\n",
       "      <td>non_typo</td>\n",
       "    </tr>\n",
       "    <tr>\n",
       "      <th>4</th>\n",
       "      <td>10000004</td>\n",
       "      <td>non_typo</td>\n",
       "    </tr>\n",
       "  </tbody>\n",
       "</table>\n",
       "</div>"
      ],
      "text/plain": [
       "     record_id case_typo\n",
       "0     10000001  non_typo\n",
       "1     10000002  non_typo\n",
       "2  10000002-M0  non_typo\n",
       "3  10000002-M1  non_typo\n",
       "4     10000004  non_typo"
      ]
     },
     "execution_count": 12,
     "metadata": {},
     "output_type": "execute_result"
    }
   ],
   "source": [
    "modified_feature['case_typo'] = ['typo' if x == 1 else 'non_typo' for x in modified_feature.case_typo ]\n",
    "\n",
    "modified_feature.head()"
   ]
  },
  {
   "cell_type": "code",
   "execution_count": 13,
   "metadata": {},
   "outputs": [
    {
     "data": {
      "application/vnd.jupyter.widget-view+json": {
       "model_id": "3abf58cdf2304e47ad8bb620d5cd1d7a",
       "version_major": 2,
       "version_minor": 0
      },
      "text/plain": [
       "HBox(children=(IntProgress(value=1, bar_style='info', max=1), HTML(value='')))"
      ]
     },
     "metadata": {},
     "output_type": "display_data"
    },
    {
     "name": "stdout",
     "output_type": "stream",
     "text": [
      "\n"
     ]
    }
   ],
   "source": [
    "mod_pr = 0\n",
    "for o,f in tqdm(zip(tr.modification, modified_feature.case_typo)):\n",
    "    if o == f:\n",
    "        mod_pr += 1"
   ]
  },
  {
   "cell_type": "code",
   "execution_count": 14,
   "metadata": {},
   "outputs": [
    {
     "data": {
      "text/plain": [
       "48.80054179320854"
      ]
     },
     "execution_count": 14,
     "metadata": {},
     "output_type": "execute_result"
    }
   ],
   "source": [
    "# questo è il numero di volte che io dico che c'è un typo su quante volte c'è un typo\n",
    "# da considerare che i typos sono anche su altre colonne\n",
    "mod_pr*100/tr[tr.modification=='typo'].shape[0]"
   ]
  },
  {
   "cell_type": "code",
   "execution_count": 15,
   "metadata": {},
   "outputs": [
    {
     "data": {
      "text/plain": [
       "88.24615620126484"
      ]
     },
     "execution_count": 15,
     "metadata": {},
     "output_type": "execute_result"
    }
   ],
   "source": [
    "mod_pr  * 100 / feature[feature.case_typo=='typo'].shape[0]"
   ]
  },
  {
   "cell_type": "code",
   "execution_count": 16,
   "metadata": {},
   "outputs": [
    {
     "data": {
      "application/vnd.jupyter.widget-view+json": {
       "model_id": "c121180f1b184b939648aed2b2a7c1c0",
       "version_major": 2,
       "version_minor": 0
      },
      "text/plain": [
       "HBox(children=(IntProgress(value=1, bar_style='info', max=1), HTML(value='')))"
      ]
     },
     "metadata": {},
     "output_type": "display_data"
    },
    {
     "name": "stdout",
     "output_type": "stream",
     "text": [
      "\n"
     ]
    }
   ],
   "source": [
    "same_pr = 0\n",
    "for o,f in tqdm(zip(feature.case_typo, modified_feature.case_typo)):\n",
    "    if o == f:\n",
    "        same_pr += 1"
   ]
  },
  {
   "cell_type": "code",
   "execution_count": 17,
   "metadata": {},
   "outputs": [
    {
     "data": {
      "text/plain": [
       "93.01703690848085"
      ]
     },
     "execution_count": 17,
     "metadata": {},
     "output_type": "execute_result"
    }
   ],
   "source": [
    "# percentuale di nomi con stessa label\n",
    "same_pr  * 100 / feature.shape[0]"
   ]
  },
  {
   "cell_type": "code",
   "execution_count": 18,
   "metadata": {},
   "outputs": [],
   "source": [
    "# so... the second seems better!"
   ]
  },
  {
   "cell_type": "code",
   "execution_count": 51,
   "metadata": {},
   "outputs": [],
   "source": [
    "modification_col = tr.modification.tolist()\n",
    "modification_col = [1 if x == 'typo' else 0 for x in modification_col]"
   ]
  },
  {
   "cell_type": "code",
   "execution_count": 52,
   "metadata": {},
   "outputs": [],
   "source": [
    "label_f = feature.case_typo.tolist()\n",
    "label_f = [1 if x == 'typo' else 0 for x in label_f]"
   ]
  },
  {
   "cell_type": "code",
   "execution_count": 60,
   "metadata": {},
   "outputs": [],
   "source": [
    "label_mf = modified_feature.case_typo.tolist()\n",
    "label_mf = [1 if x == 'typo' else 0 for x in label_mf]"
   ]
  },
  {
   "cell_type": "code",
   "execution_count": 98,
   "metadata": {},
   "outputs": [
    {
     "name": "stdout",
     "output_type": "stream",
     "text": [
      "Feature:\n",
      "F/P Rate: 0.0370\n",
      "T/P Rate: 0.4546\n"
     ]
    }
   ],
   "source": [
    "from sklearn.metrics import roc_curve, roc_auc_score\n",
    "fpr_f, tpr_f, _ = roc_curve(modification_col, label_f)\n",
    "print('Feature:')\n",
    "print(f'F/P Rate: {fpr_f[1]:.4f}')\n",
    "print(f'T/P Rate: {tpr_f[1]:.4f}')"
   ]
  },
  {
   "cell_type": "code",
   "execution_count": 99,
   "metadata": {},
   "outputs": [
    {
     "name": "stdout",
     "output_type": "stream",
     "text": [
      "Modified feature:\n",
      "F/P Rate: 0.0499\n",
      "T/P Rate: 0.4880\n"
     ]
    }
   ],
   "source": [
    "fpr_mf, tpr_mf, _ = roc_curve(modification_col, label_mf)\n",
    "print('Modified feature:')\n",
    "print(f'F/P Rate: {fpr_mf[1]:.4f}')\n",
    "print(f'T/P Rate: {tpr_mf[1]:.4f}')"
   ]
  },
  {
   "cell_type": "code",
   "execution_count": 115,
   "metadata": {},
   "outputs": [
    {
     "data": {
      "text/plain": [
       "<matplotlib.legend.Legend at 0x13098d4d0>"
      ]
     },
     "execution_count": 115,
     "metadata": {},
     "output_type": "execute_result"
    },
    {
     "data": {
      "image/png": "[encoded data removed]",
      "text/plain": [
       "<Figure size 432x288 with 1 Axes>"
      ]
     },
     "metadata": {
      "needs_background": "light"
     },
     "output_type": "display_data"
    }
   ],
   "source": [
    "from matplotlib import pyplot\n",
    "pyplot.plot(fpr_mf, tpr_mf, marker='.', label='Modifed Feature')\n",
    "pyplot.plot(fpr_f, tpr_f, linestyle='--', label='Feature')\n",
    "pyplot.xlabel('False Positive Rate')\n",
    "pyplot.ylabel('True Positive Rate')\n",
    "pyplot.legend()"
   ]
  },
  {
   "cell_type": "code",
   "execution_count": 117,
   "metadata": {},
   "outputs": [
    {
     "name": "stdout",
     "output_type": "stream",
     "text": [
      "Feature AUC: 0.7088\n",
      "Modified feature AUC: 0.7190\n"
     ]
    }
   ],
   "source": [
    "auc_f = roc_auc_score(modification_col, label_f)\n",
    "auc_mf = roc_auc_score(modification_col, label_mf)\n",
    "print(f'Feature AUC: {auc_f:.4f}')\n",
    "print(f'Modified feature AUC: {auc_mf:.4f}')"
   ]
  },
  {
   "cell_type": "code",
   "execution_count": 119,
   "metadata": {},
   "outputs": [
    {
     "name": "stdout",
     "output_type": "stream",
     "text": [
      "Feature:\n",
      "Precision: 0.8220\n",
      "Recall: 0.4546\n",
      "------------------\n",
      "Modified feature:\n",
      "Precision: 0.7861\n",
      "Recall: 0.4880\n"
     ]
    }
   ],
   "source": [
    "from sklearn.metrics import precision_recall_curve\n",
    "precision_f, recall_f, _ = precision_recall_curve(modification_col, label_f)\n",
    "precision_mf, recall_mf, _ = precision_recall_curve(modification_col, label_mf)\n",
    "print('Feature:')\n",
    "print(f'Precision: {precision_f[1]:.4f}')\n",
    "print(f'Recall: {recall_f[1]:.4f}')\n",
    "print('------------------')\n",
    "print('Modified feature:')\n",
    "print(f'Precision: {precision_mf[1]:.4f}')\n",
    "print(f'Recall: {recall_mf[1]:.4f}')"
   ]
  },
  {
   "cell_type": "code",
   "execution_count": 120,
   "metadata": {},
   "outputs": [
    {
     "name": "stdout",
     "output_type": "stream",
     "text": [
      "Feature F1 score: 0.5854\n",
      "Modified feature F1 score: 0.6022\n"
     ]
    }
   ],
   "source": [
    "from sklearn.metrics import f1_score\n",
    "f1_f = f1_score(modification_col, label_f)\n",
    "f1_mf = f1_score(modification_col, label_mf)\n",
    "print(f'Feature F1 score: {f1_f:.4f}')\n",
    "print(f'Modified feature F1 score: {f1_mf:.4f}')"
   ]
  },
  {
   "cell_type": "code",
   "execution_count": 121,
   "metadata": {},
   "outputs": [
    {
     "data": {
      "text/plain": [
       "<matplotlib.legend.Legend at 0x11f335c50>"
      ]
     },
     "execution_count": 121,
     "metadata": {},
     "output_type": "execute_result"
    },
    {
     "data": {
      "image/png": "[encoded data removed]",
      "text/plain": [
       "<Figure size 432x288 with 1 Axes>"
      ]
     },
     "metadata": {
      "needs_background": "light"
     },
     "output_type": "display_data"
    }
   ],
   "source": [
    "pyplot.plot(recall_f, precision_f, linestyle='--', label='Feature')\n",
    "pyplot.plot(recall_mf, precision_mf, marker='.', label='Modified Feature')\n",
    "# axis labels\n",
    "pyplot.xlabel('Recall')\n",
    "pyplot.ylabel('Precision')\n",
    "# show the legend\n",
    "pyplot.legend()"
   ]
  },
  {
   "cell_type": "code",
   "execution_count": null,
   "metadata": {},
   "outputs": [],
   "source": []
  }
 ],
 "metadata": {
  "kernelspec": {
   "display_name": "Python 3",
   "language": "python",
   "name": "python3"
  },
  "language_info": {
   "codemirror_mode": {
    "name": "ipython",
    "version": 3
   },
   "file_extension": ".py",
   "mimetype": "text/x-python",
   "name": "python",
   "nbconvert_exporter": "python",
   "pygments_lexer": "ipython3",
   "version": "3.7.4"
  }
 },
 "nbformat": 4,
 "nbformat_minor": 2
}
