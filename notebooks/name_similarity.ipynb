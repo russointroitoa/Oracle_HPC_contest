{
 "cells": [
  {
   "cell_type": "code",
   "execution_count": 1,
   "metadata": {},
   "outputs": [],
   "source": [
    "import pandas as pd\n",
    "from tqdm.auto import tqdm\n",
    "import editdistance"
   ]
  },
  {
   "cell_type": "code",
   "execution_count": 2,
   "metadata": {},
   "outputs": [
    {
     "data": {
      "text/html": [
       "<div>\n",
       "<style scoped>\n",
       "    .dataframe tbody tr th:only-of-type {\n",
       "        vertical-align: middle;\n",
       "    }\n",
       "\n",
       "    .dataframe tbody tr th {\n",
       "        vertical-align: top;\n",
       "    }\n",
       "\n",
       "    .dataframe thead th {\n",
       "        text-align: right;\n",
       "    }\n",
       "</style>\n",
       "<table border=\"1\" class=\"dataframe\">\n",
       "  <thead>\n",
       "    <tr style=\"text-align: right;\">\n",
       "      <th></th>\n",
       "      <th>record_id</th>\n",
       "      <th>name</th>\n",
       "      <th>type</th>\n",
       "      <th>address</th>\n",
       "      <th>phone</th>\n",
       "      <th>email</th>\n",
       "      <th>modification</th>\n",
       "      <th>linked_id</th>\n",
       "    </tr>\n",
       "  </thead>\n",
       "  <tbody>\n",
       "    <tr>\n",
       "      <th>0</th>\n",
       "      <td>10111147-T1</td>\n",
       "      <td>ArDIA ENTERPRISESmLTD.</td>\n",
       "      <td>entity</td>\n",
       "      <td>NaN</td>\n",
       "      <td>4.102971e+12</td>\n",
       "      <td>imquires@zoho.vo</td>\n",
       "      <td>typo</td>\n",
       "      <td>10111147</td>\n",
       "    </tr>\n",
       "    <tr>\n",
       "      <th>1</th>\n",
       "      <td>12172071-T0</td>\n",
       "      <td>ANDRÉ ALMEIDA BLANCO</td>\n",
       "      <td>officer</td>\n",
       "      <td>la Rua Pelotas; 209; apartamento 72; Bloco A; ...</td>\n",
       "      <td>NaN</td>\n",
       "      <td>NaN</td>\n",
       "      <td>typo</td>\n",
       "      <td>12172071</td>\n",
       "    </tr>\n",
       "    <tr>\n",
       "      <th>2</th>\n",
       "      <td>10104491-T1</td>\n",
       "      <td>MOONTA HOLDINGS LTD.</td>\n",
       "      <td>entity</td>\n",
       "      <td>NaN</td>\n",
       "      <td>6.501346e+10</td>\n",
       "      <td>NaN</td>\n",
       "      <td>typo</td>\n",
       "      <td>10104491</td>\n",
       "    </tr>\n",
       "    <tr>\n",
       "      <th>3</th>\n",
       "      <td>10068808</td>\n",
       "      <td>SPRINGFIELD INVESTMENTS GROUP LIMITED</td>\n",
       "      <td>entity</td>\n",
       "      <td>NaN</td>\n",
       "      <td>NaN</td>\n",
       "      <td>consulting@zoho.de</td>\n",
       "      <td>original</td>\n",
       "      <td>10068808</td>\n",
       "    </tr>\n",
       "    <tr>\n",
       "      <th>4</th>\n",
       "      <td>13011715</td>\n",
       "      <td>GRIGORY UVAROV</td>\n",
       "      <td>officer</td>\n",
       "      <td>127273; MOSCOW; OTRADNAJA STREET; HOUSE 2; NO....</td>\n",
       "      <td>NaN</td>\n",
       "      <td>NaN</td>\n",
       "      <td>original</td>\n",
       "      <td>13011715</td>\n",
       "    </tr>\n",
       "    <tr>\n",
       "      <th>5</th>\n",
       "      <td>10105687</td>\n",
       "      <td>ODIN GROUP INVESTMENTS S.A.</td>\n",
       "      <td>entity</td>\n",
       "      <td>NaN</td>\n",
       "      <td>4.966891e+10</td>\n",
       "      <td>info@outlook.cz</td>\n",
       "      <td>original</td>\n",
       "      <td>10105687</td>\n",
       "    </tr>\n",
       "    <tr>\n",
       "      <th>6</th>\n",
       "      <td>10016805-T2</td>\n",
       "      <td>CAPRI SOLUTIONS LIMITED</td>\n",
       "      <td>entity</td>\n",
       "      <td>NaN</td>\n",
       "      <td>NaN</td>\n",
       "      <td>help@CAPRI.SOLUTIONS.LxMITED.de</td>\n",
       "      <td>typo</td>\n",
       "      <td>10016805</td>\n",
       "    </tr>\n",
       "    <tr>\n",
       "      <th>7</th>\n",
       "      <td>12133421</td>\n",
       "      <td>Crossmatch S.A.</td>\n",
       "      <td>officer</td>\n",
       "      <td>Akara building 24 De Castro Street, Wickham Ca...</td>\n",
       "      <td>NaN</td>\n",
       "      <td>CrossmatchSA@aol.gov</td>\n",
       "      <td>original</td>\n",
       "      <td>12133421</td>\n",
       "    </tr>\n",
       "    <tr>\n",
       "      <th>8</th>\n",
       "      <td>12126772</td>\n",
       "      <td>LAURENCE POUNTNEY LTD</td>\n",
       "      <td>officer</td>\n",
       "      <td>Akara Building 24 De Castro St; Wickham Cay I;...</td>\n",
       "      <td>NaN</td>\n",
       "      <td>support@LAURENCE.POUNTNEY.LTD.gov</td>\n",
       "      <td>original</td>\n",
       "      <td>12126772</td>\n",
       "    </tr>\n",
       "    <tr>\n",
       "      <th>9</th>\n",
       "      <td>11002523</td>\n",
       "      <td>BREIT, MARCUS</td>\n",
       "      <td>intermediary</td>\n",
       "      <td>NaN</td>\n",
       "      <td>4.401803e+11</td>\n",
       "      <td>NaN</td>\n",
       "      <td>original</td>\n",
       "      <td>11002523</td>\n",
       "    </tr>\n",
       "  </tbody>\n",
       "</table>\n",
       "</div>"
      ],
      "text/plain": [
       "     record_id                                   name          type  \\\n",
       "0  10111147-T1                 ArDIA ENTERPRISESmLTD.        entity   \n",
       "1  12172071-T0                   ANDRÉ ALMEIDA BLANCO       officer   \n",
       "2  10104491-T1                   MOONTA HOLDINGS LTD.        entity   \n",
       "3     10068808  SPRINGFIELD INVESTMENTS GROUP LIMITED        entity   \n",
       "4     13011715                         GRIGORY UVAROV       officer   \n",
       "5     10105687            ODIN GROUP INVESTMENTS S.A.        entity   \n",
       "6  10016805-T2                CAPRI SOLUTIONS LIMITED        entity   \n",
       "7     12133421                        Crossmatch S.A.       officer   \n",
       "8     12126772                  LAURENCE POUNTNEY LTD       officer   \n",
       "9     11002523                          BREIT, MARCUS  intermediary   \n",
       "\n",
       "                                             address         phone  \\\n",
       "0                                                NaN  4.102971e+12   \n",
       "1  la Rua Pelotas; 209; apartamento 72; Bloco A; ...           NaN   \n",
       "2                                                NaN  6.501346e+10   \n",
       "3                                                NaN           NaN   \n",
       "4  127273; MOSCOW; OTRADNAJA STREET; HOUSE 2; NO....           NaN   \n",
       "5                                                NaN  4.966891e+10   \n",
       "6                                                NaN           NaN   \n",
       "7  Akara building 24 De Castro Street, Wickham Ca...           NaN   \n",
       "8  Akara Building 24 De Castro St; Wickham Cay I;...           NaN   \n",
       "9                                                NaN  4.401803e+11   \n",
       "\n",
       "                               email modification  linked_id  \n",
       "0                   imquires@zoho.vo         typo   10111147  \n",
       "1                                NaN         typo   12172071  \n",
       "2                                NaN         typo   10104491  \n",
       "3                 consulting@zoho.de     original   10068808  \n",
       "4                                NaN     original   13011715  \n",
       "5                    info@outlook.cz     original   10105687  \n",
       "6    help@CAPRI.SOLUTIONS.LxMITED.de         typo   10016805  \n",
       "7               CrossmatchSA@aol.gov     original   12133421  \n",
       "8  support@LAURENCE.POUNTNEY.LTD.gov     original   12126772  \n",
       "9                                NaN     original   11002523  "
      ]
     },
     "execution_count": 2,
     "metadata": {},
     "output_type": "execute_result"
    }
   ],
   "source": [
    "df_train = pd.read_csv(\"../dataset/original/entity-resolution_advanced-topics-training_data.csv\")\n",
    "df_train.head(10)"
   ]
  },
  {
   "cell_type": "code",
   "execution_count": 3,
   "metadata": {},
   "outputs": [
    {
     "name": "stderr",
     "output_type": "stream",
     "text": [
      "/usr/local/lib/python3.7/site-packages/pandas/core/generic.py:4405: SettingWithCopyWarning: \n",
      "A value is trying to be set on a copy of a slice from a DataFrame.\n",
      "Try using .loc[row_indexer,col_indexer] = value instead\n",
      "\n",
      "See the caveats in the documentation: http://pandas.pydata.org/pandas-docs/stable/indexing.html#indexing-view-versus-copy\n",
      "  self[name] = value\n"
     ]
    },
    {
     "data": {
      "text/html": [
       "<div>\n",
       "<style scoped>\n",
       "    .dataframe tbody tr th:only-of-type {\n",
       "        vertical-align: middle;\n",
       "    }\n",
       "\n",
       "    .dataframe tbody tr th {\n",
       "        vertical-align: top;\n",
       "    }\n",
       "\n",
       "    .dataframe thead th {\n",
       "        text-align: right;\n",
       "    }\n",
       "</style>\n",
       "<table border=\"1\" class=\"dataframe\">\n",
       "  <thead>\n",
       "    <tr style=\"text-align: right;\">\n",
       "      <th></th>\n",
       "      <th>record_id</th>\n",
       "      <th>name</th>\n",
       "      <th>linked_id</th>\n",
       "    </tr>\n",
       "  </thead>\n",
       "  <tbody>\n",
       "    <tr>\n",
       "      <th>0</th>\n",
       "      <td>10111147-T1</td>\n",
       "      <td>ardia enterprisesmltd.</td>\n",
       "      <td>10111147</td>\n",
       "    </tr>\n",
       "    <tr>\n",
       "      <th>1</th>\n",
       "      <td>12172071-T0</td>\n",
       "      <td>andré almeida blanco</td>\n",
       "      <td>12172071</td>\n",
       "    </tr>\n",
       "    <tr>\n",
       "      <th>2</th>\n",
       "      <td>10104491-T1</td>\n",
       "      <td>moonta holdings ltd.</td>\n",
       "      <td>10104491</td>\n",
       "    </tr>\n",
       "    <tr>\n",
       "      <th>3</th>\n",
       "      <td>10068808</td>\n",
       "      <td>springfield investments group limited</td>\n",
       "      <td>10068808</td>\n",
       "    </tr>\n",
       "    <tr>\n",
       "      <th>4</th>\n",
       "      <td>13011715</td>\n",
       "      <td>grigory uvarov</td>\n",
       "      <td>13011715</td>\n",
       "    </tr>\n",
       "    <tr>\n",
       "      <th>5</th>\n",
       "      <td>10105687</td>\n",
       "      <td>odin group investments s.a.</td>\n",
       "      <td>10105687</td>\n",
       "    </tr>\n",
       "    <tr>\n",
       "      <th>6</th>\n",
       "      <td>10016805-T2</td>\n",
       "      <td>capri solutions limited</td>\n",
       "      <td>10016805</td>\n",
       "    </tr>\n",
       "    <tr>\n",
       "      <th>7</th>\n",
       "      <td>12133421</td>\n",
       "      <td>crossmatch s.a.</td>\n",
       "      <td>12133421</td>\n",
       "    </tr>\n",
       "    <tr>\n",
       "      <th>8</th>\n",
       "      <td>12126772</td>\n",
       "      <td>laurence pountney ltd</td>\n",
       "      <td>12126772</td>\n",
       "    </tr>\n",
       "    <tr>\n",
       "      <th>9</th>\n",
       "      <td>11002523</td>\n",
       "      <td>breit, marcus</td>\n",
       "      <td>11002523</td>\n",
       "    </tr>\n",
       "  </tbody>\n",
       "</table>\n",
       "</div>"
      ],
      "text/plain": [
       "     record_id                                   name  linked_id\n",
       "0  10111147-T1                 ardia enterprisesmltd.   10111147\n",
       "1  12172071-T0                   andré almeida blanco   12172071\n",
       "2  10104491-T1                   moonta holdings ltd.   10104491\n",
       "3     10068808  springfield investments group limited   10068808\n",
       "4     13011715                         grigory uvarov   13011715\n",
       "5     10105687            odin group investments s.a.   10105687\n",
       "6  10016805-T2                capri solutions limited   10016805\n",
       "7     12133421                        crossmatch s.a.   12133421\n",
       "8     12126772                  laurence pountney ltd   12126772\n",
       "9     11002523                          breit, marcus   11002523"
      ]
     },
     "execution_count": 3,
     "metadata": {},
     "output_type": "execute_result"
    }
   ],
   "source": [
    "df_name = df_train[['record_id','name','linked_id']]\n",
    "df_name.name = df_name.name.astype(str)\n",
    "df_name.name = df_name.name.str.lower()\n",
    "df_name.head(10)"
   ]
  },
  {
   "cell_type": "code",
   "execution_count": 4,
   "metadata": {},
   "outputs": [
    {
     "data": {
      "application/vnd.jupyter.widget-view+json": {
       "model_id": "f785ab18a59445928b4da4796e54238b",
       "version_major": 2,
       "version_minor": 0
      },
      "text/plain": [
       "HBox(children=(IntProgress(value=0, max=38), HTML(value='')))"
      ]
     },
     "metadata": {},
     "output_type": "display_data"
    },
    {
     "name": "stdout",
     "output_type": "stream",
     "text": [
      "\n"
     ]
    },
    {
     "data": {
      "text/html": [
       "<div>\n",
       "<style scoped>\n",
       "    .dataframe tbody tr th:only-of-type {\n",
       "        vertical-align: middle;\n",
       "    }\n",
       "\n",
       "    .dataframe tbody tr th {\n",
       "        vertical-align: top;\n",
       "    }\n",
       "\n",
       "    .dataframe thead th {\n",
       "        text-align: right;\n",
       "    }\n",
       "</style>\n",
       "<table border=\"1\" class=\"dataframe\">\n",
       "  <thead>\n",
       "    <tr style=\"text-align: right;\">\n",
       "      <th></th>\n",
       "      <th>record_id</th>\n",
       "      <th>name</th>\n",
       "      <th>linked_id</th>\n",
       "    </tr>\n",
       "  </thead>\n",
       "  <tbody>\n",
       "    <tr>\n",
       "      <th>0</th>\n",
       "      <td>10111147-T1</td>\n",
       "      <td>ardia mltd.</td>\n",
       "      <td>10111147</td>\n",
       "    </tr>\n",
       "    <tr>\n",
       "      <th>1</th>\n",
       "      <td>12172071-T0</td>\n",
       "      <td>andré almeida blanco</td>\n",
       "      <td>12172071</td>\n",
       "    </tr>\n",
       "    <tr>\n",
       "      <th>2</th>\n",
       "      <td>10104491-T1</td>\n",
       "      <td>moonta</td>\n",
       "      <td>10104491</td>\n",
       "    </tr>\n",
       "    <tr>\n",
       "      <th>3</th>\n",
       "      <td>10068808</td>\n",
       "      <td>springfield</td>\n",
       "      <td>10068808</td>\n",
       "    </tr>\n",
       "    <tr>\n",
       "      <th>4</th>\n",
       "      <td>13011715</td>\n",
       "      <td>grigory uvarov</td>\n",
       "      <td>13011715</td>\n",
       "    </tr>\n",
       "    <tr>\n",
       "      <th>5</th>\n",
       "      <td>10105687</td>\n",
       "      <td>odin</td>\n",
       "      <td>10105687</td>\n",
       "    </tr>\n",
       "    <tr>\n",
       "      <th>6</th>\n",
       "      <td>10016805-T2</td>\n",
       "      <td>capri solutions</td>\n",
       "      <td>10016805</td>\n",
       "    </tr>\n",
       "    <tr>\n",
       "      <th>7</th>\n",
       "      <td>12133421</td>\n",
       "      <td>crossmatch</td>\n",
       "      <td>12133421</td>\n",
       "    </tr>\n",
       "    <tr>\n",
       "      <th>8</th>\n",
       "      <td>12126772</td>\n",
       "      <td>laurence pountney</td>\n",
       "      <td>12126772</td>\n",
       "    </tr>\n",
       "    <tr>\n",
       "      <th>9</th>\n",
       "      <td>11002523</td>\n",
       "      <td>breit, marcus</td>\n",
       "      <td>11002523</td>\n",
       "    </tr>\n",
       "  </tbody>\n",
       "</table>\n",
       "</div>"
      ],
      "text/plain": [
       "     record_id                  name  linked_id\n",
       "0  10111147-T1           ardia mltd.   10111147\n",
       "1  12172071-T0  andré almeida blanco   12172071\n",
       "2  10104491-T1              moonta     10104491\n",
       "3     10068808         springfield     10068808\n",
       "4     13011715        grigory uvarov   13011715\n",
       "5     10105687                odin     10105687\n",
       "6  10016805-T2      capri solutions    10016805\n",
       "7     12133421           crossmatch    12133421\n",
       "8     12126772    laurence pountney    12126772\n",
       "9     11002523         breit, marcus   11002523"
      ]
     },
     "execution_count": 4,
     "metadata": {},
     "output_type": "execute_result"
    }
   ],
   "source": [
    "blacklist = [' ltd ', ' ltd.', ' ltd', 'enterprises', 'enterprise', ' limited', ' limited ', ' inc ', ' inc. ', ' inc.', \n",
    "            ' s.a. ', ' s.a.', 'international', 'holdings', 'investments', ' corp.', ' corp. ', 'corp. ', ' investment ', \n",
    "             ' investment', 'investment ', ' management ', 'management ', ' management', 'development', ' group ', ' group',\n",
    "             'group ', ' trading', ' trading ', 'trading ', ' services', 'services ', ' services', ' holding', ' holding ', \n",
    "             'holding ', \"  \"]\n",
    "for w in tqdm(blacklist):\n",
    "    df_name.name = df_name.name.str.replace(w, ' ')\n",
    "df_name.head(10)"
   ]
  },
  {
   "cell_type": "code",
   "execution_count": 5,
   "metadata": {},
   "outputs": [],
   "source": [
    "dict_dupl = {}"
   ]
  },
  {
   "cell_type": "code",
   "execution_count": 6,
   "metadata": {},
   "outputs": [
    {
     "data": {
      "application/vnd.jupyter.widget-view+json": {
       "model_id": "247a381a69ba4797822fda08ef81669a",
       "version_major": 2,
       "version_minor": 0
      },
      "text/plain": [
       "HBox(children=(IntProgress(value=1, bar_style='info', max=1), HTML(value='')))"
      ]
     },
     "metadata": {},
     "output_type": "display_data"
    },
    {
     "name": "stdout",
     "output_type": "stream",
     "text": [
      "\n"
     ]
    }
   ],
   "source": [
    "for (i,n) in tqdm(zip(df_name.record_id, df_name.name)):\n",
    "    if n in dict_dupl.keys():\n",
    "        dict_dupl[n].append(i)\n",
    "    else:\n",
    "        dict_dupl[n] = [i]"
   ]
  },
  {
   "cell_type": "code",
   "execution_count": 7,
   "metadata": {},
   "outputs": [
    {
     "data": {
      "text/plain": [
       "314869"
      ]
     },
     "execution_count": 7,
     "metadata": {},
     "output_type": "execute_result"
    }
   ],
   "source": [
    "len(list(dict_dupl))"
   ]
  },
  {
   "cell_type": "code",
   "execution_count": 8,
   "metadata": {},
   "outputs": [],
   "source": [
    "from sklearn.model_selection import train_test_split\n",
    "X_train, X_test, y_train, y_test = train_test_split(df_name.iloc[:,:-1], \n",
    "                                                    df_name.linked_id, test_size=0.3, random_state=17)"
   ]
  },
  {
   "cell_type": "code",
   "execution_count": 9,
   "metadata": {},
   "outputs": [
    {
     "data": {
      "text/html": [
       "<div>\n",
       "<style scoped>\n",
       "    .dataframe tbody tr th:only-of-type {\n",
       "        vertical-align: middle;\n",
       "    }\n",
       "\n",
       "    .dataframe tbody tr th {\n",
       "        vertical-align: top;\n",
       "    }\n",
       "\n",
       "    .dataframe thead th {\n",
       "        text-align: right;\n",
       "    }\n",
       "</style>\n",
       "<table border=\"1\" class=\"dataframe\">\n",
       "  <thead>\n",
       "    <tr style=\"text-align: right;\">\n",
       "      <th></th>\n",
       "      <th>record_id</th>\n",
       "      <th>name</th>\n",
       "    </tr>\n",
       "  </thead>\n",
       "  <tbody>\n",
       "    <tr>\n",
       "      <th>0</th>\n",
       "      <td>10111147-T1</td>\n",
       "      <td>ardia mltd.</td>\n",
       "    </tr>\n",
       "    <tr>\n",
       "      <th>1</th>\n",
       "      <td>12172071-T0</td>\n",
       "      <td>andré almeida blanco</td>\n",
       "    </tr>\n",
       "    <tr>\n",
       "      <th>2</th>\n",
       "      <td>10104491-T1</td>\n",
       "      <td>moonta</td>\n",
       "    </tr>\n",
       "    <tr>\n",
       "      <th>4</th>\n",
       "      <td>13011715</td>\n",
       "      <td>grigory uvarov</td>\n",
       "    </tr>\n",
       "    <tr>\n",
       "      <th>5</th>\n",
       "      <td>10105687</td>\n",
       "      <td>odin</td>\n",
       "    </tr>\n",
       "    <tr>\n",
       "      <th>6</th>\n",
       "      <td>10016805-T2</td>\n",
       "      <td>capri solutions</td>\n",
       "    </tr>\n",
       "    <tr>\n",
       "      <th>7</th>\n",
       "      <td>12133421</td>\n",
       "      <td>crossmatch</td>\n",
       "    </tr>\n",
       "    <tr>\n",
       "      <th>8</th>\n",
       "      <td>12126772</td>\n",
       "      <td>laurence pountney</td>\n",
       "    </tr>\n",
       "    <tr>\n",
       "      <th>9</th>\n",
       "      <td>11002523</td>\n",
       "      <td>breit, marcus</td>\n",
       "    </tr>\n",
       "    <tr>\n",
       "      <th>10</th>\n",
       "      <td>10046375-NV0</td>\n",
       "      <td>afccotrade</td>\n",
       "    </tr>\n",
       "  </tbody>\n",
       "</table>\n",
       "</div>"
      ],
      "text/plain": [
       "       record_id                  name\n",
       "0    10111147-T1           ardia mltd.\n",
       "1    12172071-T0  andré almeida blanco\n",
       "2    10104491-T1              moonta  \n",
       "4       13011715        grigory uvarov\n",
       "5       10105687                odin  \n",
       "6    10016805-T2      capri solutions \n",
       "7       12133421           crossmatch \n",
       "8       12126772    laurence pountney \n",
       "9       11002523         breit, marcus\n",
       "10  10046375-NV0          afccotrade  "
      ]
     },
     "execution_count": 9,
     "metadata": {},
     "output_type": "execute_result"
    }
   ],
   "source": [
    "X_train = X_train.sort_index()\n",
    "X_train.head(10)"
   ]
  },
  {
   "cell_type": "code",
   "execution_count": 10,
   "metadata": {},
   "outputs": [
    {
     "data": {
      "text/plain": [
       "0     10111147\n",
       "1     12172071\n",
       "2     10104491\n",
       "4     13011715\n",
       "5     10105687\n",
       "6     10016805\n",
       "7     12133421\n",
       "8     12126772\n",
       "9     11002523\n",
       "10    10046375\n",
       "Name: linked_id, dtype: int64"
      ]
     },
     "execution_count": 10,
     "metadata": {},
     "output_type": "execute_result"
    }
   ],
   "source": [
    "y_train = y_train.sort_index()\n",
    "y_train.head(10)"
   ]
  },
  {
   "cell_type": "code",
   "execution_count": 11,
   "metadata": {},
   "outputs": [
    {
     "data": {
      "text/html": [
       "<div>\n",
       "<style scoped>\n",
       "    .dataframe tbody tr th:only-of-type {\n",
       "        vertical-align: middle;\n",
       "    }\n",
       "\n",
       "    .dataframe tbody tr th {\n",
       "        vertical-align: top;\n",
       "    }\n",
       "\n",
       "    .dataframe thead th {\n",
       "        text-align: right;\n",
       "    }\n",
       "</style>\n",
       "<table border=\"1\" class=\"dataframe\">\n",
       "  <thead>\n",
       "    <tr style=\"text-align: right;\">\n",
       "      <th></th>\n",
       "      <th>record_id</th>\n",
       "      <th>name</th>\n",
       "    </tr>\n",
       "  </thead>\n",
       "  <tbody>\n",
       "    <tr>\n",
       "      <th>3</th>\n",
       "      <td>10068808</td>\n",
       "      <td>springfield</td>\n",
       "    </tr>\n",
       "    <tr>\n",
       "      <th>14</th>\n",
       "      <td>12188364</td>\n",
       "      <td>li guobang</td>\n",
       "    </tr>\n",
       "    <tr>\n",
       "      <th>15</th>\n",
       "      <td>10151690</td>\n",
       "      <td>zucean</td>\n",
       "    </tr>\n",
       "    <tr>\n",
       "      <th>16</th>\n",
       "      <td>10117892-T4</td>\n",
       "      <td>longxi</td>\n",
       "    </tr>\n",
       "    <tr>\n",
       "      <th>19</th>\n",
       "      <td>10045048-M0</td>\n",
       "      <td>sandro botticelli,</td>\n",
       "    </tr>\n",
       "    <tr>\n",
       "      <th>20</th>\n",
       "      <td>12220469-M2</td>\n",
       "      <td>ali ahmed darrat, najib ahmed darrat, ahmed aa...</td>\n",
       "    </tr>\n",
       "    <tr>\n",
       "      <th>25</th>\n",
       "      <td>12214184</td>\n",
       "      <td>santiago peña durini</td>\n",
       "    </tr>\n",
       "    <tr>\n",
       "      <th>26</th>\n",
       "      <td>13012085</td>\n",
       "      <td>lio wen tong</td>\n",
       "    </tr>\n",
       "    <tr>\n",
       "      <th>29</th>\n",
       "      <td>10022235-M2</td>\n",
       "      <td>spirit ride</td>\n",
       "    </tr>\n",
       "    <tr>\n",
       "      <th>30</th>\n",
       "      <td>10198754-M1</td>\n",
       "      <td>inversiones siglo veintiuno</td>\n",
       "    </tr>\n",
       "  </tbody>\n",
       "</table>\n",
       "</div>"
      ],
      "text/plain": [
       "      record_id                                               name\n",
       "3      10068808                                      springfield  \n",
       "14     12188364                                         li guobang\n",
       "15     10151690                                            zucean \n",
       "16  10117892-T4                                            longxi \n",
       "19  10045048-M0                                sandro botticelli, \n",
       "20  12220469-M2  ali ahmed darrat, najib ahmed darrat, ahmed aa...\n",
       "25     12214184                               santiago peña durini\n",
       "26     13012085                                       lio wen tong\n",
       "29  10022235-M2                                       spirit ride \n",
       "30  10198754-M1                       inversiones siglo veintiuno "
      ]
     },
     "execution_count": 11,
     "metadata": {},
     "output_type": "execute_result"
    }
   ],
   "source": [
    "X_test = X_test.sort_index()\n",
    "X_test.head(10)"
   ]
  },
  {
   "cell_type": "code",
   "execution_count": 12,
   "metadata": {},
   "outputs": [
    {
     "data": {
      "text/plain": [
       "3     10068808\n",
       "14    12188364\n",
       "15    10151690\n",
       "16    10117892\n",
       "19    10045048\n",
       "20    12220469\n",
       "25    12214184\n",
       "26    13012085\n",
       "29    10022235\n",
       "30    10198754\n",
       "Name: linked_id, dtype: int64"
      ]
     },
     "execution_count": 12,
     "metadata": {},
     "output_type": "execute_result"
    }
   ],
   "source": [
    "y_test = y_test.sort_index()\n",
    "y_test.head(10)"
   ]
  },
  {
   "cell_type": "code",
   "execution_count": 13,
   "metadata": {},
   "outputs": [
    {
     "data": {
      "application/vnd.jupyter.widget-view+json": {
       "model_id": "6dd9d2dd93c545cd9e68125124ff968a",
       "version_major": 2,
       "version_minor": 0
      },
      "text/plain": [
       "HBox(children=(IntProgress(value=1, bar_style='info', max=1), HTML(value='')))"
      ]
     },
     "metadata": {},
     "output_type": "display_data"
    },
    {
     "name": "stdout",
     "output_type": "stream",
     "text": [
      "3 springfield  \n"
     ]
    },
    {
     "data": {
      "application/vnd.jupyter.widget-view+json": {
       "model_id": "f75dbf2e03aa4af7a4d7e7e6c3dcba80",
       "version_major": 2,
       "version_minor": 0
      },
      "text/plain": [
       "HBox(children=(IntProgress(value=1, bar_style='info', max=1), HTML(value='')))"
      ]
     },
     "metadata": {},
     "output_type": "display_data"
    },
    {
     "name": "stdout",
     "output_type": "stream",
     "text": [
      "10206335-M1 - springfield   : label 10206335\n",
      "10031869-NV0 - springfield : label 10031869\n",
      "10031869 - springfield : label 10031869\n",
      "10068808-T2 - springfield  : label 10068808\n",
      "10206335-M0 - springfield   : label 10206335\n",
      "10068808-T0 - springfield  : label 10068808\n",
      "10206335 - springfield   : label 10206335\n",
      "\n",
      "14 li guobang\n"
     ]
    },
    {
     "data": {
      "application/vnd.jupyter.widget-view+json": {
       "model_id": "27e2aa94e433421f9482fc57a5f4f94a",
       "version_major": 2,
       "version_minor": 0
      },
      "text/plain": [
       "HBox(children=(IntProgress(value=1, bar_style='info', max=1), HTML(value='')))"
      ]
     },
     "metadata": {},
     "output_type": "display_data"
    },
    {
     "name": "stdout",
     "output_type": "stream",
     "text": [
      "12136136-NV1 - li guogang: label 12136136\n",
      "12188364-NV1 - li guobang: label 12188364\n",
      "12188364-NV0 - li guobang: label 12188364\n",
      "12136136 - li guogang: label 12136136\n",
      "12136136-NV0 - li guogang: label 12136136\n",
      "\n",
      "15 zucean \n"
     ]
    },
    {
     "data": {
      "application/vnd.jupyter.widget-view+json": {
       "model_id": "6f2572db68e3469aa4159c5887f75265",
       "version_major": 2,
       "version_minor": 0
      },
      "text/plain": [
       "HBox(children=(IntProgress(value=1, bar_style='info', max=1), HTML(value='')))"
      ]
     },
     "metadata": {},
     "output_type": "display_data"
    },
    {
     "name": "stdout",
     "output_type": "stream",
     "text": [
      "10151690-T2 - zucean : label 10151690\n",
      "10151690-T0 - zuwean : label 10151690\n",
      "10151690-T1 - zucean : label 10151690\n",
      "\n",
      "16 longxi \n"
     ]
    },
    {
     "data": {
      "application/vnd.jupyter.widget-view+json": {
       "model_id": "ad9dd438897c4dda9067e299adce4c6d",
       "version_major": 2,
       "version_minor": 0
      },
      "text/plain": [
       "HBox(children=(IntProgress(value=1, bar_style='info', max=1), HTML(value='')))"
      ]
     },
     "metadata": {},
     "output_type": "display_data"
    },
    {
     "name": "stdout",
     "output_type": "stream",
     "text": [
      "10117892-T3 - longxi : label 10117892\n",
      "10117892 - longxi : label 10117892\n",
      "10117892-T1 - longxi : label 10117892\n",
      "\n",
      "19 sandro botticelli, \n"
     ]
    },
    {
     "data": {
      "application/vnd.jupyter.widget-view+json": {
       "model_id": "b1967a4086144dfda58e9315235ba57d",
       "version_major": 2,
       "version_minor": 0
      },
      "text/plain": [
       "HBox(children=(IntProgress(value=1, bar_style='info', max=1), HTML(value='')))"
      ]
     },
     "metadata": {},
     "output_type": "display_data"
    },
    {
     "name": "stdout",
     "output_type": "stream",
     "text": [
      "10045048-M2 - sandro botticelli, : label 10045048\n",
      "\n",
      "20 ali ahmed darrat, najib ahmed darrat, ahmed aa elderat and kamal ahmed darrat\n"
     ]
    },
    {
     "data": {
      "application/vnd.jupyter.widget-view+json": {
       "model_id": "fed2e8b0273d4ce881ffab2b3b621549",
       "version_major": 2,
       "version_minor": 0
      },
      "text/plain": [
       "HBox(children=(IntProgress(value=1, bar_style='info', max=1), HTML(value='')))"
      ]
     },
     "metadata": {},
     "output_type": "display_data"
    },
    {
     "name": "stdout",
     "output_type": "stream",
     "text": [
      "12220469-NV1 - ali ahmed darrat, najib ahmed darrat, ahmed aa elderat and kamal ahmed darrat: label 12220469\n",
      "12220469-M1 - ali ahmed darrat, najib ahmed darrat, ahmed aa elderat and kamal ahmed darrat: label 12220469\n",
      "12220469 - ali ahmed darrat, najib ahmed darrat, ahmed aa elderat and kamal ahmed darrat: label 12220469\n",
      "12220469-NV0 - ali ahmed darrat, najib ahmed darrat, ahmed aa elderat and kamal ahmed darrat: label 12220469\n",
      "\n",
      "25 santiago peña durini\n"
     ]
    },
    {
     "data": {
      "application/vnd.jupyter.widget-view+json": {
       "model_id": "55376e6e8630497eb4c30cfc46c1052e",
       "version_major": 2,
       "version_minor": 0
      },
      "text/plain": [
       "HBox(children=(IntProgress(value=1, bar_style='info', max=1), HTML(value='')))"
      ]
     },
     "metadata": {},
     "output_type": "display_data"
    },
    {
     "name": "stdout",
     "output_type": "stream",
     "text": [
      "12214184-M1 - santiago peña durini: label 12214184\n",
      "\n",
      "26 lio wen tong\n"
     ]
    },
    {
     "data": {
      "application/vnd.jupyter.widget-view+json": {
       "model_id": "0f05f19841cc4b96af8f4a2ca95ac48c",
       "version_major": 2,
       "version_minor": 0
      },
      "text/plain": [
       "HBox(children=(IntProgress(value=1, bar_style='info', max=1), HTML(value='')))"
      ]
     },
     "metadata": {},
     "output_type": "display_data"
    },
    {
     "name": "stdout",
     "output_type": "stream",
     "text": [
      "13009669 - lio wen tong: label 13009669\n",
      "13012085-NV0 - lio wen tong: label 13012085\n",
      "13009669-NV2 - lio wen tong: label 13009669\n",
      "\n",
      "29 spirit ride \n"
     ]
    },
    {
     "data": {
      "application/vnd.jupyter.widget-view+json": {
       "model_id": "fb68e44efb444102be9e883559313193",
       "version_major": 2,
       "version_minor": 0
      },
      "text/plain": [
       "HBox(children=(IntProgress(value=1, bar_style='info', max=1), HTML(value='')))"
      ]
     },
     "metadata": {},
     "output_type": "display_data"
    },
    {
     "name": "stdout",
     "output_type": "stream",
     "text": [
      "10022235-M0 - spirit ride : label 10022235\n",
      "10022235-M1 - spirit ride : label 10022235\n",
      "10022235 - spirit ride : label 10022235\n",
      "\n",
      "30 inversiones siglo veintiuno \n"
     ]
    },
    {
     "data": {
      "application/vnd.jupyter.widget-view+json": {
       "model_id": "16efd5b553a540da82bde0caa8d14a94",
       "version_major": 2,
       "version_minor": 0
      },
      "text/plain": [
       "HBox(children=(IntProgress(value=1, bar_style='info', max=1), HTML(value='')))"
      ]
     },
     "metadata": {},
     "output_type": "display_data"
    },
    {
     "name": "stdout",
     "output_type": "stream",
     "text": [
      "10198754 - inversiones siglo veintiuno : label 10198754\n",
      "10198754-M2 - inversiones siglo veintiuno : label 10198754\n",
      "\n",
      "\n"
     ]
    }
   ],
   "source": [
    "for(i, n) in tqdm(zip(X_test.index[:10], X_test.name[:10])):\n",
    "    print(f'{i} {n}')\n",
    "    for (rid, row) in tqdm(zip(X_train.record_id, X_train.name)):\n",
    "        if (len(n) - editdistance.eval(n, row))/len(n) > 0.85:\n",
    "            label = rid.split('-')[0]\n",
    "            print(f'{rid} - {row}: label {label}')"
   ]
  },
  {
   "cell_type": "code",
   "execution_count": 14,
   "metadata": {},
   "outputs": [
    {
     "data": {
      "application/vnd.jupyter.widget-view+json": {
       "model_id": "db06c37c8a0940d2953a936cdd828e4b",
       "version_major": 2,
       "version_minor": 0
      },
      "text/plain": [
       "HBox(children=(IntProgress(value=1, bar_style='info', max=1), HTML(value='')))"
      ]
     },
     "metadata": {},
     "output_type": "display_data"
    },
    {
     "name": "stdout",
     "output_type": "stream",
     "text": [
      "3 springfield  \n"
     ]
    },
    {
     "data": {
      "application/vnd.jupyter.widget-view+json": {
       "model_id": "950da711cee84e57a9fae4e41fa2c7df",
       "version_major": 2,
       "version_minor": 0
      },
      "text/plain": [
       "HBox(children=(IntProgress(value=0, max=314869), HTML(value='')))"
      ]
     },
     "metadata": {},
     "output_type": "display_data"
    },
    {
     "name": "stdout",
     "output_type": "stream",
     "text": [
      "['10068808', '10068808-T2', '10068808-T0'] - springfield  \n",
      "['10206335-M1', '10206335-M0', '10206335'] - springfield   \n",
      "['10031869-NV0', '10031869'] - springfield \n",
      "\n",
      "14 li guobang\n"
     ]
    },
    {
     "data": {
      "application/vnd.jupyter.widget-view+json": {
       "model_id": "95c6d76be21047708e618df94c5b8bd8",
       "version_major": 2,
       "version_minor": 0
      },
      "text/plain": [
       "HBox(children=(IntProgress(value=0, max=314869), HTML(value='')))"
      ]
     },
     "metadata": {},
     "output_type": "display_data"
    },
    {
     "name": "stdout",
     "output_type": "stream",
     "text": [
      "['12188364', '12188364-NV1', '12188364-NV0'] - li guobang\n",
      "['12136136-NV1', '12136136', '12136136-NV0'] - li guogang\n",
      "\n",
      "15 zucean \n"
     ]
    },
    {
     "data": {
      "application/vnd.jupyter.widget-view+json": {
       "model_id": "6f501ad66d9a40d998099edd64c13bd3",
       "version_major": 2,
       "version_minor": 0
      },
      "text/plain": [
       "HBox(children=(IntProgress(value=0, max=314869), HTML(value='')))"
      ]
     },
     "metadata": {},
     "output_type": "display_data"
    },
    {
     "name": "stdout",
     "output_type": "stream",
     "text": [
      "['10151690', '10151690-NV0', '10151690-NV1', '10151690-T2', '10151690-T1'] - zucean \n",
      "['10151690-T0'] - zuwean \n",
      "\n",
      "16 longxi \n"
     ]
    },
    {
     "data": {
      "application/vnd.jupyter.widget-view+json": {
       "model_id": "5f44b29a0bb645c29752e76684f1dba7",
       "version_major": 2,
       "version_minor": 0
      },
      "text/plain": [
       "HBox(children=(IntProgress(value=0, max=314869), HTML(value='')))"
      ]
     },
     "metadata": {},
     "output_type": "display_data"
    },
    {
     "name": "stdout",
     "output_type": "stream",
     "text": [
      "['10117892-T4', '10117892-T2', '10117892-T3', '10117892', '10117892-T1'] - longxi \n",
      "\n",
      "19 sandro botticelli, \n"
     ]
    },
    {
     "data": {
      "application/vnd.jupyter.widget-view+json": {
       "model_id": "1f2d04e2ae5b4e868fba8e7690f513a9",
       "version_major": 2,
       "version_minor": 0
      },
      "text/plain": [
       "HBox(children=(IntProgress(value=0, max=314869), HTML(value='')))"
      ]
     },
     "metadata": {},
     "output_type": "display_data"
    },
    {
     "name": "stdout",
     "output_type": "stream",
     "text": [
      "['10045048-M0', '10045048', '10045048-M1', '10045048-M2'] - sandro botticelli, \n",
      "\n",
      "20 ali ahmed darrat, najib ahmed darrat, ahmed aa elderat and kamal ahmed darrat\n"
     ]
    },
    {
     "data": {
      "application/vnd.jupyter.widget-view+json": {
       "model_id": "678370c7c7d34291a1a1d0b09ed9eee2",
       "version_major": 2,
       "version_minor": 0
      },
      "text/plain": [
       "HBox(children=(IntProgress(value=0, max=314869), HTML(value='')))"
      ]
     },
     "metadata": {},
     "output_type": "display_data"
    },
    {
     "name": "stdout",
     "output_type": "stream",
     "text": [
      "['12220469-M2', '12220469-NV1', '12220469-NV2', '12220469-M1', '12220469-M0', '12220469', '12220469-NV0'] - ali ahmed darrat, najib ahmed darrat, ahmed aa elderat and kamal ahmed darrat\n",
      "\n",
      "25 santiago peña durini\n"
     ]
    },
    {
     "data": {
      "application/vnd.jupyter.widget-view+json": {
       "model_id": "8730a7093e3d4913b5841a323c3e06ea",
       "version_major": 2,
       "version_minor": 0
      },
      "text/plain": [
       "HBox(children=(IntProgress(value=0, max=314869), HTML(value='')))"
      ]
     },
     "metadata": {},
     "output_type": "display_data"
    },
    {
     "name": "stdout",
     "output_type": "stream",
     "text": [
      "['12214184', '12214184-M1'] - santiago peña durini\n",
      "\n",
      "26 lio wen tong\n"
     ]
    },
    {
     "data": {
      "application/vnd.jupyter.widget-view+json": {
       "model_id": "d3ea25b26ab54ae59fa281c72007baaa",
       "version_major": 2,
       "version_minor": 0
      },
      "text/plain": [
       "HBox(children=(IntProgress(value=0, max=314869), HTML(value='')))"
      ]
     },
     "metadata": {},
     "output_type": "display_data"
    },
    {
     "name": "stdout",
     "output_type": "stream",
     "text": [
      "['13012085', '13009669-NV1', '13012085-NV1', '13009669', '13012085-NV0', '13009669-NV0', '13009669-NV2'] - lio wen tong\n",
      "['12162463'] - lio weng tong\n",
      "\n",
      "29 spirit ride \n"
     ]
    },
    {
     "data": {
      "application/vnd.jupyter.widget-view+json": {
       "model_id": "178d4c95d8eb4730897cf52cf36916f5",
       "version_major": 2,
       "version_minor": 0
      },
      "text/plain": [
       "HBox(children=(IntProgress(value=0, max=314869), HTML(value='')))"
      ]
     },
     "metadata": {},
     "output_type": "display_data"
    },
    {
     "name": "stdout",
     "output_type": "stream",
     "text": [
      "['10022235-M2', '10022235-M0', '10022235-M1', '10022235'] - spirit ride \n",
      "\n",
      "30 inversiones siglo veintiuno \n"
     ]
    },
    {
     "data": {
      "application/vnd.jupyter.widget-view+json": {
       "model_id": "cb064d414d2748c2ada55bbd653bf892",
       "version_major": 2,
       "version_minor": 0
      },
      "text/plain": [
       "HBox(children=(IntProgress(value=0, max=314869), HTML(value='')))"
      ]
     },
     "metadata": {},
     "output_type": "display_data"
    },
    {
     "name": "stdout",
     "output_type": "stream",
     "text": [
      "['10198754-M1', '10198754', '10198754-M2', '10198754-M0'] - inversiones siglo veintiuno \n",
      "\n",
      "\n"
     ]
    }
   ],
   "source": [
    "for(i, n) in tqdm(zip(X_test.index[:10], X_test.name[:10])):\n",
    "    print(f'{i} {n}')\n",
    "    for train_n in tqdm(list(dict_dupl)):\n",
    "        #if (len(n) - editdistance.eval(n, train_n))/len(n) > 0.85:\n",
    "        if editdistance.eval(n, train_n) < 2:\n",
    "            print(f'{dict_dupl[train_n]} - {train_n}')"
   ]
  },
  {
   "cell_type": "code",
   "execution_count": 15,
   "metadata": {},
   "outputs": [],
   "source": [
    "def levenshtein(s1, s2):\n",
    "    if len(s1) < len(s2):\n",
    "        return levenshtein(s2, s1)\n",
    "\n",
    "    # len(s1) >= len(s2)\n",
    "    if len(s2) == 0:\n",
    "        return len(s1)\n",
    "\n",
    "    previous_row = range(len(s2) + 1)\n",
    "    for i, c1 in enumerate(s1):\n",
    "        current_row = [i + 1]\n",
    "        for j, c2 in enumerate(s2):\n",
    "            insertions = previous_row[j + 1] + 1 # j+1 instead of j since previous_row and current_row are one character longer\n",
    "            deletions = current_row[j] + 1       # than s2\n",
    "            substitutions = previous_row[j] + (c1 != c2)\n",
    "            current_row.append(min(insertions, deletions, substitutions))\n",
    "        previous_row = current_row\n",
    "    \n",
    "    return previous_row[-1]"
   ]
  },
  {
   "cell_type": "code",
   "execution_count": 16,
   "metadata": {},
   "outputs": [
    {
     "name": "stdout",
     "output_type": "stream",
     "text": [
      "ls: !: No such file or directory\r\n",
      "ls: ../cython/editdistance/: No such file or directory\r\n"
     ]
    }
   ],
   "source": [
    "ls ../cython/editdistance/ !"
   ]
  },
  {
   "cell_type": "code",
   "execution_count": null,
   "metadata": {},
   "outputs": [],
   "source": [
    "from ..cython"
   ]
  },
  {
   "cell_type": "code",
   "execution_count": 17,
   "metadata": {},
   "outputs": [
    {
     "data": {
      "application/vnd.jupyter.widget-view+json": {
       "model_id": "f6a76f683fca43fa901e49d3fed0705a",
       "version_major": 2,
       "version_minor": 0
      },
      "text/plain": [
       "HBox(children=(IntProgress(value=1, bar_style='info', max=1), HTML(value='')))"
      ]
     },
     "metadata": {},
     "output_type": "display_data"
    },
    {
     "name": "stdout",
     "output_type": "stream",
     "text": [
      "3 springfield  \n"
     ]
    },
    {
     "data": {
      "application/vnd.jupyter.widget-view+json": {
       "model_id": "a042e6a4b2e04d91a57e1366f0b08650",
       "version_major": 2,
       "version_minor": 0
      },
      "text/plain": [
       "HBox(children=(IntProgress(value=0, max=314869), HTML(value='')))"
      ]
     },
     "metadata": {},
     "output_type": "display_data"
    },
    {
     "name": "stdout",
     "output_type": "stream",
     "text": [
      "\n",
      "\n"
     ]
    },
    {
     "ename": "NameError",
     "evalue": "name 'ed' is not defined",
     "output_type": "error",
     "traceback": [
      "\u001b[0;31m---------------------------------------------------------------------------\u001b[0m",
      "\u001b[0;31mNameError\u001b[0m                                 Traceback (most recent call last)",
      "\u001b[0;32m<ipython-input-17-045223277900>\u001b[0m in \u001b[0;36m<module>\u001b[0;34m\u001b[0m\n\u001b[1;32m      3\u001b[0m     \u001b[0;32mfor\u001b[0m \u001b[0mtrain_n\u001b[0m \u001b[0;32min\u001b[0m \u001b[0mtqdm\u001b[0m\u001b[0;34m(\u001b[0m\u001b[0mlist\u001b[0m\u001b[0;34m(\u001b[0m\u001b[0mdict_dupl\u001b[0m\u001b[0;34m)\u001b[0m\u001b[0;34m)\u001b[0m\u001b[0;34m:\u001b[0m\u001b[0;34m\u001b[0m\u001b[0;34m\u001b[0m\u001b[0m\n\u001b[1;32m      4\u001b[0m         \u001b[0;31m#if (len(n) - editdistance.eval(n, train_n))/len(n) > 0.85:\u001b[0m\u001b[0;34m\u001b[0m\u001b[0;34m\u001b[0m\u001b[0;34m\u001b[0m\u001b[0m\n\u001b[0;32m----> 5\u001b[0;31m         \u001b[0;32mif\u001b[0m \u001b[0med\u001b[0m\u001b[0;34m(\u001b[0m\u001b[0mn\u001b[0m\u001b[0;34m,\u001b[0m \u001b[0mtrain_n\u001b[0m\u001b[0;34m)\u001b[0m \u001b[0;34m<\u001b[0m \u001b[0;36m2\u001b[0m\u001b[0;34m:\u001b[0m\u001b[0;34m\u001b[0m\u001b[0;34m\u001b[0m\u001b[0m\n\u001b[0m\u001b[1;32m      6\u001b[0m             \u001b[0mprint\u001b[0m\u001b[0;34m(\u001b[0m\u001b[0;34mf'{dict_dupl[train_n]} - {train_n}'\u001b[0m\u001b[0;34m)\u001b[0m\u001b[0;34m\u001b[0m\u001b[0;34m\u001b[0m\u001b[0m\n",
      "\u001b[0;31mNameError\u001b[0m: name 'ed' is not defined"
     ]
    }
   ],
   "source": [
    "for(i, n) in tqdm(zip(X_test.index[:10], X_test.name[:10])):\n",
    "    print(f'{i} {n}')\n",
    "    for train_n in tqdm(list(dict_dupl)):\n",
    "        #if (len(n) - editdistance.eval(n, train_n))/len(n) > 0.85:\n",
    "        if ed(n, train_n) < 2:\n",
    "            print(f'{dict_dupl[train_n]} - {train_n}')"
   ]
  },
  {
   "cell_type": "code",
   "execution_count": null,
   "metadata": {},
   "outputs": [],
   "source": []
  }
 ],
 "metadata": {
  "kernelspec": {
   "display_name": "Python 3",
   "language": "python",
   "name": "python3"
  },
  "language_info": {
   "codemirror_mode": {
    "name": "ipython",
    "version": 3
   },
   "file_extension": ".py",
   "mimetype": "text/x-python",
   "name": "python",
   "nbconvert_exporter": "python",
   "pygments_lexer": "ipython3",
   "version": "3.7.4"
  }
 },
 "nbformat": 4,
 "nbformat_minor": 2
}
