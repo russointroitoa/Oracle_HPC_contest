{
 "cells": [
  {
   "cell_type": "code",
   "execution_count": 1,
   "metadata": {},
   "outputs": [],
   "source": [
    "import pandas as pd\n",
    "import matplotlib\n",
    "from tqdm.auto import tqdm\n",
    "pd.set_option('display.max_columns', 50)\n",
    "pd.set_option('display.max_rows', 20)"
   ]
  },
  {
   "cell_type": "code",
   "execution_count": 2,
   "metadata": {},
   "outputs": [
    {
     "data": {
      "text/html": [
       "<div>\n",
       "<style scoped>\n",
       "    .dataframe tbody tr th:only-of-type {\n",
       "        vertical-align: middle;\n",
       "    }\n",
       "\n",
       "    .dataframe tbody tr th {\n",
       "        vertical-align: top;\n",
       "    }\n",
       "\n",
       "    .dataframe thead th {\n",
       "        text-align: right;\n",
       "    }\n",
       "</style>\n",
       "<table border=\"1\" class=\"dataframe\">\n",
       "  <thead>\n",
       "    <tr style=\"text-align: right;\">\n",
       "      <th></th>\n",
       "      <th>record_id</th>\n",
       "      <th>name</th>\n",
       "      <th>type</th>\n",
       "      <th>address</th>\n",
       "      <th>phone</th>\n",
       "      <th>email</th>\n",
       "      <th>modification</th>\n",
       "      <th>linked_id</th>\n",
       "    </tr>\n",
       "  </thead>\n",
       "  <tbody>\n",
       "    <tr>\n",
       "      <th>0</th>\n",
       "      <td>10111147-T1</td>\n",
       "      <td>ArDIA ENTERPRISESmLTD.</td>\n",
       "      <td>entity</td>\n",
       "      <td>NaN</td>\n",
       "      <td>4.102971e+12</td>\n",
       "      <td>imquires@zoho.vo</td>\n",
       "      <td>typo</td>\n",
       "      <td>10111147</td>\n",
       "    </tr>\n",
       "    <tr>\n",
       "      <th>1</th>\n",
       "      <td>12172071-T0</td>\n",
       "      <td>ANDRÉ ALMEIDA BLANCO</td>\n",
       "      <td>officer</td>\n",
       "      <td>la Rua Pelotas; 209; apartamento 72; Bloco A; ...</td>\n",
       "      <td>NaN</td>\n",
       "      <td>NaN</td>\n",
       "      <td>typo</td>\n",
       "      <td>12172071</td>\n",
       "    </tr>\n",
       "    <tr>\n",
       "      <th>2</th>\n",
       "      <td>10104491-T1</td>\n",
       "      <td>MOONTA HOLDINGS LTD.</td>\n",
       "      <td>entity</td>\n",
       "      <td>NaN</td>\n",
       "      <td>6.501346e+10</td>\n",
       "      <td>NaN</td>\n",
       "      <td>typo</td>\n",
       "      <td>10104491</td>\n",
       "    </tr>\n",
       "    <tr>\n",
       "      <th>3</th>\n",
       "      <td>10068808</td>\n",
       "      <td>SPRINGFIELD INVESTMENTS GROUP LIMITED</td>\n",
       "      <td>entity</td>\n",
       "      <td>NaN</td>\n",
       "      <td>NaN</td>\n",
       "      <td>consulting@zoho.de</td>\n",
       "      <td>original</td>\n",
       "      <td>10068808</td>\n",
       "    </tr>\n",
       "    <tr>\n",
       "      <th>4</th>\n",
       "      <td>13011715</td>\n",
       "      <td>GRIGORY UVAROV</td>\n",
       "      <td>officer</td>\n",
       "      <td>127273; MOSCOW; OTRADNAJA STREET; HOUSE 2; NO....</td>\n",
       "      <td>NaN</td>\n",
       "      <td>NaN</td>\n",
       "      <td>original</td>\n",
       "      <td>13011715</td>\n",
       "    </tr>\n",
       "    <tr>\n",
       "      <th>5</th>\n",
       "      <td>10105687</td>\n",
       "      <td>ODIN GROUP INVESTMENTS S.A.</td>\n",
       "      <td>entity</td>\n",
       "      <td>NaN</td>\n",
       "      <td>4.966891e+10</td>\n",
       "      <td>info@outlook.cz</td>\n",
       "      <td>original</td>\n",
       "      <td>10105687</td>\n",
       "    </tr>\n",
       "    <tr>\n",
       "      <th>6</th>\n",
       "      <td>10016805-T2</td>\n",
       "      <td>CAPRI SOLUTIONS LIMITED</td>\n",
       "      <td>entity</td>\n",
       "      <td>NaN</td>\n",
       "      <td>NaN</td>\n",
       "      <td>help@CAPRI.SOLUTIONS.LxMITED.de</td>\n",
       "      <td>typo</td>\n",
       "      <td>10016805</td>\n",
       "    </tr>\n",
       "    <tr>\n",
       "      <th>7</th>\n",
       "      <td>12133421</td>\n",
       "      <td>Crossmatch S.A.</td>\n",
       "      <td>officer</td>\n",
       "      <td>Akara building 24 De Castro Street, Wickham Ca...</td>\n",
       "      <td>NaN</td>\n",
       "      <td>CrossmatchSA@aol.gov</td>\n",
       "      <td>original</td>\n",
       "      <td>12133421</td>\n",
       "    </tr>\n",
       "    <tr>\n",
       "      <th>8</th>\n",
       "      <td>12126772</td>\n",
       "      <td>LAURENCE POUNTNEY LTD</td>\n",
       "      <td>officer</td>\n",
       "      <td>Akara Building 24 De Castro St; Wickham Cay I;...</td>\n",
       "      <td>NaN</td>\n",
       "      <td>support@LAURENCE.POUNTNEY.LTD.gov</td>\n",
       "      <td>original</td>\n",
       "      <td>12126772</td>\n",
       "    </tr>\n",
       "    <tr>\n",
       "      <th>9</th>\n",
       "      <td>11002523</td>\n",
       "      <td>BREIT, MARCUS</td>\n",
       "      <td>intermediary</td>\n",
       "      <td>NaN</td>\n",
       "      <td>4.401803e+11</td>\n",
       "      <td>NaN</td>\n",
       "      <td>original</td>\n",
       "      <td>11002523</td>\n",
       "    </tr>\n",
       "  </tbody>\n",
       "</table>\n",
       "</div>"
      ],
      "text/plain": [
       "     record_id                                   name          type  \\\n",
       "0  10111147-T1                 ArDIA ENTERPRISESmLTD.        entity   \n",
       "1  12172071-T0                   ANDRÉ ALMEIDA BLANCO       officer   \n",
       "2  10104491-T1                   MOONTA HOLDINGS LTD.        entity   \n",
       "3     10068808  SPRINGFIELD INVESTMENTS GROUP LIMITED        entity   \n",
       "4     13011715                         GRIGORY UVAROV       officer   \n",
       "5     10105687            ODIN GROUP INVESTMENTS S.A.        entity   \n",
       "6  10016805-T2                CAPRI SOLUTIONS LIMITED        entity   \n",
       "7     12133421                        Crossmatch S.A.       officer   \n",
       "8     12126772                  LAURENCE POUNTNEY LTD       officer   \n",
       "9     11002523                          BREIT, MARCUS  intermediary   \n",
       "\n",
       "                                             address         phone  \\\n",
       "0                                                NaN  4.102971e+12   \n",
       "1  la Rua Pelotas; 209; apartamento 72; Bloco A; ...           NaN   \n",
       "2                                                NaN  6.501346e+10   \n",
       "3                                                NaN           NaN   \n",
       "4  127273; MOSCOW; OTRADNAJA STREET; HOUSE 2; NO....           NaN   \n",
       "5                                                NaN  4.966891e+10   \n",
       "6                                                NaN           NaN   \n",
       "7  Akara building 24 De Castro Street, Wickham Ca...           NaN   \n",
       "8  Akara Building 24 De Castro St; Wickham Cay I;...           NaN   \n",
       "9                                                NaN  4.401803e+11   \n",
       "\n",
       "                               email modification  linked_id  \n",
       "0                   imquires@zoho.vo         typo   10111147  \n",
       "1                                NaN         typo   12172071  \n",
       "2                                NaN         typo   10104491  \n",
       "3                 consulting@zoho.de     original   10068808  \n",
       "4                                NaN     original   13011715  \n",
       "5                    info@outlook.cz     original   10105687  \n",
       "6    help@CAPRI.SOLUTIONS.LxMITED.de         typo   10016805  \n",
       "7               CrossmatchSA@aol.gov     original   12133421  \n",
       "8  support@LAURENCE.POUNTNEY.LTD.gov     original   12126772  \n",
       "9                                NaN     original   11002523  "
      ]
     },
     "execution_count": 2,
     "metadata": {},
     "output_type": "execute_result"
    }
   ],
   "source": [
    "df_train = pd.read_csv(\"../dataset/original/entity-resolution_advanced-topics-training_data.csv\")\n",
    "df_train.head(10)"
   ]
  },
  {
   "cell_type": "code",
   "execution_count": 10,
   "metadata": {},
   "outputs": [
    {
     "data": {
      "text/plain": [
       "2.5872984987502057"
      ]
     },
     "execution_count": 10,
     "metadata": {},
     "output_type": "execute_result"
    }
   ],
   "source": [
    "# numero di entità medio che fanno riferimento ad una stessa entità\n",
    "df_train.groupby(['linked_id']).size().mean()"
   ]
  },
  {
   "cell_type": "code",
   "execution_count": 29,
   "metadata": {},
   "outputs": [
    {
     "name": "stdout",
     "output_type": "stream",
     "text": [
      "10035266 : 12\n"
     ]
    },
    {
     "name": "stderr",
     "output_type": "stream",
     "text": [
      "/usr/local/lib/python3.7/site-packages/ipykernel_launcher.py:2: FutureWarning: 'argmax' is deprecated, use 'idxmax' instead. The behavior of 'argmax'\n",
      "will be corrected to return the positional maximum in the future.\n",
      "Use 'series.values.argmax' to get the position of the maximum now.\n",
      "  \n"
     ]
    }
   ],
   "source": [
    "# entità con più alias\n",
    "print(f\"{df_train.groupby(['linked_id']).size().argmax()} : {df_train.groupby(['linked_id']).size().max()}\")"
   ]
  },
  {
   "cell_type": "code",
   "execution_count": 35,
   "metadata": {},
   "outputs": [
    {
     "data": {
      "text/plain": [
       "2.0759422221821904"
      ]
     },
     "execution_count": 35,
     "metadata": {},
     "output_type": "execute_result"
    }
   ],
   "source": [
    "# numero di volte medio che compare un nome\n",
    "df_train.groupby(['name']).size().mean()"
   ]
  },
  {
   "cell_type": "code",
   "execution_count": 7,
   "metadata": {},
   "outputs": [
    {
     "data": {
      "text/plain": [
       "1.9175816404354156"
      ]
     },
     "execution_count": 7,
     "metadata": {},
     "output_type": "execute_result"
    }
   ],
   "source": [
    "# numero medio di nomi diversi per una stessa entità\n",
    "df_train.groupby(['name','linked_id']).size().mean()"
   ]
  },
  {
   "cell_type": "code",
   "execution_count": 8,
   "metadata": {},
   "outputs": [
    {
     "data": {
      "text/plain": [
       "1.4444570344881054"
      ]
     },
     "execution_count": 8,
     "metadata": {},
     "output_type": "execute_result"
    }
   ],
   "source": [
    "# numero medio di mail diverse per stessa entità\n",
    "df_train.groupby(['email','linked_id']).size().mean()"
   ]
  },
  {
   "cell_type": "code",
   "execution_count": 9,
   "metadata": {},
   "outputs": [
    {
     "data": {
      "text/plain": [
       "1.4721473165101515"
      ]
     },
     "execution_count": 9,
     "metadata": {},
     "output_type": "execute_result"
    }
   ],
   "source": [
    "# same...\n",
    "df_train.groupby(['phone','linked_id']).size().mean()"
   ]
  },
  {
   "cell_type": "code",
   "execution_count": 25,
   "metadata": {},
   "outputs": [
    {
     "data": {
      "text/plain": [
       "1.3355412702494214"
      ]
     },
     "execution_count": 25,
     "metadata": {},
     "output_type": "execute_result"
    }
   ],
   "source": [
    "# same...\n",
    "df_train.groupby(['address','linked_id']).size().mean()"
   ]
  },
  {
   "cell_type": "code",
   "execution_count": 21,
   "metadata": {},
   "outputs": [
    {
     "data": {
      "text/plain": [
       "39.125737591114195"
      ]
     },
     "execution_count": 21,
     "metadata": {},
     "output_type": "execute_result"
    }
   ],
   "source": [
    "# % of NanN phones\n",
    "df_train.phone.isna().sum() / df_train.phone.shape[0] * 100"
   ]
  },
  {
   "cell_type": "code",
   "execution_count": 22,
   "metadata": {},
   "outputs": [
    {
     "data": {
      "text/plain": [
       "64.97049635543213"
      ]
     },
     "execution_count": 22,
     "metadata": {},
     "output_type": "execute_result"
    }
   ],
   "source": [
    "# % of NanN emails\n",
    "df_train.email.isna().sum() / df_train.email.shape[0] * 100"
   ]
  },
  {
   "cell_type": "code",
   "execution_count": 23,
   "metadata": {},
   "outputs": [
    {
     "data": {
      "text/plain": [
       "62.441281962281614"
      ]
     },
     "execution_count": 23,
     "metadata": {},
     "output_type": "execute_result"
    }
   ],
   "source": [
    "# % of NanN addresses\n",
    "df_train.address.isna().sum() / df_train.address.shape[0] * 100"
   ]
  },
  {
   "cell_type": "code",
   "execution_count": 33,
   "metadata": {},
   "outputs": [
    {
     "data": {
      "text/plain": [
       "20.009834548189286"
      ]
     },
     "execution_count": 33,
     "metadata": {},
     "output_type": "execute_result"
    }
   ],
   "source": [
    "# % of records that only have the name field (and the others are empty)\n",
    "df_train[df_train.phone.isna() & df_train.email.isna() & df_train.address.isna()].shape[0] / df_train.shape[0] * 100"
   ]
  }
 ],
 "metadata": {
  "kernelspec": {
   "display_name": "Python 3",
   "language": "python",
   "name": "python3"
  },
  "language_info": {
   "codemirror_mode": {
    "name": "ipython",
    "version": 3
   },
   "file_extension": ".py",
   "mimetype": "text/x-python",
   "name": "python",
   "nbconvert_exporter": "python",
   "pygments_lexer": "ipython3",
   "version": "3.7.4"
  }
 },
 "nbformat": 4,
 "nbformat_minor": 2
}
