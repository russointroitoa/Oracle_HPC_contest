{
 "cells": [
  {
   "cell_type": "code",
   "execution_count": 1,
   "metadata": {},
   "outputs": [],
   "source": [
    "import pandas as pd\n",
    "import numpy as np\n",
    "from tqdm.auto import tqdm"
   ]
  },
  {
   "cell_type": "code",
   "execution_count": 2,
   "metadata": {},
   "outputs": [],
   "source": [
    "from scipy import *\n",
    "from scipy.sparse import *\n",
    "import similaripy as sim\n",
    "from sklearn.feature_extraction.text import CountVectorizer\n",
    "import re"
   ]
  },
  {
   "cell_type": "code",
   "execution_count": 3,
   "metadata": {},
   "outputs": [],
   "source": [
    "import sys\n",
    "sys.path.append('../')\n",
    "from xgb_dataset_generation import adding_features\n",
    "import os"
   ]
  },
  {
   "cell_type": "code",
   "execution_count": 4,
   "metadata": {},
   "outputs": [
    {
     "name": "stderr",
     "output_type": "stream",
     "text": [
      "/usr/local/lib/python3.7/site-packages/lightgbm/__init__.py:46: UserWarning: Starting from version 2.2.1, the library file in distribution wheels for macOS is built by the Apple Clang (Xcode_8.3.3) compiler.\n",
      "This means that in case of installing LightGBM from PyPI via the ``pip install lightgbm`` command, you don't need to install the gcc compiler anymore.\n",
      "Instead of that, you need to install the OpenMP library, which is required for running LightGBM on the system with the Apple Clang compiler.\n",
      "You can install the OpenMP library by the following command: ``brew install libomp``.\n",
      "  \"You can install the OpenMP library by the following command: ``brew install libomp``.\", UserWarning)\n"
     ]
    }
   ],
   "source": [
    "import lightgbm as lgb\n",
    "import time"
   ]
  },
  {
   "cell_type": "markdown",
   "metadata": {},
   "source": [
    "Prendiamo un elemento alla volta dal test, facciamo la similarità di quell'elemento ed estraiamo il top50. Quell'elemento poi verrà predetto. Una volta tirata fuori la predizione di quell'elemento, va aggiunto al train [di LightGBM]: non importa rifare la similarità perché valutando un elemento alla volta sappiamo già dalla similarità che facciamo se quell'elemento è nel train o no. "
   ]
  },
  {
   "cell_type": "code",
   "execution_count": 5,
   "metadata": {},
   "outputs": [],
   "source": [
    "df_train = pd.read_csv(\"../dataset/original/train.csv\", escapechar=\"\\\\\")\n",
    "df_test = pd.read_csv(\"../dataset/original/test.csv\", escapechar=\"\\\\\")\n",
    "df_train = df_train.sort_values(by='record_id').reset_index(drop=True)\n",
    "df_test = df_test.sort_values(by='record_id').reset_index(drop=True)\n",
    "\n",
    "df_train.linked_id = df_train.linked_id.astype(int)"
   ]
  },
  {
   "cell_type": "code",
   "execution_count": 6,
   "metadata": {},
   "outputs": [],
   "source": [
    "df_test['linked_id'] = df_test.record_id.str.split(\"-\")\n",
    "df_test['linked_id'] = df_test.linked_id.apply(lambda x: x[0])\n",
    "df_test.linked_id = df_test.linked_id.astype(int)\n",
    "#df_train.linked_id = df_train.linked_id.astype(int)\n",
    "only_test = set(df_test.linked_id.values) - set(df_train.linked_id.values)\n",
    "only_test_recordid = df_test[df_test.linked_id.isin(only_test)]\n",
    "df_test = df_test.drop('linked_id', axis=1)"
   ]
  },
  {
   "cell_type": "code",
   "execution_count": 8,
   "metadata": {},
   "outputs": [],
   "source": [
    "train1 = pd.read_csv(\"../dataset/validation_2/train_complete.csv\")\n",
    "train2 = pd.read_csv(\"../dataset/validation_3/train_complete.csv\")\n",
    "val = pd.read_csv(\"../dataset/validation/train_complete.csv\")"
   ]
  },
  {
   "cell_type": "code",
   "execution_count": 9,
   "metadata": {},
   "outputs": [],
   "source": [
    "def remove_spaces(s, n=3):\n",
    "    s = re.sub(' +',' ',s).strip()\n",
    "    ngrams = zip(*[s[i:] for i in range(n)])\n",
    "    return [''.join(ngram) for ngram in ngrams]"
   ]
  },
  {
   "cell_type": "code",
   "execution_count": 10,
   "metadata": {},
   "outputs": [],
   "source": [
    "def ngrams_name(test_record, df_train):\n",
    "    df_train.name = df_train.name.astype(str)\n",
    "    test_record['name'] = test_record['name'].astype(str)\n",
    "    corpus = list(df_train.name)\n",
    "    corpus.append(test_record['name'])\n",
    "    vectorizer = CountVectorizer(preprocessor = remove_spaces, analyzer=remove_spaces)\n",
    "    X = vectorizer.fit_transform(corpus)\n",
    "    X_train = X[:df_train.shape[0],:]\n",
    "    X_test = X[df_train.shape[0]:,:]\n",
    "    similarity = sim.jaccard(X_test, X_train.T, k=300)\n",
    "    return similarity.tocsr()"
   ]
  },
  {
   "cell_type": "code",
   "execution_count": 11,
   "metadata": {},
   "outputs": [],
   "source": [
    "def ngrams_name_fast(test_record, vectorizer, X_train):\n",
    "#     deve:\n",
    "#     - prendere il nome del test\n",
    "#     - vettorizzarlo\n",
    "#     - calcolare la similarità\n",
    "#     - ritornare la similarità con una nuova riga e una nuova colonna\n",
    "#     - ritornare X_train con una nuova riga (la vettorizzazione del nuovo record)\n",
    "#     ?\n",
    "    X_test = vectorizer.transform([test_record['name']])\n",
    "    similarity = sim.jaccard(X_test, X_train.T, k=300).tocsr()\n",
    "    return similarity.tocsr(), vstack([X_train,X_test])"
   ]
  },
  {
   "cell_type": "code",
   "execution_count": 12,
   "metadata": {},
   "outputs": [],
   "source": [
    "def ngrams_address(test_record, df_train):\n",
    "    df_train.address = df_train.address.fillna('').astype(str)\n",
    "    test_record.address = test_record.fillna({'address':''}).address\n",
    "    corpus = list(df_train.address)\n",
    "    corpus.append(test_record.address)\n",
    "    vectorizer = CountVectorizer(preprocessor = remove_spaces, analyzer=remove_spaces)\n",
    "    X = vectorizer.fit_transform(corpus)\n",
    "    X_train = X[:df_train.shape[0],:]\n",
    "    X_test = X[df_train.shape[0]:,:]\n",
    "    similarity = sim.jaccard(X_test, X_train.T, k=300)\n",
    "    return similarity.tocsr()"
   ]
  },
  {
   "cell_type": "code",
   "execution_count": 13,
   "metadata": {},
   "outputs": [],
   "source": [
    "def ngrams_address_fast(test_record, vectorizer, X_train):\n",
    "    test_record.address = test_record.fillna({'address':''}).address\n",
    "    X_test = vectorizer.transform([test_record.address])\n",
    "    similarity = sim.jaccard(X_test, X_train.T, k=300)\n",
    "    return similarity.tocsr(), vstack([X_train,X_test])"
   ]
  },
  {
   "cell_type": "code",
   "execution_count": 14,
   "metadata": {},
   "outputs": [],
   "source": [
    "def ngrams_email(test_record, df_train):\n",
    "    df_train.email = df_train.email.fillna('').astype(str)\n",
    "    test_record.email = test_record.fillna({'email':''}).email\n",
    "    corpus = list(df_train.email) \n",
    "    corpus.append(test_record.email)\n",
    "    vectorizer = CountVectorizer(preprocessor = remove_spaces, analyzer=remove_spaces)\n",
    "    X = vectorizer.fit_transform(corpus)\n",
    "    X_train = X[:df_train.shape[0],:]\n",
    "    X_test = X[df_train.shape[0]:,:]\n",
    "    similarity = sim.jaccard(X_test, X_train.T, k=300)\n",
    "    return similarity.tocsr()"
   ]
  },
  {
   "cell_type": "code",
   "execution_count": 15,
   "metadata": {},
   "outputs": [],
   "source": [
    "def ngrams_email_fast(test_record, vectorizer, X_train):\n",
    "    test_record.email = test_record.fillna({'email':''}).email\n",
    "    X_test = vectorizer.transform([test_record.email])\n",
    "    similarity = sim.jaccard(X_test, X_train.T, k=300)\n",
    "    return similarity.tocsr(), vstack([X_train,X_test])"
   ]
  },
  {
   "cell_type": "code",
   "execution_count": 16,
   "metadata": {},
   "outputs": [],
   "source": [
    "def convert_phones(df_in):\n",
    "    \"\"\"\n",
    "    This functions transforms the phone column from scientific notation to readable string\n",
    "    format, e.g. 1.2933+E10 to 12933000000\n",
    "    : param df_in : the original df with the phone in scientific notation\n",
    "    : return : the clean df\n",
    "    \"\"\"\n",
    "    df = df_in.copy()\n",
    "    df.phone = df.phone.fillna('').astype(str)\n",
    "    df.phone = [p.split('.')[0] for p in df.phone]\n",
    "    return df\n",
    "\n",
    "def ngrams_phone(test_record, df_train):\n",
    "    # manually convert test_record phone\n",
    "    if np.isnan(test_record.phone):\n",
    "        test_record.phone = test_record.fillna({'phone':''}).phone\n",
    "    else:\n",
    "        test_record.phone = test_record.fillna({'phone':''}).phone.astype(str)\n",
    "    test_record.phone = test_record.phone.split('.')[0]\n",
    "    df_train = convert_phones(df_train)\n",
    "    corpus = list(df_train.phone)\n",
    "    corpus.append(test_record.phone)\n",
    "    vectorizer = CountVectorizer(preprocessor = remove_spaces, analyzer=remove_spaces)\n",
    "    X = vectorizer.fit_transform(corpus)\n",
    "    X_train = X[:df_train.shape[0],:]\n",
    "    X_test = X[df_train.shape[0]:,:]\n",
    "    similarity = sim.jaccard(X_test, X_train.T, k=300)\n",
    "    return similarity.tocsr()"
   ]
  },
  {
   "cell_type": "code",
   "execution_count": 17,
   "metadata": {},
   "outputs": [],
   "source": [
    "def ngrams_phone_fast(test_record, vectorizer, X_train):\n",
    "    # manually convert test_record phone\n",
    "    if np.isnan(test_record.phone):\n",
    "        test_record.phone = test_record.fillna({'phone':''}).phone\n",
    "    else:\n",
    "        test_record.phone = test_record.fillna({'phone':''}).phone.astype(str)\n",
    "    test_record.phone = test_record.phone.split('.')[0]\n",
    "    X_test = vectorizer.transform([test_record.phone])\n",
    "    similarity = sim.jaccard(X_test, X_train.T, k=300)\n",
    "    return similarity.tocsr(), vstack([X_train,X_test])"
   ]
  },
  {
   "cell_type": "code",
   "execution_count": 46,
   "metadata": {},
   "outputs": [],
   "source": [
    "def expand_df(df):\n",
    "    df_list = []\n",
    "    for (q, pred, pred_rec, score, s_name, s_email, s_phone,  idx) in tqdm(\n",
    "            zip(df.queried_record_id, df.predicted_record_id, df.predicted_record_id_record, df.cosine_score,\n",
    "                df.name_cosine, df.email_cosine, df.phone_cosine, df.linked_id_idx)):\n",
    "        for x in range(len(pred)):\n",
    "            df_list.append((q, pred[x], pred_rec[x], score[x], s_name[x], s_email[x], s_phone[x],  idx[x]))\n",
    "\n",
    "    # TODO da cambiare predicted_record_id in predicted_linked_id e 'predicted_record_id_record' in 'predicted_record_id'\n",
    "    df_new = pd.DataFrame(df_list, columns=['queried_record_id', 'predicted_record_id', 'predicted_record_id_record',\n",
    "                                            'cosine_score', 'name_cosine',\n",
    "                                            'email_cosine', 'phone_cosine', \n",
    "                                            'linked_id_idx',\n",
    "                                            ])\n",
    "    return df_new"
   ]
  },
  {
   "cell_type": "code",
   "execution_count": 44,
   "metadata": {},
   "outputs": [],
   "source": [
    "def expand_similarities(test_record, vectorizer_name, vectorizer_email, vectorizer_phone, vectorizer_address, \n",
    "                        X_train_name, X_train_email, X_train_phone, X_train_address, k=50):\n",
    "    \n",
    "    sim_name, X_train_name_new = ngrams_name_fast(test_record, vectorizer_name, X_train_name)\n",
    "    sim_email, X_train_email_new = ngrams_email_fast(test_record, vectorizer_email, X_train_email)\n",
    "    sim_phone, X_train_phone_new = ngrams_phone_fast(test_record, vectorizer_phone, X_train_phone)\n",
    "    sim_address, X_train_address_new = ngrams_address_fast(test_record, vectorizer_address, X_train_address)\n",
    "        \n",
    "    hybrid = sim_name + 0.2 * sim_email + 0.2 * sim_phone + 0.2 * sim_address\n",
    "    \n",
    "    linid_ = []\n",
    "    linid_idx = []\n",
    "    linid_score = []\n",
    "    linid_name_cosine = []\n",
    "    linid_email_cosine = []\n",
    "    linid_phone_cosine = []\n",
    "    linid_address_cosine = []\n",
    "    linid_record_id = []\n",
    "    \n",
    "    tr = df_train[['record_id', 'linked_id']]\n",
    "    indices = hybrid.nonzero()[1][hybrid.data.argsort()[::-1]][:k]\n",
    "    df = tr.loc[indices, :][:k]\n",
    "    linid_.append(df['linked_id'].values)\n",
    "    linid_idx.append(df.index)\n",
    "    linid_record_id.append(df.record_id.values)\n",
    "    linid_score.append(np.sort(hybrid.data)[::-1][:k]) # Questo ha senso perché tanto gli indices sono sortati in base allo scores di hybrid\n",
    "    linid_name_cosine.append([sim_name[0, t] for t in indices])\n",
    "    linid_email_cosine.append([sim_email[0, t] for t in indices])\n",
    "    linid_phone_cosine.append([sim_phone[0, t] for t in indices])\n",
    "    \n",
    "    df = pd.DataFrame()\n",
    "    df['queried_record_id'] = [test_record.record_id]\n",
    "    df['predicted_record_id'] = linid_\n",
    "    df['predicted_record_id_record'] = linid_record_id\n",
    "    df['cosine_score'] = linid_score\n",
    "    df['name_cosine'] = linid_name_cosine\n",
    "    df['email_cosine'] = linid_email_cosine\n",
    "    df['phone_cosine'] = linid_phone_cosine\n",
    "    df['linked_id_idx'] = linid_idx\n",
    "    \n",
    "    df_new = expand_df(df)\n",
    "    \n",
    "    return df_new, X_train_name_new, X_train_email_new, X_train_phone_new, X_train_address_new"
   ]
  },
  {
   "cell_type": "code",
   "execution_count": 20,
   "metadata": {},
   "outputs": [],
   "source": [
    "def get_linked_id(new_row):\n",
    "    new_row['linked_id'] = new_row.record_id.split(\"-\")\n",
    "    new_row['linked_id'] = new_row.linked_id[0]\n",
    "    new_row['linked_id'] = int(new_row.linked_id)\n",
    "    return new_row"
   ]
  },
  {
   "cell_type": "code",
   "execution_count": 21,
   "metadata": {},
   "outputs": [],
   "source": [
    "def create_all_vectorizers(df_train):\n",
    "    # vectorizer Name\n",
    "    df_train.name = df_train.name.astype(str)\n",
    "    corpus_name = list(df_train.name)\n",
    "    vectorizer_name = CountVectorizer(preprocessor = remove_spaces, analyzer=remove_spaces)\n",
    "    X_train_name = vectorizer_name.fit_transform(corpus_name)\n",
    "\n",
    "    # vectorizer Email\n",
    "    df_train.email = df_train.email.fillna('').astype(str)\n",
    "    corpus_email = list(df_train.email) \n",
    "    vectorizer_email = CountVectorizer(preprocessor = remove_spaces, analyzer=remove_spaces)\n",
    "    X_train_email = vectorizer_email.fit_transform(corpus_email)\n",
    "\n",
    "    # vectorizer Address\n",
    "    df_train.address = df_train.address.fillna('').astype(str)\n",
    "    corpus_address = list(df_train.address)\n",
    "    vectorizer_address = CountVectorizer(preprocessor = remove_spaces, analyzer=remove_spaces)\n",
    "    X_train_address = vectorizer_address.fit_transform(corpus_address)\n",
    "\n",
    "    # vectorizer Phone\n",
    "    df_train = convert_phones(df_train)\n",
    "    corpus_phone = list(df_train.phone)\n",
    "    vectorizer_phone = CountVectorizer(preprocessor = remove_spaces, analyzer=remove_spaces)\n",
    "    X_train_phone = vectorizer_phone.fit_transform(corpus_phone)\n",
    "    \n",
    "    return vectorizer_name, vectorizer_email, vectorizer_address, vectorizer_phone, X_train_name, X_train_email, X_train_address, X_train_phone "
   ]
  },
  {
   "cell_type": "markdown",
   "metadata": {},
   "source": [
    "# Train"
   ]
  },
  {
   "cell_type": "code",
   "execution_count": 34,
   "metadata": {
    "scrolled": true
   },
   "outputs": [
    {
     "name": "stdout",
     "output_type": "stream",
     "text": [
      "Start LGBM...\n",
      "[1]\tvalid_0's ndcg@1: 0.972762\n",
      "Training until validation scores don't improve for 5 rounds.\n",
      "[2]\tvalid_0's ndcg@1: 0.975492\n",
      "[3]\tvalid_0's ndcg@1: 0.977745\n",
      "[4]\tvalid_0's ndcg@1: 0.979941\n",
      "[5]\tvalid_0's ndcg@1: 0.980212\n",
      "[6]\tvalid_0's ndcg@1: 0.98034\n",
      "[7]\tvalid_0's ndcg@1: 0.980388\n",
      "[8]\tvalid_0's ndcg@1: 0.981028\n",
      "[9]\tvalid_0's ndcg@1: 0.980887\n",
      "[10]\tvalid_0's ndcg@1: 0.982163\n",
      "[11]\tvalid_0's ndcg@1: 0.982491\n",
      "[12]\tvalid_0's ndcg@1: 0.982518\n",
      "[13]\tvalid_0's ndcg@1: 0.982995\n",
      "[14]\tvalid_0's ndcg@1: 0.983013\n",
      "[15]\tvalid_0's ndcg@1: 0.983066\n",
      "[16]\tvalid_0's ndcg@1: 0.98335\n",
      "[17]\tvalid_0's ndcg@1: 0.983762\n",
      "[18]\tvalid_0's ndcg@1: 0.983911\n",
      "[19]\tvalid_0's ndcg@1: 0.984109\n",
      "[20]\tvalid_0's ndcg@1: 0.984468\n",
      "[21]\tvalid_0's ndcg@1: 0.984486\n",
      "[22]\tvalid_0's ndcg@1: 0.984516\n",
      "[23]\tvalid_0's ndcg@1: 0.984564\n",
      "[24]\tvalid_0's ndcg@1: 0.984748\n",
      "[25]\tvalid_0's ndcg@1: 0.984889\n",
      "[26]\tvalid_0's ndcg@1: 0.985003\n",
      "[27]\tvalid_0's ndcg@1: 0.984911\n",
      "[28]\tvalid_0's ndcg@1: 0.985016\n",
      "[29]\tvalid_0's ndcg@1: 0.98516\n",
      "[30]\tvalid_0's ndcg@1: 0.985187\n",
      "[31]\tvalid_0's ndcg@1: 0.985288\n",
      "[32]\tvalid_0's ndcg@1: 0.985283\n",
      "[33]\tvalid_0's ndcg@1: 0.985331\n",
      "[34]\tvalid_0's ndcg@1: 0.985336\n",
      "[35]\tvalid_0's ndcg@1: 0.985463\n",
      "[36]\tvalid_0's ndcg@1: 0.985406\n",
      "[37]\tvalid_0's ndcg@1: 0.98545\n",
      "[38]\tvalid_0's ndcg@1: 0.98552\n",
      "[39]\tvalid_0's ndcg@1: 0.985524\n",
      "[40]\tvalid_0's ndcg@1: 0.985638\n",
      "[41]\tvalid_0's ndcg@1: 0.985713\n",
      "[42]\tvalid_0's ndcg@1: 0.985713\n",
      "[43]\tvalid_0's ndcg@1: 0.98577\n",
      "[44]\tvalid_0's ndcg@1: 0.985783\n",
      "[45]\tvalid_0's ndcg@1: 0.985853\n",
      "[46]\tvalid_0's ndcg@1: 0.985862\n",
      "[47]\tvalid_0's ndcg@1: 0.985919\n",
      "[48]\tvalid_0's ndcg@1: 0.985962\n",
      "[49]\tvalid_0's ndcg@1: 0.986019\n",
      "[50]\tvalid_0's ndcg@1: 0.986041\n",
      "[51]\tvalid_0's ndcg@1: 0.986111\n",
      "[52]\tvalid_0's ndcg@1: 0.986133\n",
      "[53]\tvalid_0's ndcg@1: 0.986221\n",
      "[54]\tvalid_0's ndcg@1: 0.986208\n",
      "[55]\tvalid_0's ndcg@1: 0.986256\n",
      "[56]\tvalid_0's ndcg@1: 0.986278\n",
      "[57]\tvalid_0's ndcg@1: 0.986313\n",
      "[58]\tvalid_0's ndcg@1: 0.986269\n",
      "[59]\tvalid_0's ndcg@1: 0.986282\n",
      "[60]\tvalid_0's ndcg@1: 0.986243\n",
      "[61]\tvalid_0's ndcg@1: 0.98626\n",
      "[62]\tvalid_0's ndcg@1: 0.986304\n",
      "Early stopping, best iteration is:\n",
      "[57]\tvalid_0's ndcg@1: 0.986313\n",
      "Learning completed in 342 seconds.\n"
     ]
    }
   ],
   "source": [
    "train = pd.concat([train1, train2])\n",
    "eval_group = val.groupby('queried_record_id').size().values\n",
    "group = train.groupby('queried_record_id').size().values\n",
    "ranker = lgb.LGBMRanker()\n",
    "print('Start LGBM...')\n",
    "t1 = time.time()\n",
    "ranker.fit(train.drop(['queried_record_id', 'target', 'predicted_record_id','predicted_record_id_record', 'linked_id_idx'], axis=1),\n",
    "               train['target'], group=group,\n",
    "               eval_set=[(val.drop(['queried_record_id', 'target', 'predicted_record_id','predicted_record_id_record', 'linked_id_idx'], axis=1), val['target'])],\n",
    "               eval_group=[eval_group], early_stopping_rounds=5)\n",
    "t2 = time.time()\n",
    "print(f'Learning completed in {int(t2-t1)} seconds.')"
   ]
  },
  {
   "cell_type": "markdown",
   "metadata": {},
   "source": [
    "# Example"
   ]
  },
  {
   "cell_type": "code",
   "execution_count": null,
   "metadata": {},
   "outputs": [],
   "source": [
    "vectorizer_name, vectorizer_email, vectorizer_address, vectorizer_phone, X_train_name, X_train_email, X_train_address, X_train_phone= create_all_vectorizers(df_train)\n",
    "t1 = time.time()\n",
    "test_record_exp, X_train_name_new, X_train_email_new, X_train_phone_new, X_train_address_new = expand_similarities(df_test.loc[2], vectorizer_name, vectorizer_email, vectorizer_phone, vectorizer_address, \n",
    "                        X_train_name, X_train_email, X_train_phone, X_train_address)\n",
    "t2 = time.time()\n",
    "t2-t1"
   ]
  },
  {
   "cell_type": "code",
   "execution_count": null,
   "metadata": {
    "scrolled": true
   },
   "outputs": [],
   "source": [
    "test_record_exp"
   ]
  },
  {
   "cell_type": "markdown",
   "metadata": {},
   "source": [
    "# Create Sequential Test Answers"
   ]
  },
  {
   "cell_type": "markdown",
   "metadata": {},
   "source": [
    "Dobbiamo creare un test set sequenziale [con le relative risposte], in modo che se ci sono due record che fanno riferimento allo stesso linked_id che però sono presenti solo nel test, il primo che arriva non ha riferimenti nel train ed è impossibile predirlo correttamente; viene però aggiunto al train e quando il secondo record deve essere valutato la risposta corretta corrisponde a quello precedente."
   ]
  },
  {
   "cell_type": "code",
   "execution_count": 22,
   "metadata": {},
   "outputs": [],
   "source": [
    "group_train = df_train.groupby('linked_id').apply(lambda x: list(x['record_id'])).reset_index().rename(columns={0:'record_ids'})"
   ]
  },
  {
   "cell_type": "code",
   "execution_count": 23,
   "metadata": {},
   "outputs": [
    {
     "data": {
      "text/html": [
       "<div>\n",
       "<style scoped>\n",
       "    .dataframe tbody tr th:only-of-type {\n",
       "        vertical-align: middle;\n",
       "    }\n",
       "\n",
       "    .dataframe tbody tr th {\n",
       "        vertical-align: top;\n",
       "    }\n",
       "\n",
       "    .dataframe thead th {\n",
       "        text-align: right;\n",
       "    }\n",
       "</style>\n",
       "<table border=\"1\" class=\"dataframe\">\n",
       "  <thead>\n",
       "    <tr style=\"text-align: right;\">\n",
       "      <th></th>\n",
       "      <th>record_id</th>\n",
       "      <th>name</th>\n",
       "      <th>type</th>\n",
       "      <th>address</th>\n",
       "      <th>phone</th>\n",
       "      <th>email</th>\n",
       "      <th>modification</th>\n",
       "    </tr>\n",
       "  </thead>\n",
       "  <tbody>\n",
       "    <tr>\n",
       "      <th>0</th>\n",
       "      <td>10000003-TST-MR</td>\n",
       "      <td>HOTFOCUS CO., LTD.</td>\n",
       "      <td>entity</td>\n",
       "      <td>NaN</td>\n",
       "      <td>4.401574e+11</td>\n",
       "      <td>consulting@outlook.ch</td>\n",
       "      <td>move unique</td>\n",
       "    </tr>\n",
       "    <tr>\n",
       "      <th>1</th>\n",
       "      <td>10000008-TST-M</td>\n",
       "      <td>BONUS TRADE LIMITED</td>\n",
       "      <td>entity</td>\n",
       "      <td>NaN</td>\n",
       "      <td>NaN</td>\n",
       "      <td>help@gmail.gov</td>\n",
       "      <td>move row</td>\n",
       "    </tr>\n",
       "    <tr>\n",
       "      <th>2</th>\n",
       "      <td>10000010-TST-CP</td>\n",
       "      <td>NEW IDEA LIMITED</td>\n",
       "      <td>entity</td>\n",
       "      <td>NaN</td>\n",
       "      <td>1.912469e+10</td>\n",
       "      <td>NaN</td>\n",
       "      <td>identical copy</td>\n",
       "    </tr>\n",
       "    <tr>\n",
       "      <th>3</th>\n",
       "      <td>10000013-TST-MR</td>\n",
       "      <td>VICTORY GROUP LIMITED</td>\n",
       "      <td>entity</td>\n",
       "      <td>NaN</td>\n",
       "      <td>1.949506e+10</td>\n",
       "      <td>NaN</td>\n",
       "      <td>move unique</td>\n",
       "    </tr>\n",
       "    <tr>\n",
       "      <th>4</th>\n",
       "      <td>10000016-TST-MR</td>\n",
       "      <td>NINGBO RAPID INTERNATIONAL TRADING CO., LTD.</td>\n",
       "      <td>entity</td>\n",
       "      <td>NaN</td>\n",
       "      <td>4.446512e+11</td>\n",
       "      <td>info@outlook.cz</td>\n",
       "      <td>move unique</td>\n",
       "    </tr>\n",
       "    <tr>\n",
       "      <th>5</th>\n",
       "      <td>10000017-TST-MR</td>\n",
       "      <td>ANGELIKA INTERNATIONAL LTD.</td>\n",
       "      <td>entity</td>\n",
       "      <td>NaN</td>\n",
       "      <td>NaN</td>\n",
       "      <td>NaN</td>\n",
       "      <td>move unique</td>\n",
       "    </tr>\n",
       "    <tr>\n",
       "      <th>6</th>\n",
       "      <td>10000018-T4-TST-CP</td>\n",
       "      <td>CHEM D-T Corp.</td>\n",
       "      <td>entity</td>\n",
       "      <td>NaN</td>\n",
       "      <td>3.924568e+09</td>\n",
       "      <td>enquirhs@CHEM.D-T.Corp.ch</td>\n",
       "      <td>identical copy</td>\n",
       "    </tr>\n",
       "    <tr>\n",
       "      <th>7</th>\n",
       "      <td>10000018-TST-M</td>\n",
       "      <td>CHEM D-T Corp.</td>\n",
       "      <td>entity</td>\n",
       "      <td>NaN</td>\n",
       "      <td>3.924568e+09</td>\n",
       "      <td>inquires@CHEM.D-T.Corp.ch</td>\n",
       "      <td>move row</td>\n",
       "    </tr>\n",
       "    <tr>\n",
       "      <th>8</th>\n",
       "      <td>10000020-NV0-TST-CP</td>\n",
       "      <td>JIE LUN INVESTMENT LIMITED</td>\n",
       "      <td>entity</td>\n",
       "      <td>NaN</td>\n",
       "      <td>NaN</td>\n",
       "      <td>NaN</td>\n",
       "      <td>identical copy</td>\n",
       "    </tr>\n",
       "    <tr>\n",
       "      <th>9</th>\n",
       "      <td>10000020-NV1-TST-M</td>\n",
       "      <td>JIE LUN INVESTMENT LIMITED</td>\n",
       "      <td>entity</td>\n",
       "      <td>NaN</td>\n",
       "      <td>3.336016e+11</td>\n",
       "      <td>NaN</td>\n",
       "      <td>move row</td>\n",
       "    </tr>\n",
       "    <tr>\n",
       "      <th>10</th>\n",
       "      <td>10000022-TST-CP</td>\n",
       "      <td>PRESTIGE INTERNATIONAL CORP.</td>\n",
       "      <td>entity</td>\n",
       "      <td>NaN</td>\n",
       "      <td>4.200728e+11</td>\n",
       "      <td>inquires@PRESTIGE.INTERNATIONAL.CORP.ch</td>\n",
       "      <td>identical copy</td>\n",
       "    </tr>\n",
       "    <tr>\n",
       "      <th>11</th>\n",
       "      <td>10000023-NV2-TST-CP</td>\n",
       "      <td>SUNNY TREASURE INTERNATIONAL LIMITED</td>\n",
       "      <td>entity</td>\n",
       "      <td>NaN</td>\n",
       "      <td>4.470710e+11</td>\n",
       "      <td>NaN</td>\n",
       "      <td>identical copy</td>\n",
       "    </tr>\n",
       "    <tr>\n",
       "      <th>12</th>\n",
       "      <td>10000024-TST-MR</td>\n",
       "      <td>LAKE STREET INVESTMENTS LTD.</td>\n",
       "      <td>entity</td>\n",
       "      <td>NaN</td>\n",
       "      <td>4.174193e+12</td>\n",
       "      <td>NaN</td>\n",
       "      <td>move unique</td>\n",
       "    </tr>\n",
       "    <tr>\n",
       "      <th>13</th>\n",
       "      <td>10000025-TST-MR</td>\n",
       "      <td>GIT CO INC.</td>\n",
       "      <td>entity</td>\n",
       "      <td>NaN</td>\n",
       "      <td>NaN</td>\n",
       "      <td>NaN</td>\n",
       "      <td>move unique</td>\n",
       "    </tr>\n",
       "    <tr>\n",
       "      <th>14</th>\n",
       "      <td>10000027-M0-TST-M</td>\n",
       "      <td>WORLD TOOLS INVESTMENTS CORP.</td>\n",
       "      <td>entity</td>\n",
       "      <td>NaN</td>\n",
       "      <td>3.352436e+11</td>\n",
       "      <td>NaN</td>\n",
       "      <td>move row</td>\n",
       "    </tr>\n",
       "    <tr>\n",
       "      <th>15</th>\n",
       "      <td>10000027-T0-TST-M</td>\n",
       "      <td>WORLD TOOLS INVESTMENTS CORP.</td>\n",
       "      <td>entity</td>\n",
       "      <td>NaN</td>\n",
       "      <td>3.352436e+11</td>\n",
       "      <td>NaN</td>\n",
       "      <td>move row</td>\n",
       "    </tr>\n",
       "    <tr>\n",
       "      <th>16</th>\n",
       "      <td>10000027-T1-TST-M</td>\n",
       "      <td>WORLD TOOLs INVESTMENTS CORP.</td>\n",
       "      <td>entity</td>\n",
       "      <td>NaN</td>\n",
       "      <td>3.352436e+11</td>\n",
       "      <td>NaN</td>\n",
       "      <td>move row</td>\n",
       "    </tr>\n",
       "    <tr>\n",
       "      <th>17</th>\n",
       "      <td>10000028-TST-MR</td>\n",
       "      <td>WINESELECTION S.A.</td>\n",
       "      <td>entity</td>\n",
       "      <td>NaN</td>\n",
       "      <td>3.959136e+09</td>\n",
       "      <td>WINESELECTIONSA@hotmail.de</td>\n",
       "      <td>move unique</td>\n",
       "    </tr>\n",
       "    <tr>\n",
       "      <th>18</th>\n",
       "      <td>10000030-TST-MR</td>\n",
       "      <td>KIND INTERNATIONAL INC.</td>\n",
       "      <td>entity</td>\n",
       "      <td>NaN</td>\n",
       "      <td>4.209494e+11</td>\n",
       "      <td>NaN</td>\n",
       "      <td>move unique</td>\n",
       "    </tr>\n",
       "    <tr>\n",
       "      <th>19</th>\n",
       "      <td>10000031-M2-TST-M</td>\n",
       "      <td>Aegis Infocom Inc.</td>\n",
       "      <td>entity</td>\n",
       "      <td>NaN</td>\n",
       "      <td>NaN</td>\n",
       "      <td>NaN</td>\n",
       "      <td>move row</td>\n",
       "    </tr>\n",
       "    <tr>\n",
       "      <th>20</th>\n",
       "      <td>10000032-T0-TST-CP</td>\n",
       "      <td>TOPdINm INVESTMENTS LIMITED</td>\n",
       "      <td>entity</td>\n",
       "      <td>NaN</td>\n",
       "      <td>3.364164e+11</td>\n",
       "      <td>NaN</td>\n",
       "      <td>identical copy</td>\n",
       "    </tr>\n",
       "    <tr>\n",
       "      <th>21</th>\n",
       "      <td>10000032-T1-TST-M</td>\n",
       "      <td>TqPLINE INVESTMENTS LIMITED</td>\n",
       "      <td>entity</td>\n",
       "      <td>NaN</td>\n",
       "      <td>3.364164e+11</td>\n",
       "      <td>NaN</td>\n",
       "      <td>move row</td>\n",
       "    </tr>\n",
       "    <tr>\n",
       "      <th>22</th>\n",
       "      <td>10000034-TST-M</td>\n",
       "      <td>Alvear Investments Limited</td>\n",
       "      <td>entity</td>\n",
       "      <td>NaN</td>\n",
       "      <td>4.208877e+11</td>\n",
       "      <td>NaN</td>\n",
       "      <td>move row</td>\n",
       "    </tr>\n",
       "    <tr>\n",
       "      <th>23</th>\n",
       "      <td>10000036-NV0-TST-M</td>\n",
       "      <td>RIVIERA HOLDINGS LIMITED</td>\n",
       "      <td>entity</td>\n",
       "      <td>NaN</td>\n",
       "      <td>3.946790e+09</td>\n",
       "      <td>NaN</td>\n",
       "      <td>move row</td>\n",
       "    </tr>\n",
       "    <tr>\n",
       "      <th>24</th>\n",
       "      <td>10000036-NV1-TST-M</td>\n",
       "      <td>RIVIERA HOLDINGS LIMITED</td>\n",
       "      <td>entity</td>\n",
       "      <td>10685-B Hazelhurst Dr. #5830; Houston; TX 7704...</td>\n",
       "      <td>3.946790e+09</td>\n",
       "      <td>info@icloud.ch</td>\n",
       "      <td>move row</td>\n",
       "    </tr>\n",
       "    <tr>\n",
       "      <th>25</th>\n",
       "      <td>10000036-T0-TST-CP</td>\n",
       "      <td>RIVIERA HOLDINGS LIMITED</td>\n",
       "      <td>entity</td>\n",
       "      <td>NaN</td>\n",
       "      <td>3.946790e+09</td>\n",
       "      <td>NaN</td>\n",
       "      <td>identical copy</td>\n",
       "    </tr>\n",
       "    <tr>\n",
       "      <th>26</th>\n",
       "      <td>10000036-TST-M</td>\n",
       "      <td>RIVIERA HOLDINGS LIMITED</td>\n",
       "      <td>entity</td>\n",
       "      <td>NaN</td>\n",
       "      <td>3.946790e+09</td>\n",
       "      <td>NaN</td>\n",
       "      <td>move row</td>\n",
       "    </tr>\n",
       "    <tr>\n",
       "      <th>27</th>\n",
       "      <td>10000037-TST-MR</td>\n",
       "      <td>PARKDALE HOLDINGS LTD.</td>\n",
       "      <td>entity</td>\n",
       "      <td>NaN</td>\n",
       "      <td>3.970247e+09</td>\n",
       "      <td>support@PARKDALE.HOLDINGS.LTD.it</td>\n",
       "      <td>move unique</td>\n",
       "    </tr>\n",
       "    <tr>\n",
       "      <th>28</th>\n",
       "      <td>10000038-TST-MR</td>\n",
       "      <td>SADDLEVILLE CORPORATION</td>\n",
       "      <td>entity</td>\n",
       "      <td>NaN</td>\n",
       "      <td>3.378238e+11</td>\n",
       "      <td>NaN</td>\n",
       "      <td>move unique</td>\n",
       "    </tr>\n",
       "    <tr>\n",
       "      <th>29</th>\n",
       "      <td>10000039-TST-CP</td>\n",
       "      <td>BELLEVUE INTERNATIONAL (FRANCE) CO., LTD.</td>\n",
       "      <td>entity</td>\n",
       "      <td>NaN</td>\n",
       "      <td>3.917160e+09</td>\n",
       "      <td>NaN</td>\n",
       "      <td>identical copy</td>\n",
       "    </tr>\n",
       "    <tr>\n",
       "      <th>...</th>\n",
       "      <td>...</td>\n",
       "      <td>...</td>\n",
       "      <td>...</td>\n",
       "      <td>...</td>\n",
       "      <td>...</td>\n",
       "      <td>...</td>\n",
       "      <td>...</td>\n",
       "    </tr>\n",
       "    <tr>\n",
       "      <th>266925</th>\n",
       "      <td>13013118-TST-M</td>\n",
       "      <td>ANDREA MICHELE ANGELO MARIA MELERA</td>\n",
       "      <td>officer</td>\n",
       "      <td>NaN</td>\n",
       "      <td>NaN</td>\n",
       "      <td>NaN</td>\n",
       "      <td>move row</td>\n",
       "    </tr>\n",
       "    <tr>\n",
       "      <th>266926</th>\n",
       "      <td>13013119-NV0-TST-CP</td>\n",
       "      <td>ZHANG JIN</td>\n",
       "      <td>officer</td>\n",
       "      <td>7/F; Flat A; 1 Capevale Drive; Discovery Bay; ...</td>\n",
       "      <td>3.902680e+09</td>\n",
       "      <td>NaN</td>\n",
       "      <td>identical copy</td>\n",
       "    </tr>\n",
       "    <tr>\n",
       "      <th>266927</th>\n",
       "      <td>15000601-TST-M</td>\n",
       "      <td>Pilar de Borbón</td>\n",
       "      <td>officer</td>\n",
       "      <td>NaN</td>\n",
       "      <td>NaN</td>\n",
       "      <td>NaN</td>\n",
       "      <td>move row</td>\n",
       "    </tr>\n",
       "    <tr>\n",
       "      <th>266928</th>\n",
       "      <td>15000801-TST-MR</td>\n",
       "      <td>Bruno Jean-Richard Itoua</td>\n",
       "      <td>officer</td>\n",
       "      <td>NaN</td>\n",
       "      <td>4.405693e+11</td>\n",
       "      <td>NaN</td>\n",
       "      <td>move unique</td>\n",
       "    </tr>\n",
       "    <tr>\n",
       "      <th>266929</th>\n",
       "      <td>15000901-TST-MR</td>\n",
       "      <td>Micaela Domecq Solís-Beaumont</td>\n",
       "      <td>officer</td>\n",
       "      <td>NaN</td>\n",
       "      <td>NaN</td>\n",
       "      <td>NaN</td>\n",
       "      <td>move unique</td>\n",
       "    </tr>\n",
       "    <tr>\n",
       "      <th>266930</th>\n",
       "      <td>15001201-NV0</td>\n",
       "      <td>César Almeyda</td>\n",
       "      <td>officer</td>\n",
       "      <td>NaN</td>\n",
       "      <td>3.300814e+11</td>\n",
       "      <td>NaN</td>\n",
       "      <td>modified copy</td>\n",
       "    </tr>\n",
       "    <tr>\n",
       "      <th>266931</th>\n",
       "      <td>15001301-TST-MR</td>\n",
       "      <td>John Addo Kufuor</td>\n",
       "      <td>officer</td>\n",
       "      <td>NaN</td>\n",
       "      <td>3.335382e+11</td>\n",
       "      <td>NaN</td>\n",
       "      <td>move unique</td>\n",
       "    </tr>\n",
       "    <tr>\n",
       "      <th>266932</th>\n",
       "      <td>15001401-M0-TST-CP</td>\n",
       "      <td>Ian Cameron</td>\n",
       "      <td>officer</td>\n",
       "      <td>NaN</td>\n",
       "      <td>NaN</td>\n",
       "      <td>NaN</td>\n",
       "      <td>identical copy</td>\n",
       "    </tr>\n",
       "    <tr>\n",
       "      <th>266933</th>\n",
       "      <td>15001401-M2-TST-CP</td>\n",
       "      <td>Ian Cameron</td>\n",
       "      <td>officer</td>\n",
       "      <td>NaN</td>\n",
       "      <td>NaN</td>\n",
       "      <td>NaN</td>\n",
       "      <td>identical copy</td>\n",
       "    </tr>\n",
       "    <tr>\n",
       "      <th>266934</th>\n",
       "      <td>15001501-TST-MR</td>\n",
       "      <td>Mamadie Toure</td>\n",
       "      <td>officer</td>\n",
       "      <td>NaN</td>\n",
       "      <td>4.425446e+11</td>\n",
       "      <td>MamadieToure@icloud.it</td>\n",
       "      <td>move unique</td>\n",
       "    </tr>\n",
       "    <tr>\n",
       "      <th>266935</th>\n",
       "      <td>15001601-T3-TST-CP</td>\n",
       "      <td>Stavrvs Papastavrlu</td>\n",
       "      <td>officer</td>\n",
       "      <td>NaN</td>\n",
       "      <td>4.171165e+12</td>\n",
       "      <td>StaxrosPapastavrou@icloud.ch</td>\n",
       "      <td>identical copy</td>\n",
       "    </tr>\n",
       "    <tr>\n",
       "      <th>266936</th>\n",
       "      <td>15001801-T0-TST-CP</td>\n",
       "      <td>Clive Khulubuse Zuma</td>\n",
       "      <td>officer</td>\n",
       "      <td>NaN</td>\n",
       "      <td>4.918253e+10</td>\n",
       "      <td>NaN</td>\n",
       "      <td>identical copy</td>\n",
       "    </tr>\n",
       "    <tr>\n",
       "      <th>266937</th>\n",
       "      <td>15001903-TST-MR</td>\n",
       "      <td>Hussain Nawaz Sharif</td>\n",
       "      <td>officer</td>\n",
       "      <td>NaN</td>\n",
       "      <td>3.991790e+09</td>\n",
       "      <td>help@hotmail.de</td>\n",
       "      <td>move unique</td>\n",
       "    </tr>\n",
       "    <tr>\n",
       "      <th>266938</th>\n",
       "      <td>15002501-M0-TST-M</td>\n",
       "      <td>José Maria Botelho de Vasconcelos</td>\n",
       "      <td>officer</td>\n",
       "      <td>NaN</td>\n",
       "      <td>NaN</td>\n",
       "      <td>NaN</td>\n",
       "      <td>move row</td>\n",
       "    </tr>\n",
       "    <tr>\n",
       "      <th>266939</th>\n",
       "      <td>15003201-TST-MR</td>\n",
       "      <td>Víctor Cruz Weffer</td>\n",
       "      <td>officer</td>\n",
       "      <td>NaN</td>\n",
       "      <td>1.702037e+10</td>\n",
       "      <td>VictorCruzWeffer@gmail.gov</td>\n",
       "      <td>move unique</td>\n",
       "    </tr>\n",
       "    <tr>\n",
       "      <th>266940</th>\n",
       "      <td>15003301-TST-MR</td>\n",
       "      <td>Pedro Delgado</td>\n",
       "      <td>officer</td>\n",
       "      <td>NaN</td>\n",
       "      <td>3.326740e+11</td>\n",
       "      <td>PedroDelgado@icloud.co.uk</td>\n",
       "      <td>move unique</td>\n",
       "    </tr>\n",
       "    <tr>\n",
       "      <th>266941</th>\n",
       "      <td>15004001-T0-TST-CP</td>\n",
       "      <td>João Lyra</td>\n",
       "      <td>officer</td>\n",
       "      <td>NaN</td>\n",
       "      <td>4.978747e+10</td>\n",
       "      <td>NaN</td>\n",
       "      <td>identical copy</td>\n",
       "    </tr>\n",
       "    <tr>\n",
       "      <th>266942</th>\n",
       "      <td>15004001-T3-TST-M</td>\n",
       "      <td>Jdão Lyra</td>\n",
       "      <td>officer</td>\n",
       "      <td>NaN</td>\n",
       "      <td>4.978769e+10</td>\n",
       "      <td>NaN</td>\n",
       "      <td>move row</td>\n",
       "    </tr>\n",
       "    <tr>\n",
       "      <th>266943</th>\n",
       "      <td>15004501-TST-MR</td>\n",
       "      <td>King Salman bin Abdulaziz bin Abdulrahman Al Saud</td>\n",
       "      <td>officer</td>\n",
       "      <td>NaN</td>\n",
       "      <td>3.341554e+11</td>\n",
       "      <td>NaN</td>\n",
       "      <td>move unique</td>\n",
       "    </tr>\n",
       "    <tr>\n",
       "      <th>266944</th>\n",
       "      <td>15005002-TST-MR</td>\n",
       "      <td>Leyla Aliyeva</td>\n",
       "      <td>officer</td>\n",
       "      <td>NaN</td>\n",
       "      <td>NaN</td>\n",
       "      <td>NaN</td>\n",
       "      <td>move unique</td>\n",
       "    </tr>\n",
       "    <tr>\n",
       "      <th>266945</th>\n",
       "      <td>15005003-TST-MR</td>\n",
       "      <td>Arzu Aliyeva</td>\n",
       "      <td>officer</td>\n",
       "      <td>NaN</td>\n",
       "      <td>3.319085e+11</td>\n",
       "      <td>NaN</td>\n",
       "      <td>move unique</td>\n",
       "    </tr>\n",
       "    <tr>\n",
       "      <th>266946</th>\n",
       "      <td>15005004-TST-M</td>\n",
       "      <td>Heydar Aliyev</td>\n",
       "      <td>officer</td>\n",
       "      <td>NaN</td>\n",
       "      <td>4.201462e+11</td>\n",
       "      <td>HeydarAliyev@hotmail.co.uk</td>\n",
       "      <td>move row</td>\n",
       "    </tr>\n",
       "    <tr>\n",
       "      <th>266947</th>\n",
       "      <td>15005201-TST-MR</td>\n",
       "      <td>Konrad Mizzi</td>\n",
       "      <td>officer</td>\n",
       "      <td>NaN</td>\n",
       "      <td>4.993561e+10</td>\n",
       "      <td>NaN</td>\n",
       "      <td>move unique</td>\n",
       "    </tr>\n",
       "    <tr>\n",
       "      <th>266948</th>\n",
       "      <td>15005401-TST-MR</td>\n",
       "      <td>Mamadou Pouye</td>\n",
       "      <td>officer</td>\n",
       "      <td>NaN</td>\n",
       "      <td>NaN</td>\n",
       "      <td>NaN</td>\n",
       "      <td>move unique</td>\n",
       "    </tr>\n",
       "    <tr>\n",
       "      <th>266949</th>\n",
       "      <td>15005501-TST-M</td>\n",
       "      <td>Alfredo Ovalle Rodríguez</td>\n",
       "      <td>officer</td>\n",
       "      <td>NaN</td>\n",
       "      <td>1.097098e+10</td>\n",
       "      <td>NaN</td>\n",
       "      <td>move row</td>\n",
       "    </tr>\n",
       "    <tr>\n",
       "      <th>266950</th>\n",
       "      <td>15005801-T0-TST-M</td>\n",
       "      <td>Ahmak Ali al-Myrghani</td>\n",
       "      <td>officer</td>\n",
       "      <td>NaN</td>\n",
       "      <td>NaN</td>\n",
       "      <td>AhmadAlial-Mirghani@gmail.de</td>\n",
       "      <td>move row</td>\n",
       "    </tr>\n",
       "    <tr>\n",
       "      <th>266951</th>\n",
       "      <td>15005801-T1-TST-M</td>\n",
       "      <td>Ahmad Ali al-Mirghani</td>\n",
       "      <td>officer</td>\n",
       "      <td>NaN</td>\n",
       "      <td>NaN</td>\n",
       "      <td>AhmadAlialpMirghani@gmail.de</td>\n",
       "      <td>move row</td>\n",
       "    </tr>\n",
       "    <tr>\n",
       "      <th>266952</th>\n",
       "      <td>15006601-TST-MR</td>\n",
       "      <td>Bjarni Benediktsson</td>\n",
       "      <td>officer</td>\n",
       "      <td>NaN</td>\n",
       "      <td>NaN</td>\n",
       "      <td>BjarniBenediktsson@aol.gov</td>\n",
       "      <td>move unique</td>\n",
       "    </tr>\n",
       "    <tr>\n",
       "      <th>266953</th>\n",
       "      <td>15006701-TST-CP</td>\n",
       "      <td>Ólöf Nordal</td>\n",
       "      <td>officer</td>\n",
       "      <td>NaN</td>\n",
       "      <td>4.912080e+10</td>\n",
       "      <td>OlofNordal@yahoo.it</td>\n",
       "      <td>identical copy</td>\n",
       "    </tr>\n",
       "    <tr>\n",
       "      <th>266954</th>\n",
       "      <td>15006801-TST-MR</td>\n",
       "      <td>James Ibori</td>\n",
       "      <td>officer</td>\n",
       "      <td>NaN</td>\n",
       "      <td>NaN</td>\n",
       "      <td>NaN</td>\n",
       "      <td>move unique</td>\n",
       "    </tr>\n",
       "  </tbody>\n",
       "</table>\n",
       "<p>266955 rows × 7 columns</p>\n",
       "</div>"
      ],
      "text/plain": [
       "                  record_id  \\\n",
       "0           10000003-TST-MR   \n",
       "1            10000008-TST-M   \n",
       "2           10000010-TST-CP   \n",
       "3           10000013-TST-MR   \n",
       "4           10000016-TST-MR   \n",
       "5           10000017-TST-MR   \n",
       "6        10000018-T4-TST-CP   \n",
       "7            10000018-TST-M   \n",
       "8       10000020-NV0-TST-CP   \n",
       "9        10000020-NV1-TST-M   \n",
       "10          10000022-TST-CP   \n",
       "11      10000023-NV2-TST-CP   \n",
       "12          10000024-TST-MR   \n",
       "13          10000025-TST-MR   \n",
       "14        10000027-M0-TST-M   \n",
       "15        10000027-T0-TST-M   \n",
       "16        10000027-T1-TST-M   \n",
       "17          10000028-TST-MR   \n",
       "18          10000030-TST-MR   \n",
       "19        10000031-M2-TST-M   \n",
       "20       10000032-T0-TST-CP   \n",
       "21        10000032-T1-TST-M   \n",
       "22           10000034-TST-M   \n",
       "23       10000036-NV0-TST-M   \n",
       "24       10000036-NV1-TST-M   \n",
       "25       10000036-T0-TST-CP   \n",
       "26           10000036-TST-M   \n",
       "27          10000037-TST-MR   \n",
       "28          10000038-TST-MR   \n",
       "29          10000039-TST-CP   \n",
       "...                     ...   \n",
       "266925       13013118-TST-M   \n",
       "266926  13013119-NV0-TST-CP   \n",
       "266927       15000601-TST-M   \n",
       "266928      15000801-TST-MR   \n",
       "266929      15000901-TST-MR   \n",
       "266930         15001201-NV0   \n",
       "266931      15001301-TST-MR   \n",
       "266932   15001401-M0-TST-CP   \n",
       "266933   15001401-M2-TST-CP   \n",
       "266934      15001501-TST-MR   \n",
       "266935   15001601-T3-TST-CP   \n",
       "266936   15001801-T0-TST-CP   \n",
       "266937      15001903-TST-MR   \n",
       "266938    15002501-M0-TST-M   \n",
       "266939      15003201-TST-MR   \n",
       "266940      15003301-TST-MR   \n",
       "266941   15004001-T0-TST-CP   \n",
       "266942    15004001-T3-TST-M   \n",
       "266943      15004501-TST-MR   \n",
       "266944      15005002-TST-MR   \n",
       "266945      15005003-TST-MR   \n",
       "266946       15005004-TST-M   \n",
       "266947      15005201-TST-MR   \n",
       "266948      15005401-TST-MR   \n",
       "266949       15005501-TST-M   \n",
       "266950    15005801-T0-TST-M   \n",
       "266951    15005801-T1-TST-M   \n",
       "266952      15006601-TST-MR   \n",
       "266953      15006701-TST-CP   \n",
       "266954      15006801-TST-MR   \n",
       "\n",
       "                                                     name     type  \\\n",
       "0                                      HOTFOCUS CO., LTD.   entity   \n",
       "1                                     BONUS TRADE LIMITED   entity   \n",
       "2                                        NEW IDEA LIMITED   entity   \n",
       "3                                   VICTORY GROUP LIMITED   entity   \n",
       "4            NINGBO RAPID INTERNATIONAL TRADING CO., LTD.   entity   \n",
       "5                             ANGELIKA INTERNATIONAL LTD.   entity   \n",
       "6                                          CHEM D-T Corp.   entity   \n",
       "7                                          CHEM D-T Corp.   entity   \n",
       "8                              JIE LUN INVESTMENT LIMITED   entity   \n",
       "9                              JIE LUN INVESTMENT LIMITED   entity   \n",
       "10                           PRESTIGE INTERNATIONAL CORP.   entity   \n",
       "11                   SUNNY TREASURE INTERNATIONAL LIMITED   entity   \n",
       "12                           LAKE STREET INVESTMENTS LTD.   entity   \n",
       "13                                            GIT CO INC.   entity   \n",
       "14                          WORLD TOOLS INVESTMENTS CORP.   entity   \n",
       "15                          WORLD TOOLS INVESTMENTS CORP.   entity   \n",
       "16                          WORLD TOOLs INVESTMENTS CORP.   entity   \n",
       "17                                     WINESELECTION S.A.   entity   \n",
       "18                                KIND INTERNATIONAL INC.   entity   \n",
       "19                                     Aegis Infocom Inc.   entity   \n",
       "20                            TOPdINm INVESTMENTS LIMITED   entity   \n",
       "21                            TqPLINE INVESTMENTS LIMITED   entity   \n",
       "22                             Alvear Investments Limited   entity   \n",
       "23                               RIVIERA HOLDINGS LIMITED   entity   \n",
       "24                               RIVIERA HOLDINGS LIMITED   entity   \n",
       "25                               RIVIERA HOLDINGS LIMITED   entity   \n",
       "26                               RIVIERA HOLDINGS LIMITED   entity   \n",
       "27                                 PARKDALE HOLDINGS LTD.   entity   \n",
       "28                                SADDLEVILLE CORPORATION   entity   \n",
       "29              BELLEVUE INTERNATIONAL (FRANCE) CO., LTD.   entity   \n",
       "...                                                   ...      ...   \n",
       "266925                 ANDREA MICHELE ANGELO MARIA MELERA  officer   \n",
       "266926                                          ZHANG JIN  officer   \n",
       "266927                                    Pilar de Borbón  officer   \n",
       "266928                           Bruno Jean-Richard Itoua  officer   \n",
       "266929                      Micaela Domecq Solís-Beaumont  officer   \n",
       "266930                                      César Almeyda  officer   \n",
       "266931                                   John Addo Kufuor  officer   \n",
       "266932                                        Ian Cameron  officer   \n",
       "266933                                        Ian Cameron  officer   \n",
       "266934                                      Mamadie Toure  officer   \n",
       "266935                                Stavrvs Papastavrlu  officer   \n",
       "266936                               Clive Khulubuse Zuma  officer   \n",
       "266937                               Hussain Nawaz Sharif  officer   \n",
       "266938                  José Maria Botelho de Vasconcelos  officer   \n",
       "266939                                 Víctor Cruz Weffer  officer   \n",
       "266940                                      Pedro Delgado  officer   \n",
       "266941                                          João Lyra  officer   \n",
       "266942                                          Jdão Lyra  officer   \n",
       "266943  King Salman bin Abdulaziz bin Abdulrahman Al Saud  officer   \n",
       "266944                                      Leyla Aliyeva  officer   \n",
       "266945                                       Arzu Aliyeva  officer   \n",
       "266946                                      Heydar Aliyev  officer   \n",
       "266947                                       Konrad Mizzi  officer   \n",
       "266948                                      Mamadou Pouye  officer   \n",
       "266949                           Alfredo Ovalle Rodríguez  officer   \n",
       "266950                              Ahmak Ali al-Myrghani  officer   \n",
       "266951                              Ahmad Ali al-Mirghani  officer   \n",
       "266952                                Bjarni Benediktsson  officer   \n",
       "266953                                        Ólöf Nordal  officer   \n",
       "266954                                        James Ibori  officer   \n",
       "\n",
       "                                                  address         phone  \\\n",
       "0                                                     NaN  4.401574e+11   \n",
       "1                                                     NaN           NaN   \n",
       "2                                                     NaN  1.912469e+10   \n",
       "3                                                     NaN  1.949506e+10   \n",
       "4                                                     NaN  4.446512e+11   \n",
       "5                                                     NaN           NaN   \n",
       "6                                                     NaN  3.924568e+09   \n",
       "7                                                     NaN  3.924568e+09   \n",
       "8                                                     NaN           NaN   \n",
       "9                                                     NaN  3.336016e+11   \n",
       "10                                                    NaN  4.200728e+11   \n",
       "11                                                    NaN  4.470710e+11   \n",
       "12                                                    NaN  4.174193e+12   \n",
       "13                                                    NaN           NaN   \n",
       "14                                                    NaN  3.352436e+11   \n",
       "15                                                    NaN  3.352436e+11   \n",
       "16                                                    NaN  3.352436e+11   \n",
       "17                                                    NaN  3.959136e+09   \n",
       "18                                                    NaN  4.209494e+11   \n",
       "19                                                    NaN           NaN   \n",
       "20                                                    NaN  3.364164e+11   \n",
       "21                                                    NaN  3.364164e+11   \n",
       "22                                                    NaN  4.208877e+11   \n",
       "23                                                    NaN  3.946790e+09   \n",
       "24      10685-B Hazelhurst Dr. #5830; Houston; TX 7704...  3.946790e+09   \n",
       "25                                                    NaN  3.946790e+09   \n",
       "26                                                    NaN  3.946790e+09   \n",
       "27                                                    NaN  3.970247e+09   \n",
       "28                                                    NaN  3.378238e+11   \n",
       "29                                                    NaN  3.917160e+09   \n",
       "...                                                   ...           ...   \n",
       "266925                                                NaN           NaN   \n",
       "266926  7/F; Flat A; 1 Capevale Drive; Discovery Bay; ...  3.902680e+09   \n",
       "266927                                                NaN           NaN   \n",
       "266928                                                NaN  4.405693e+11   \n",
       "266929                                                NaN           NaN   \n",
       "266930                                                NaN  3.300814e+11   \n",
       "266931                                                NaN  3.335382e+11   \n",
       "266932                                                NaN           NaN   \n",
       "266933                                                NaN           NaN   \n",
       "266934                                                NaN  4.425446e+11   \n",
       "266935                                                NaN  4.171165e+12   \n",
       "266936                                                NaN  4.918253e+10   \n",
       "266937                                                NaN  3.991790e+09   \n",
       "266938                                                NaN           NaN   \n",
       "266939                                                NaN  1.702037e+10   \n",
       "266940                                                NaN  3.326740e+11   \n",
       "266941                                                NaN  4.978747e+10   \n",
       "266942                                                NaN  4.978769e+10   \n",
       "266943                                                NaN  3.341554e+11   \n",
       "266944                                                NaN           NaN   \n",
       "266945                                                NaN  3.319085e+11   \n",
       "266946                                                NaN  4.201462e+11   \n",
       "266947                                                NaN  4.993561e+10   \n",
       "266948                                                NaN           NaN   \n",
       "266949                                                NaN  1.097098e+10   \n",
       "266950                                                NaN           NaN   \n",
       "266951                                                NaN           NaN   \n",
       "266952                                                NaN           NaN   \n",
       "266953                                                NaN  4.912080e+10   \n",
       "266954                                                NaN           NaN   \n",
       "\n",
       "                                          email    modification  \n",
       "0                         consulting@outlook.ch     move unique  \n",
       "1                                help@gmail.gov        move row  \n",
       "2                                           NaN  identical copy  \n",
       "3                                           NaN     move unique  \n",
       "4                               info@outlook.cz     move unique  \n",
       "5                                           NaN     move unique  \n",
       "6                     enquirhs@CHEM.D-T.Corp.ch  identical copy  \n",
       "7                     inquires@CHEM.D-T.Corp.ch        move row  \n",
       "8                                           NaN  identical copy  \n",
       "9                                           NaN        move row  \n",
       "10      inquires@PRESTIGE.INTERNATIONAL.CORP.ch  identical copy  \n",
       "11                                          NaN  identical copy  \n",
       "12                                          NaN     move unique  \n",
       "13                                          NaN     move unique  \n",
       "14                                          NaN        move row  \n",
       "15                                          NaN        move row  \n",
       "16                                          NaN        move row  \n",
       "17                   WINESELECTIONSA@hotmail.de     move unique  \n",
       "18                                          NaN     move unique  \n",
       "19                                          NaN        move row  \n",
       "20                                          NaN  identical copy  \n",
       "21                                          NaN        move row  \n",
       "22                                          NaN        move row  \n",
       "23                                          NaN        move row  \n",
       "24                               info@icloud.ch        move row  \n",
       "25                                          NaN  identical copy  \n",
       "26                                          NaN        move row  \n",
       "27             support@PARKDALE.HOLDINGS.LTD.it     move unique  \n",
       "28                                          NaN     move unique  \n",
       "29                                          NaN  identical copy  \n",
       "...                                         ...             ...  \n",
       "266925                                      NaN        move row  \n",
       "266926                                      NaN  identical copy  \n",
       "266927                                      NaN        move row  \n",
       "266928                                      NaN     move unique  \n",
       "266929                                      NaN     move unique  \n",
       "266930                                      NaN   modified copy  \n",
       "266931                                      NaN     move unique  \n",
       "266932                                      NaN  identical copy  \n",
       "266933                                      NaN  identical copy  \n",
       "266934                   MamadieToure@icloud.it     move unique  \n",
       "266935             StaxrosPapastavrou@icloud.ch  identical copy  \n",
       "266936                                      NaN  identical copy  \n",
       "266937                          help@hotmail.de     move unique  \n",
       "266938                                      NaN        move row  \n",
       "266939               VictorCruzWeffer@gmail.gov     move unique  \n",
       "266940                PedroDelgado@icloud.co.uk     move unique  \n",
       "266941                                      NaN  identical copy  \n",
       "266942                                      NaN        move row  \n",
       "266943                                      NaN     move unique  \n",
       "266944                                      NaN     move unique  \n",
       "266945                                      NaN     move unique  \n",
       "266946               HeydarAliyev@hotmail.co.uk        move row  \n",
       "266947                                      NaN     move unique  \n",
       "266948                                      NaN     move unique  \n",
       "266949                                      NaN        move row  \n",
       "266950             AhmadAlial-Mirghani@gmail.de        move row  \n",
       "266951             AhmadAlialpMirghani@gmail.de        move row  \n",
       "266952               BjarniBenediktsson@aol.gov     move unique  \n",
       "266953                      OlofNordal@yahoo.it  identical copy  \n",
       "266954                                      NaN     move unique  \n",
       "\n",
       "[266955 rows x 7 columns]"
      ]
     },
     "execution_count": 23,
     "metadata": {},
     "output_type": "execute_result"
    }
   ],
   "source": [
    "df_test"
   ]
  },
  {
   "cell_type": "code",
   "execution_count": 24,
   "metadata": {},
   "outputs": [],
   "source": [
    "df_test['linked_id'] = df_test.record_id.str.split('-')\n",
    "df_test['linked_id'] = df_test.linked_id.apply(lambda x: x[0])\n",
    "df_test.linked_id = df_test.linked_id.astype(int)"
   ]
  },
  {
   "cell_type": "code",
   "execution_count": 25,
   "metadata": {},
   "outputs": [],
   "source": [
    "df_test = df_test.merge(group_train, how= 'left', on='linked_id')"
   ]
  },
  {
   "cell_type": "code",
   "execution_count": 28,
   "metadata": {},
   "outputs": [],
   "source": [
    "def seq_labelling(df):\n",
    "    linked_seen = []\n",
    "    new_group = { }\n",
    "    new_df = []\n",
    "    df_notna = df[~df.record_ids.isna()]\n",
    "    df_na = df[df.record_ids.isna()]\n",
    "    relevant_idx= []\n",
    "    for (i, l, r) in tqdm(zip(df_na.index, df_na.linked_id, df_na.record_id)):\n",
    "        if l not in linked_seen:\n",
    "            linked_seen.append(l)\n",
    "            new_df.append((i, r, np.nan))\n",
    "            new_group[l] = [r]\n",
    "        else:\n",
    "            current_group = new_group[l]\n",
    "            #print(f'{r} and the group: {current_group}')\n",
    "            new_df.append((i, r, current_group))\n",
    "            new_group[l].append(r)\n",
    "            relevant_idx.append(i)\n",
    "    res = pd.DataFrame(new_df, columns=['index','record_id', 'record_ids']).set_index('index')\n",
    "    full_df = pd.concat([df_notna, res])\n",
    "    full_df = full_df.sort_index()\n",
    "    return full_df, relevant_idx\n",
    "\n",
    "def get_target(df):\n",
    "    df, idx = seq_labelling(df)\n",
    "    df_notidx = df.loc[~df.index.isin(idx)]\n",
    "    df = df.loc[idx]\n",
    "    new_df = []\n",
    "    for (i,r, g) in tqdm(zip(df.index, df.record_id, df.record_ids)):\n",
    "        idx = g.index(r)\n",
    "        g = g[:idx]\n",
    "        new_df.append((i, r, g))\n",
    "    new_df = pd.DataFrame(new_df, columns=['index','record_id', 'record_ids']).set_index('index')\n",
    "    res = pd.concat([new_df, df_notidx])\n",
    "    res = res.sort_index()\n",
    "    return res"
   ]
  },
  {
   "cell_type": "code",
   "execution_count": 27,
   "metadata": {},
   "outputs": [
    {
     "data": {
      "application/vnd.jupyter.widget-view+json": {
       "model_id": "63679a1becd54279b71cdb65f3465dbc",
       "version_major": 2,
       "version_minor": 0
      },
      "text/plain": [
       "HBox(children=(IntProgress(value=1, bar_style='info', max=1), HTML(value='')))"
      ]
     },
     "metadata": {},
     "output_type": "display_data"
    },
    {
     "name": "stdout",
     "output_type": "stream",
     "text": [
      "\n"
     ]
    },
    {
     "name": "stderr",
     "output_type": "stream",
     "text": [
      "/usr/local/lib/python3.7/site-packages/ipykernel_launcher.py:20: FutureWarning: Sorting because non-concatenation axis is not aligned. A future version\n",
      "of pandas will change to not sort by default.\n",
      "\n",
      "To accept the future behavior, pass 'sort=False'.\n",
      "\n",
      "To retain the current behavior and silence the warning, pass 'sort=True'.\n",
      "\n"
     ]
    },
    {
     "data": {
      "application/vnd.jupyter.widget-view+json": {
       "model_id": "21353c4505ef4161909bc6835a6a8d54",
       "version_major": 2,
       "version_minor": 0
      },
      "text/plain": [
       "HBox(children=(IntProgress(value=1, bar_style='info', max=1), HTML(value='')))"
      ]
     },
     "metadata": {},
     "output_type": "display_data"
    },
    {
     "name": "stdout",
     "output_type": "stream",
     "text": [
      "\n"
     ]
    },
    {
     "name": "stderr",
     "output_type": "stream",
     "text": [
      "/usr/local/lib/python3.7/site-packages/ipykernel_launcher.py:34: FutureWarning: Sorting because non-concatenation axis is not aligned. A future version\n",
      "of pandas will change to not sort by default.\n",
      "\n",
      "To accept the future behavior, pass 'sort=False'.\n",
      "\n",
      "To retain the current behavior and silence the warning, pass 'sort=True'.\n",
      "\n"
     ]
    }
   ],
   "source": [
    "seq = get_target(df_test[['record_id', 'linked_id','record_ids']])"
   ]
  },
  {
   "cell_type": "markdown",
   "metadata": {},
   "source": [
    "# Incremental Evaluation"
   ]
  },
  {
   "cell_type": "markdown",
   "metadata": {},
   "source": [
    "## Nota\n",
    "Invece di fare le predizioni su tutto il test, visto che sappiamo come performa l'algoritmo classico su quei record che hanno riferimenti nel train, possiamo restringere l'analisi ai record del test che non hanno riferimenti nel train e che hanno duplicati all'interno del test stesso [per quelli che non sono duplicati non ha senso fare tale analisi perché non forniscono nessun contributo alle query successive]"
   ]
  },
  {
   "cell_type": "code",
   "execution_count": 35,
   "metadata": {},
   "outputs": [],
   "source": [
    "duplicates_df = only_test_recordid[only_test_recordid.duplicated('linked_id', keep=False)]"
   ]
  },
  {
   "cell_type": "code",
   "execution_count": 36,
   "metadata": {},
   "outputs": [
    {
     "data": {
      "text/html": [
       "<div>\n",
       "<style scoped>\n",
       "    .dataframe tbody tr th:only-of-type {\n",
       "        vertical-align: middle;\n",
       "    }\n",
       "\n",
       "    .dataframe tbody tr th {\n",
       "        vertical-align: top;\n",
       "    }\n",
       "\n",
       "    .dataframe thead th {\n",
       "        text-align: right;\n",
       "    }\n",
       "</style>\n",
       "<table border=\"1\" class=\"dataframe\">\n",
       "  <thead>\n",
       "    <tr style=\"text-align: right;\">\n",
       "      <th></th>\n",
       "      <th>record_id</th>\n",
       "      <th>name</th>\n",
       "      <th>type</th>\n",
       "      <th>address</th>\n",
       "      <th>phone</th>\n",
       "      <th>email</th>\n",
       "      <th>modification</th>\n",
       "      <th>linked_id</th>\n",
       "    </tr>\n",
       "  </thead>\n",
       "  <tbody>\n",
       "    <tr>\n",
       "      <th>338</th>\n",
       "      <td>10000500-T0-TST-M</td>\n",
       "      <td>EAST ASIA PALM hO.c LTD</td>\n",
       "      <td>entity</td>\n",
       "      <td>NaN</td>\n",
       "      <td>4.419548e+11</td>\n",
       "      <td>NaN</td>\n",
       "      <td>move row</td>\n",
       "      <td>10000500</td>\n",
       "    </tr>\n",
       "    <tr>\n",
       "      <th>339</th>\n",
       "      <td>10000500-TST-M</td>\n",
       "      <td>EAST ASIA PALM CO., LTD</td>\n",
       "      <td>entity</td>\n",
       "      <td>NaN</td>\n",
       "      <td>4.419598e+11</td>\n",
       "      <td>NaN</td>\n",
       "      <td>move row</td>\n",
       "      <td>10000500</td>\n",
       "    </tr>\n",
       "    <tr>\n",
       "      <th>848</th>\n",
       "      <td>10001224-M0-TST-M</td>\n",
       "      <td>VICTORY SECRET LTD.</td>\n",
       "      <td>entity</td>\n",
       "      <td>NaN</td>\n",
       "      <td>1.900123e+10</td>\n",
       "      <td>support@icloud.gov</td>\n",
       "      <td>move row</td>\n",
       "      <td>10001224</td>\n",
       "    </tr>\n",
       "    <tr>\n",
       "      <th>849</th>\n",
       "      <td>10001224-M1-TST-M</td>\n",
       "      <td>VICTORY SECRET LTD.</td>\n",
       "      <td>entity</td>\n",
       "      <td>NaN</td>\n",
       "      <td>NaN</td>\n",
       "      <td>NaN</td>\n",
       "      <td>move row</td>\n",
       "      <td>10001224</td>\n",
       "    </tr>\n",
       "    <tr>\n",
       "      <th>850</th>\n",
       "      <td>10001224-TST-M</td>\n",
       "      <td>VICTORY SECRET LTD.</td>\n",
       "      <td>entity</td>\n",
       "      <td>NaN</td>\n",
       "      <td>1.900123e+10</td>\n",
       "      <td>support@icloud.gov</td>\n",
       "      <td>move row</td>\n",
       "      <td>10001224</td>\n",
       "    </tr>\n",
       "    <tr>\n",
       "      <th>1592</th>\n",
       "      <td>10002261-NV0-TST-M</td>\n",
       "      <td>LONGKOU FANLIN NODULAR CAST IRON PIPE CO.,LTD.</td>\n",
       "      <td>entity</td>\n",
       "      <td>6310 WATERBURY RD NANAIMO BC V9V 1M3 CANADA</td>\n",
       "      <td>NaN</td>\n",
       "      <td>NaN</td>\n",
       "      <td>move row</td>\n",
       "      <td>10002261</td>\n",
       "    </tr>\n",
       "    <tr>\n",
       "      <th>1593</th>\n",
       "      <td>10002261-TST-M</td>\n",
       "      <td>LONGKOU FANLIN NODULAR CAST IRON PIPE CO.,LTD.</td>\n",
       "      <td>entity</td>\n",
       "      <td>NaN</td>\n",
       "      <td>4.107031e+12</td>\n",
       "      <td>NaN</td>\n",
       "      <td>move row</td>\n",
       "      <td>10002261</td>\n",
       "    </tr>\n",
       "    <tr>\n",
       "      <th>1924</th>\n",
       "      <td>10002752-NV0-TST-M</td>\n",
       "      <td>WALBRAY TRADING LTD.</td>\n",
       "      <td>entity</td>\n",
       "      <td>NaN</td>\n",
       "      <td>NaN</td>\n",
       "      <td>NaN</td>\n",
       "      <td>move row</td>\n",
       "      <td>10002752</td>\n",
       "    </tr>\n",
       "    <tr>\n",
       "      <th>1925</th>\n",
       "      <td>10002752-TST-M</td>\n",
       "      <td>WALBRAY TRADING LTD.</td>\n",
       "      <td>entity</td>\n",
       "      <td>NaN</td>\n",
       "      <td>NaN</td>\n",
       "      <td>NaN</td>\n",
       "      <td>move row</td>\n",
       "      <td>10002752</td>\n",
       "    </tr>\n",
       "    <tr>\n",
       "      <th>2180</th>\n",
       "      <td>10003124-M0-TST-M</td>\n",
       "      <td>MANDELBAUM LTD. INC.</td>\n",
       "      <td>entity</td>\n",
       "      <td>NaN</td>\n",
       "      <td>NaN</td>\n",
       "      <td>NaN</td>\n",
       "      <td>move row</td>\n",
       "      <td>10003124</td>\n",
       "    </tr>\n",
       "    <tr>\n",
       "      <th>2181</th>\n",
       "      <td>10003124-TST-M</td>\n",
       "      <td>MANDELBAUM LTD. INC.</td>\n",
       "      <td>entity</td>\n",
       "      <td>NaN</td>\n",
       "      <td>1.356913e+10</td>\n",
       "      <td>NaN</td>\n",
       "      <td>move row</td>\n",
       "      <td>10003124</td>\n",
       "    </tr>\n",
       "    <tr>\n",
       "      <th>2597</th>\n",
       "      <td>10003732-NV0-TST-M</td>\n",
       "      <td>PROFIT SMART ENTERPRISES LTD.</td>\n",
       "      <td>entity</td>\n",
       "      <td>NaN</td>\n",
       "      <td>NaN</td>\n",
       "      <td>inquires@PROFIT.SMART.ENTERPRISES.LTD.com</td>\n",
       "      <td>move row</td>\n",
       "      <td>10003732</td>\n",
       "    </tr>\n",
       "    <tr>\n",
       "      <th>2598</th>\n",
       "      <td>10003732-TST-M</td>\n",
       "      <td>PROFIT SMART ENTERPRISES LTD.</td>\n",
       "      <td>entity</td>\n",
       "      <td>NaN</td>\n",
       "      <td>3.943087e+09</td>\n",
       "      <td>help@zoho.com</td>\n",
       "      <td>move row</td>\n",
       "      <td>10003732</td>\n",
       "    </tr>\n",
       "    <tr>\n",
       "      <th>3898</th>\n",
       "      <td>10005571-NV0-TST-M</td>\n",
       "      <td>ENPREX S.A.</td>\n",
       "      <td>entity</td>\n",
       "      <td>Spartakovskaya Street 6-8; Moscow; Russia</td>\n",
       "      <td>4.149003e+12</td>\n",
       "      <td>NaN</td>\n",
       "      <td>move row</td>\n",
       "      <td>10005571</td>\n",
       "    </tr>\n",
       "    <tr>\n",
       "      <th>3899</th>\n",
       "      <td>10005571-TST-M</td>\n",
       "      <td>ENPREX S.A.</td>\n",
       "      <td>entity</td>\n",
       "      <td>NaN</td>\n",
       "      <td>4.149003e+12</td>\n",
       "      <td>NaN</td>\n",
       "      <td>move row</td>\n",
       "      <td>10005571</td>\n",
       "    </tr>\n",
       "    <tr>\n",
       "      <th>3919</th>\n",
       "      <td>10005601-M0-TST-M</td>\n",
       "      <td>Neotecmedical Inc.</td>\n",
       "      <td>entity</td>\n",
       "      <td>Neotecmedical Inc. 520 S. 7TH STREET SUITE C L...</td>\n",
       "      <td>1.937160e+10</td>\n",
       "      <td>NaN</td>\n",
       "      <td>move row</td>\n",
       "      <td>10005601</td>\n",
       "    </tr>\n",
       "    <tr>\n",
       "      <th>3920</th>\n",
       "      <td>10005601-T0-TST-M</td>\n",
       "      <td>Neotecmedical Inc.</td>\n",
       "      <td>entity</td>\n",
       "      <td>Neotecmedical Inc. 520 S. 7TH STREET SUITE C L...</td>\n",
       "      <td>1.937160e+10</td>\n",
       "      <td>sales@yahoo.ch</td>\n",
       "      <td>move row</td>\n",
       "      <td>10005601</td>\n",
       "    </tr>\n",
       "    <tr>\n",
       "      <th>3921</th>\n",
       "      <td>10005601-TST-M</td>\n",
       "      <td>Neotecmedical Inc.</td>\n",
       "      <td>entity</td>\n",
       "      <td>Neotecmedical Inc. 520 S. 7TH STREET SUITE C L...</td>\n",
       "      <td>1.937160e+10</td>\n",
       "      <td>sales@yahoo.ch</td>\n",
       "      <td>move row</td>\n",
       "      <td>10005601</td>\n",
       "    </tr>\n",
       "    <tr>\n",
       "      <th>3994</th>\n",
       "      <td>10005733-NV0-TST-M</td>\n",
       "      <td>LIKOU INC.</td>\n",
       "      <td>entity</td>\n",
       "      <td>NaN</td>\n",
       "      <td>NaN</td>\n",
       "      <td>NaN</td>\n",
       "      <td>move row</td>\n",
       "      <td>10005733</td>\n",
       "    </tr>\n",
       "    <tr>\n",
       "      <th>3995</th>\n",
       "      <td>10005733-TST-M</td>\n",
       "      <td>LIKOU INC.</td>\n",
       "      <td>entity</td>\n",
       "      <td>NaN</td>\n",
       "      <td>3.980124e+09</td>\n",
       "      <td>NaN</td>\n",
       "      <td>move row</td>\n",
       "      <td>10005733</td>\n",
       "    </tr>\n",
       "    <tr>\n",
       "      <th>4462</th>\n",
       "      <td>10006451-NV0-TST-M</td>\n",
       "      <td>MAYFIELD TRADING LTD.</td>\n",
       "      <td>entity</td>\n",
       "      <td>NaN</td>\n",
       "      <td>NaN</td>\n",
       "      <td>NaN</td>\n",
       "      <td>move row</td>\n",
       "      <td>10006451</td>\n",
       "    </tr>\n",
       "    <tr>\n",
       "      <th>4463</th>\n",
       "      <td>10006451-TST-M</td>\n",
       "      <td>MAYFIELD TRADING LTD.</td>\n",
       "      <td>entity</td>\n",
       "      <td>NaN</td>\n",
       "      <td>4.201098e+11</td>\n",
       "      <td>NaN</td>\n",
       "      <td>move row</td>\n",
       "      <td>10006451</td>\n",
       "    </tr>\n",
       "    <tr>\n",
       "      <th>4701</th>\n",
       "      <td>10006767-M0-TST-M</td>\n",
       "      <td>PRIVA FINANCE S.A.</td>\n",
       "      <td>entity</td>\n",
       "      <td>NaN</td>\n",
       "      <td>NaN</td>\n",
       "      <td>NaN</td>\n",
       "      <td>move row</td>\n",
       "      <td>10006767</td>\n",
       "    </tr>\n",
       "    <tr>\n",
       "      <th>4702</th>\n",
       "      <td>10006767-TST-M</td>\n",
       "      <td>PRIVA FINANCE S.A.</td>\n",
       "      <td>entity</td>\n",
       "      <td>NaN</td>\n",
       "      <td>4.202333e+11</td>\n",
       "      <td>PRIVAFINANCESA@yahoo.ch</td>\n",
       "      <td>move row</td>\n",
       "      <td>10006767</td>\n",
       "    </tr>\n",
       "    <tr>\n",
       "      <th>6224</th>\n",
       "      <td>10008908-T0-TST-M</td>\n",
       "      <td>WILDPARK HOLDING INC.</td>\n",
       "      <td>entity</td>\n",
       "      <td>STANDARD wHARTERED BANK (SiITZERLAND) SA CASE ...</td>\n",
       "      <td>NaN</td>\n",
       "      <td>NaN</td>\n",
       "      <td>move row</td>\n",
       "      <td>10008908</td>\n",
       "    </tr>\n",
       "    <tr>\n",
       "      <th>6225</th>\n",
       "      <td>10008908-T1-TST-M</td>\n",
       "      <td>WILDPARK oOLDING INC.</td>\n",
       "      <td>entity</td>\n",
       "      <td>STANDARD CHARTERED BANK (SWITZERLAND) SA CASE ...</td>\n",
       "      <td>NaN</td>\n",
       "      <td>NaN</td>\n",
       "      <td>move row</td>\n",
       "      <td>10008908</td>\n",
       "    </tr>\n",
       "    <tr>\n",
       "      <th>6226</th>\n",
       "      <td>10008908-TST-M</td>\n",
       "      <td>WILDPARK HOLDING INC.</td>\n",
       "      <td>entity</td>\n",
       "      <td>STANDARD CHARTERED BANK (SWITZERLAND) SA CASE ...</td>\n",
       "      <td>NaN</td>\n",
       "      <td>NaN</td>\n",
       "      <td>move row</td>\n",
       "      <td>10008908</td>\n",
       "    </tr>\n",
       "    <tr>\n",
       "      <th>6633</th>\n",
       "      <td>10009498-M0-TST-M</td>\n",
       "      <td>REIGHTON EQUITIES INC.</td>\n",
       "      <td>entity</td>\n",
       "      <td>NaN</td>\n",
       "      <td>NaN</td>\n",
       "      <td>NaN</td>\n",
       "      <td>move row</td>\n",
       "      <td>10009498</td>\n",
       "    </tr>\n",
       "    <tr>\n",
       "      <th>6634</th>\n",
       "      <td>10009498-TST-M</td>\n",
       "      <td>REIGHTON EQUITIES INC.</td>\n",
       "      <td>entity</td>\n",
       "      <td>NaN</td>\n",
       "      <td>NaN</td>\n",
       "      <td>NaN</td>\n",
       "      <td>move row</td>\n",
       "      <td>10009498</td>\n",
       "    </tr>\n",
       "    <tr>\n",
       "      <th>7088</th>\n",
       "      <td>10010194-NV0-TST-M</td>\n",
       "      <td>CARDER INC.</td>\n",
       "      <td>entity</td>\n",
       "      <td>UB ECUADOR HOLDINGS; LLC 520 S. 7TH STREET  SU...</td>\n",
       "      <td>NaN</td>\n",
       "      <td>NaN</td>\n",
       "      <td>move row</td>\n",
       "      <td>10010194</td>\n",
       "    </tr>\n",
       "    <tr>\n",
       "      <th>...</th>\n",
       "      <td>...</td>\n",
       "      <td>...</td>\n",
       "      <td>...</td>\n",
       "      <td>...</td>\n",
       "      <td>...</td>\n",
       "      <td>...</td>\n",
       "      <td>...</td>\n",
       "      <td>...</td>\n",
       "    </tr>\n",
       "    <tr>\n",
       "      <th>254014</th>\n",
       "      <td>12219159-TST-M</td>\n",
       "      <td>Tuscan Crest Limited</td>\n",
       "      <td>officer</td>\n",
       "      <td>Trident Chambers PO Box 146 Road Town, Tortola...</td>\n",
       "      <td>3.323567e+11</td>\n",
       "      <td>NaN</td>\n",
       "      <td>move row</td>\n",
       "      <td>12219159</td>\n",
       "    </tr>\n",
       "    <tr>\n",
       "      <th>254325</th>\n",
       "      <td>12219625-M0-TST-M</td>\n",
       "      <td>Waldemar WITT</td>\n",
       "      <td>officer</td>\n",
       "      <td>NaN</td>\n",
       "      <td>NaN</td>\n",
       "      <td>WaldemarWITT@yahoo.de</td>\n",
       "      <td>move row</td>\n",
       "      <td>12219625</td>\n",
       "    </tr>\n",
       "    <tr>\n",
       "      <th>254326</th>\n",
       "      <td>12219625-M1-TST-M</td>\n",
       "      <td>Waldemar WITT</td>\n",
       "      <td>officer</td>\n",
       "      <td>NaN</td>\n",
       "      <td>NaN</td>\n",
       "      <td>NaN</td>\n",
       "      <td>move row</td>\n",
       "      <td>12219625</td>\n",
       "    </tr>\n",
       "    <tr>\n",
       "      <th>254327</th>\n",
       "      <td>12219625-TST-M</td>\n",
       "      <td>Waldemar WITT</td>\n",
       "      <td>officer</td>\n",
       "      <td>U1. MRAMORNAYA 14-134 116142 PODOLSK RUSSIA</td>\n",
       "      <td>NaN</td>\n",
       "      <td>WaldemarWITT@yahoo.de</td>\n",
       "      <td>move row</td>\n",
       "      <td>12219625</td>\n",
       "    </tr>\n",
       "    <tr>\n",
       "      <th>254361</th>\n",
       "      <td>12219679-NV0-TST-M</td>\n",
       "      <td>PEAK ENTERPRISES LIMITED</td>\n",
       "      <td>officer</td>\n",
       "      <td>57.594.426/0001-38; Alameda Araguaia; 3718; 1°...</td>\n",
       "      <td>4.453421e+11</td>\n",
       "      <td>NaN</td>\n",
       "      <td>move row</td>\n",
       "      <td>12219679</td>\n",
       "    </tr>\n",
       "    <tr>\n",
       "      <th>254362</th>\n",
       "      <td>12219679-TST-M</td>\n",
       "      <td>PEAK ENTERPRISES LIMITED</td>\n",
       "      <td>officer</td>\n",
       "      <td>TOP FLOOR; 14 ATHOL STREET; DOUGLAS; ISLE OF MAN</td>\n",
       "      <td>4.453421e+11</td>\n",
       "      <td>NaN</td>\n",
       "      <td>move row</td>\n",
       "      <td>12219679</td>\n",
       "    </tr>\n",
       "    <tr>\n",
       "      <th>255389</th>\n",
       "      <td>12221232-NV0-TST-M</td>\n",
       "      <td>PASAWEE LIMITED</td>\n",
       "      <td>officer</td>\n",
       "      <td>UNIT 1605-6; 16TH FLOOR; INFINITUS PLAZA; 199 ...</td>\n",
       "      <td>3.975432e+09</td>\n",
       "      <td>NaN</td>\n",
       "      <td>move row</td>\n",
       "      <td>12221232</td>\n",
       "    </tr>\n",
       "    <tr>\n",
       "      <th>255390</th>\n",
       "      <td>12221232-NV1-TST-M</td>\n",
       "      <td>PASAWEE LIMITED</td>\n",
       "      <td>officer</td>\n",
       "      <td>UNIT 1605-6; 16TH FLOOR; INFINITUS PLAZA; 199 ...</td>\n",
       "      <td>NaN</td>\n",
       "      <td>NaN</td>\n",
       "      <td>move row</td>\n",
       "      <td>12221232</td>\n",
       "    </tr>\n",
       "    <tr>\n",
       "      <th>255391</th>\n",
       "      <td>12221232-TST-M</td>\n",
       "      <td>PASAWEE LIMITED</td>\n",
       "      <td>officer</td>\n",
       "      <td>UNIT 1605-6; 16TH FLOOR; INFINITUS PLAZA; 199 ...</td>\n",
       "      <td>NaN</td>\n",
       "      <td>NaN</td>\n",
       "      <td>move row</td>\n",
       "      <td>12221232</td>\n",
       "    </tr>\n",
       "    <tr>\n",
       "      <th>258437</th>\n",
       "      <td>13000820-T0-TST-M</td>\n",
       "      <td>TEREZIA aIqLAY</td>\n",
       "      <td>officer</td>\n",
       "      <td>11 AVENUE PRINCESSE GRACE; MC 98 g00; MONACO</td>\n",
       "      <td>NaN</td>\n",
       "      <td>TEREZIqFINLAb@yahoo.de</td>\n",
       "      <td>move row</td>\n",
       "      <td>13000820</td>\n",
       "    </tr>\n",
       "    <tr>\n",
       "      <th>258438</th>\n",
       "      <td>13000820-TST-M</td>\n",
       "      <td>TEREZIA FINLAY</td>\n",
       "      <td>officer</td>\n",
       "      <td>11 AVENUE PRINCESSE GRACE; MC 98 000; MONACO</td>\n",
       "      <td>NaN</td>\n",
       "      <td>TEREZIAFINLAY@yahoo.de</td>\n",
       "      <td>move row</td>\n",
       "      <td>13000820</td>\n",
       "    </tr>\n",
       "    <tr>\n",
       "      <th>258627</th>\n",
       "      <td>13001111-M0-TST-M</td>\n",
       "      <td>Rafi Elimelech</td>\n",
       "      <td>officer</td>\n",
       "      <td>NaN</td>\n",
       "      <td>4.201910e+11</td>\n",
       "      <td>NaN</td>\n",
       "      <td>move row</td>\n",
       "      <td>13001111</td>\n",
       "    </tr>\n",
       "    <tr>\n",
       "      <th>258628</th>\n",
       "      <td>13001111-M1-TST-M</td>\n",
       "      <td>Rafi Elimelech</td>\n",
       "      <td>officer</td>\n",
       "      <td>HaSahlav 102, Ramat Poleg - Israel</td>\n",
       "      <td>NaN</td>\n",
       "      <td>NaN</td>\n",
       "      <td>move row</td>\n",
       "      <td>13001111</td>\n",
       "    </tr>\n",
       "    <tr>\n",
       "      <th>258629</th>\n",
       "      <td>13001111-TST-M</td>\n",
       "      <td>Rafi Elimelech</td>\n",
       "      <td>officer</td>\n",
       "      <td>HaSahlav 102, Ramat Poleg - Israel</td>\n",
       "      <td>4.201910e+11</td>\n",
       "      <td>NaN</td>\n",
       "      <td>move row</td>\n",
       "      <td>13001111</td>\n",
       "    </tr>\n",
       "    <tr>\n",
       "      <th>259394</th>\n",
       "      <td>13002187-NV0-TST-M</td>\n",
       "      <td>Mrs. Zhanna Vdovina</td>\n",
       "      <td>officer</td>\n",
       "      <td>Apt 5 Gazovaya St 1a St Petesburg Russia</td>\n",
       "      <td>NaN</td>\n",
       "      <td>NaN</td>\n",
       "      <td>move row</td>\n",
       "      <td>13002187</td>\n",
       "    </tr>\n",
       "    <tr>\n",
       "      <th>259395</th>\n",
       "      <td>13002187-NV1-TST-M</td>\n",
       "      <td>Mrs. Zhanna Vdovina</td>\n",
       "      <td>officer</td>\n",
       "      <td>Apt 5 Gazovaya St 1a St Petesburg Russia</td>\n",
       "      <td>1.825716e+10</td>\n",
       "      <td>NaN</td>\n",
       "      <td>move row</td>\n",
       "      <td>13002187</td>\n",
       "    </tr>\n",
       "    <tr>\n",
       "      <th>259396</th>\n",
       "      <td>13002187-TST-M</td>\n",
       "      <td>Mrs. Zhanna Vdovina</td>\n",
       "      <td>officer</td>\n",
       "      <td>Apt 5 Gazovaya St 1a St Petesburg Russia</td>\n",
       "      <td>4.205860e+11</td>\n",
       "      <td>NaN</td>\n",
       "      <td>move row</td>\n",
       "      <td>13002187</td>\n",
       "    </tr>\n",
       "    <tr>\n",
       "      <th>260754</th>\n",
       "      <td>13004163-T0-TST-M</td>\n",
       "      <td>Ching Yu NG</td>\n",
       "      <td>officer</td>\n",
       "      <td>15/f EffectuallBdgo Henjessey Road; Wanchai; H...</td>\n",
       "      <td>4.920932e+10</td>\n",
       "      <td>NaN</td>\n",
       "      <td>move row</td>\n",
       "      <td>13004163</td>\n",
       "    </tr>\n",
       "    <tr>\n",
       "      <th>260755</th>\n",
       "      <td>13004163-TST-M</td>\n",
       "      <td>Ching Yu NG</td>\n",
       "      <td>officer</td>\n",
       "      <td>15/f Effectual Bdg; Hennessey Road; Wanchai; H...</td>\n",
       "      <td>4.920922e+10</td>\n",
       "      <td>NaN</td>\n",
       "      <td>move row</td>\n",
       "      <td>13004163</td>\n",
       "    </tr>\n",
       "    <tr>\n",
       "      <th>262101</th>\n",
       "      <td>13006059-M0-TST-M</td>\n",
       "      <td>Carlos Rodrigo Figueiredo Lopes</td>\n",
       "      <td>officer</td>\n",
       "      <td>Rua do Castelo 156; 2240-334 Ferreira do Zezer...</td>\n",
       "      <td>NaN</td>\n",
       "      <td>NaN</td>\n",
       "      <td>move row</td>\n",
       "      <td>13006059</td>\n",
       "    </tr>\n",
       "    <tr>\n",
       "      <th>262102</th>\n",
       "      <td>13006059-TST-M</td>\n",
       "      <td>Carlos Rodrigo Figueiredo Lopes</td>\n",
       "      <td>officer</td>\n",
       "      <td>Rua do Castelo 156; 2240-334 Ferreira do Zezer...</td>\n",
       "      <td>4.103285e+12</td>\n",
       "      <td>CarlosRodrigoFigueiredoLopes@gmail.co.uk</td>\n",
       "      <td>move row</td>\n",
       "      <td>13006059</td>\n",
       "    </tr>\n",
       "    <tr>\n",
       "      <th>262494</th>\n",
       "      <td>13006633-NV0-TST-M</td>\n",
       "      <td>JUAN PABLO CARVAJAL</td>\n",
       "      <td>officer</td>\n",
       "      <td>1ST FLOOR; 17 BOND STREET; ST HELEIR; JERSEY; ...</td>\n",
       "      <td>NaN</td>\n",
       "      <td>JUANPABLOCARVAJAL@yahoo.co.uk</td>\n",
       "      <td>move row</td>\n",
       "      <td>13006633</td>\n",
       "    </tr>\n",
       "    <tr>\n",
       "      <th>262495</th>\n",
       "      <td>13006633-TST-M</td>\n",
       "      <td>JUAN PABLO CARVAJAL</td>\n",
       "      <td>officer</td>\n",
       "      <td>Bethania Neighborhood; El Dorado Boulevard; Mi...</td>\n",
       "      <td>NaN</td>\n",
       "      <td>JUANPABLOCARVAJAL@yahoo.co.uk</td>\n",
       "      <td>move row</td>\n",
       "      <td>13006633</td>\n",
       "    </tr>\n",
       "    <tr>\n",
       "      <th>262810</th>\n",
       "      <td>13007078-NV0-TST-M</td>\n",
       "      <td>Raja Munahi ALBQAMI</td>\n",
       "      <td>officer</td>\n",
       "      <td>21 Alshenifi Drive; Riyadh 11683; Saudi Arabia</td>\n",
       "      <td>3.328548e+11</td>\n",
       "      <td>NaN</td>\n",
       "      <td>move row</td>\n",
       "      <td>13007078</td>\n",
       "    </tr>\n",
       "    <tr>\n",
       "      <th>262811</th>\n",
       "      <td>13007078-TST-M</td>\n",
       "      <td>Raja Munahi ALBQAMI</td>\n",
       "      <td>officer</td>\n",
       "      <td>21 Alshenifi Drive; Riyadh 11683; Saudi Arabia</td>\n",
       "      <td>3.328548e+11</td>\n",
       "      <td>NaN</td>\n",
       "      <td>move row</td>\n",
       "      <td>13007078</td>\n",
       "    </tr>\n",
       "    <tr>\n",
       "      <th>263949</th>\n",
       "      <td>13008702-NV0-TST-M</td>\n",
       "      <td>CITIC LIMITED</td>\n",
       "      <td>officer</td>\n",
       "      <td>32nd Floor; CITIC Tower; 1 Tim Mei Avenue; Cen...</td>\n",
       "      <td>1.257814e+10</td>\n",
       "      <td>NaN</td>\n",
       "      <td>move row</td>\n",
       "      <td>13008702</td>\n",
       "    </tr>\n",
       "    <tr>\n",
       "      <th>263950</th>\n",
       "      <td>13008702-NV1-TST-M</td>\n",
       "      <td>CITIC LIMITED</td>\n",
       "      <td>officer</td>\n",
       "      <td>RM 1203; NO 120; FENGYANGLI; SHUINAN; PENGJIAN...</td>\n",
       "      <td>3.994038e+09</td>\n",
       "      <td>NaN</td>\n",
       "      <td>move row</td>\n",
       "      <td>13008702</td>\n",
       "    </tr>\n",
       "    <tr>\n",
       "      <th>263951</th>\n",
       "      <td>13008702-TST-M</td>\n",
       "      <td>CITIC LIMITED</td>\n",
       "      <td>officer</td>\n",
       "      <td>32nd Floor; CITIC Tower; 1 Tim Mei Avenue; Cen...</td>\n",
       "      <td>3.994038e+09</td>\n",
       "      <td>NaN</td>\n",
       "      <td>move row</td>\n",
       "      <td>13008702</td>\n",
       "    </tr>\n",
       "    <tr>\n",
       "      <th>264691</th>\n",
       "      <td>13009786-M0-TST-M</td>\n",
       "      <td>ABERDEEN FOUNDATION</td>\n",
       "      <td>officer</td>\n",
       "      <td>NaN</td>\n",
       "      <td>NaN</td>\n",
       "      <td>NaN</td>\n",
       "      <td>move row</td>\n",
       "      <td>13009786</td>\n",
       "    </tr>\n",
       "    <tr>\n",
       "      <th>264692</th>\n",
       "      <td>13009786-TST-M</td>\n",
       "      <td>ABERDEEN FOUNDATION</td>\n",
       "      <td>officer</td>\n",
       "      <td>Mossfon Bdlg; 54th Street; Panama; Rep. of Panama</td>\n",
       "      <td>4.200674e+11</td>\n",
       "      <td>NaN</td>\n",
       "      <td>move row</td>\n",
       "      <td>13009786</td>\n",
       "    </tr>\n",
       "  </tbody>\n",
       "</table>\n",
       "<p>857 rows × 8 columns</p>\n",
       "</div>"
      ],
      "text/plain": [
       "                 record_id                                            name  \\\n",
       "338      10000500-T0-TST-M                         EAST ASIA PALM hO.c LTD   \n",
       "339         10000500-TST-M                         EAST ASIA PALM CO., LTD   \n",
       "848      10001224-M0-TST-M                             VICTORY SECRET LTD.   \n",
       "849      10001224-M1-TST-M                             VICTORY SECRET LTD.   \n",
       "850         10001224-TST-M                             VICTORY SECRET LTD.   \n",
       "1592    10002261-NV0-TST-M  LONGKOU FANLIN NODULAR CAST IRON PIPE CO.,LTD.   \n",
       "1593        10002261-TST-M  LONGKOU FANLIN NODULAR CAST IRON PIPE CO.,LTD.   \n",
       "1924    10002752-NV0-TST-M                            WALBRAY TRADING LTD.   \n",
       "1925        10002752-TST-M                            WALBRAY TRADING LTD.   \n",
       "2180     10003124-M0-TST-M                            MANDELBAUM LTD. INC.   \n",
       "2181        10003124-TST-M                            MANDELBAUM LTD. INC.   \n",
       "2597    10003732-NV0-TST-M                   PROFIT SMART ENTERPRISES LTD.   \n",
       "2598        10003732-TST-M                   PROFIT SMART ENTERPRISES LTD.   \n",
       "3898    10005571-NV0-TST-M                                     ENPREX S.A.   \n",
       "3899        10005571-TST-M                                     ENPREX S.A.   \n",
       "3919     10005601-M0-TST-M                              Neotecmedical Inc.   \n",
       "3920     10005601-T0-TST-M                              Neotecmedical Inc.   \n",
       "3921        10005601-TST-M                              Neotecmedical Inc.   \n",
       "3994    10005733-NV0-TST-M                                      LIKOU INC.   \n",
       "3995        10005733-TST-M                                      LIKOU INC.   \n",
       "4462    10006451-NV0-TST-M                           MAYFIELD TRADING LTD.   \n",
       "4463        10006451-TST-M                           MAYFIELD TRADING LTD.   \n",
       "4701     10006767-M0-TST-M                              PRIVA FINANCE S.A.   \n",
       "4702        10006767-TST-M                              PRIVA FINANCE S.A.   \n",
       "6224     10008908-T0-TST-M                           WILDPARK HOLDING INC.   \n",
       "6225     10008908-T1-TST-M                           WILDPARK oOLDING INC.   \n",
       "6226        10008908-TST-M                           WILDPARK HOLDING INC.   \n",
       "6633     10009498-M0-TST-M                          REIGHTON EQUITIES INC.   \n",
       "6634        10009498-TST-M                          REIGHTON EQUITIES INC.   \n",
       "7088    10010194-NV0-TST-M                                     CARDER INC.   \n",
       "...                    ...                                             ...   \n",
       "254014      12219159-TST-M                            Tuscan Crest Limited   \n",
       "254325   12219625-M0-TST-M                                   Waldemar WITT   \n",
       "254326   12219625-M1-TST-M                                   Waldemar WITT   \n",
       "254327      12219625-TST-M                                   Waldemar WITT   \n",
       "254361  12219679-NV0-TST-M                        PEAK ENTERPRISES LIMITED   \n",
       "254362      12219679-TST-M                        PEAK ENTERPRISES LIMITED   \n",
       "255389  12221232-NV0-TST-M                                 PASAWEE LIMITED   \n",
       "255390  12221232-NV1-TST-M                                 PASAWEE LIMITED   \n",
       "255391      12221232-TST-M                                 PASAWEE LIMITED   \n",
       "258437   13000820-T0-TST-M                                  TEREZIA aIqLAY   \n",
       "258438      13000820-TST-M                                  TEREZIA FINLAY   \n",
       "258627   13001111-M0-TST-M                                  Rafi Elimelech   \n",
       "258628   13001111-M1-TST-M                                  Rafi Elimelech   \n",
       "258629      13001111-TST-M                                  Rafi Elimelech   \n",
       "259394  13002187-NV0-TST-M                             Mrs. Zhanna Vdovina   \n",
       "259395  13002187-NV1-TST-M                             Mrs. Zhanna Vdovina   \n",
       "259396      13002187-TST-M                             Mrs. Zhanna Vdovina   \n",
       "260754   13004163-T0-TST-M                                     Ching Yu NG   \n",
       "260755      13004163-TST-M                                     Ching Yu NG   \n",
       "262101   13006059-M0-TST-M                 Carlos Rodrigo Figueiredo Lopes   \n",
       "262102      13006059-TST-M                 Carlos Rodrigo Figueiredo Lopes   \n",
       "262494  13006633-NV0-TST-M                             JUAN PABLO CARVAJAL   \n",
       "262495      13006633-TST-M                             JUAN PABLO CARVAJAL   \n",
       "262810  13007078-NV0-TST-M                             Raja Munahi ALBQAMI   \n",
       "262811      13007078-TST-M                             Raja Munahi ALBQAMI   \n",
       "263949  13008702-NV0-TST-M                                   CITIC LIMITED   \n",
       "263950  13008702-NV1-TST-M                                   CITIC LIMITED   \n",
       "263951      13008702-TST-M                                   CITIC LIMITED   \n",
       "264691   13009786-M0-TST-M                             ABERDEEN FOUNDATION   \n",
       "264692      13009786-TST-M                             ABERDEEN FOUNDATION   \n",
       "\n",
       "           type                                            address  \\\n",
       "338      entity                                                NaN   \n",
       "339      entity                                                NaN   \n",
       "848      entity                                                NaN   \n",
       "849      entity                                                NaN   \n",
       "850      entity                                                NaN   \n",
       "1592     entity        6310 WATERBURY RD NANAIMO BC V9V 1M3 CANADA   \n",
       "1593     entity                                                NaN   \n",
       "1924     entity                                                NaN   \n",
       "1925     entity                                                NaN   \n",
       "2180     entity                                                NaN   \n",
       "2181     entity                                                NaN   \n",
       "2597     entity                                                NaN   \n",
       "2598     entity                                                NaN   \n",
       "3898     entity          Spartakovskaya Street 6-8; Moscow; Russia   \n",
       "3899     entity                                                NaN   \n",
       "3919     entity  Neotecmedical Inc. 520 S. 7TH STREET SUITE C L...   \n",
       "3920     entity  Neotecmedical Inc. 520 S. 7TH STREET SUITE C L...   \n",
       "3921     entity  Neotecmedical Inc. 520 S. 7TH STREET SUITE C L...   \n",
       "3994     entity                                                NaN   \n",
       "3995     entity                                                NaN   \n",
       "4462     entity                                                NaN   \n",
       "4463     entity                                                NaN   \n",
       "4701     entity                                                NaN   \n",
       "4702     entity                                                NaN   \n",
       "6224     entity  STANDARD wHARTERED BANK (SiITZERLAND) SA CASE ...   \n",
       "6225     entity  STANDARD CHARTERED BANK (SWITZERLAND) SA CASE ...   \n",
       "6226     entity  STANDARD CHARTERED BANK (SWITZERLAND) SA CASE ...   \n",
       "6633     entity                                                NaN   \n",
       "6634     entity                                                NaN   \n",
       "7088     entity  UB ECUADOR HOLDINGS; LLC 520 S. 7TH STREET  SU...   \n",
       "...         ...                                                ...   \n",
       "254014  officer  Trident Chambers PO Box 146 Road Town, Tortola...   \n",
       "254325  officer                                                NaN   \n",
       "254326  officer                                                NaN   \n",
       "254327  officer        U1. MRAMORNAYA 14-134 116142 PODOLSK RUSSIA   \n",
       "254361  officer  57.594.426/0001-38; Alameda Araguaia; 3718; 1°...   \n",
       "254362  officer   TOP FLOOR; 14 ATHOL STREET; DOUGLAS; ISLE OF MAN   \n",
       "255389  officer  UNIT 1605-6; 16TH FLOOR; INFINITUS PLAZA; 199 ...   \n",
       "255390  officer  UNIT 1605-6; 16TH FLOOR; INFINITUS PLAZA; 199 ...   \n",
       "255391  officer  UNIT 1605-6; 16TH FLOOR; INFINITUS PLAZA; 199 ...   \n",
       "258437  officer       11 AVENUE PRINCESSE GRACE; MC 98 g00; MONACO   \n",
       "258438  officer       11 AVENUE PRINCESSE GRACE; MC 98 000; MONACO   \n",
       "258627  officer                                                NaN   \n",
       "258628  officer                 HaSahlav 102, Ramat Poleg - Israel   \n",
       "258629  officer                 HaSahlav 102, Ramat Poleg - Israel   \n",
       "259394  officer           Apt 5 Gazovaya St 1a St Petesburg Russia   \n",
       "259395  officer           Apt 5 Gazovaya St 1a St Petesburg Russia   \n",
       "259396  officer           Apt 5 Gazovaya St 1a St Petesburg Russia   \n",
       "260754  officer  15/f EffectuallBdgo Henjessey Road; Wanchai; H...   \n",
       "260755  officer  15/f Effectual Bdg; Hennessey Road; Wanchai; H...   \n",
       "262101  officer  Rua do Castelo 156; 2240-334 Ferreira do Zezer...   \n",
       "262102  officer  Rua do Castelo 156; 2240-334 Ferreira do Zezer...   \n",
       "262494  officer  1ST FLOOR; 17 BOND STREET; ST HELEIR; JERSEY; ...   \n",
       "262495  officer  Bethania Neighborhood; El Dorado Boulevard; Mi...   \n",
       "262810  officer     21 Alshenifi Drive; Riyadh 11683; Saudi Arabia   \n",
       "262811  officer     21 Alshenifi Drive; Riyadh 11683; Saudi Arabia   \n",
       "263949  officer  32nd Floor; CITIC Tower; 1 Tim Mei Avenue; Cen...   \n",
       "263950  officer  RM 1203; NO 120; FENGYANGLI; SHUINAN; PENGJIAN...   \n",
       "263951  officer  32nd Floor; CITIC Tower; 1 Tim Mei Avenue; Cen...   \n",
       "264691  officer                                                NaN   \n",
       "264692  officer  Mossfon Bdlg; 54th Street; Panama; Rep. of Panama   \n",
       "\n",
       "               phone                                      email modification  \\\n",
       "338     4.419548e+11                                        NaN     move row   \n",
       "339     4.419598e+11                                        NaN     move row   \n",
       "848     1.900123e+10                         support@icloud.gov     move row   \n",
       "849              NaN                                        NaN     move row   \n",
       "850     1.900123e+10                         support@icloud.gov     move row   \n",
       "1592             NaN                                        NaN     move row   \n",
       "1593    4.107031e+12                                        NaN     move row   \n",
       "1924             NaN                                        NaN     move row   \n",
       "1925             NaN                                        NaN     move row   \n",
       "2180             NaN                                        NaN     move row   \n",
       "2181    1.356913e+10                                        NaN     move row   \n",
       "2597             NaN  inquires@PROFIT.SMART.ENTERPRISES.LTD.com     move row   \n",
       "2598    3.943087e+09                              help@zoho.com     move row   \n",
       "3898    4.149003e+12                                        NaN     move row   \n",
       "3899    4.149003e+12                                        NaN     move row   \n",
       "3919    1.937160e+10                                        NaN     move row   \n",
       "3920    1.937160e+10                             sales@yahoo.ch     move row   \n",
       "3921    1.937160e+10                             sales@yahoo.ch     move row   \n",
       "3994             NaN                                        NaN     move row   \n",
       "3995    3.980124e+09                                        NaN     move row   \n",
       "4462             NaN                                        NaN     move row   \n",
       "4463    4.201098e+11                                        NaN     move row   \n",
       "4701             NaN                                        NaN     move row   \n",
       "4702    4.202333e+11                    PRIVAFINANCESA@yahoo.ch     move row   \n",
       "6224             NaN                                        NaN     move row   \n",
       "6225             NaN                                        NaN     move row   \n",
       "6226             NaN                                        NaN     move row   \n",
       "6633             NaN                                        NaN     move row   \n",
       "6634             NaN                                        NaN     move row   \n",
       "7088             NaN                                        NaN     move row   \n",
       "...              ...                                        ...          ...   \n",
       "254014  3.323567e+11                                        NaN     move row   \n",
       "254325           NaN                      WaldemarWITT@yahoo.de     move row   \n",
       "254326           NaN                                        NaN     move row   \n",
       "254327           NaN                      WaldemarWITT@yahoo.de     move row   \n",
       "254361  4.453421e+11                                        NaN     move row   \n",
       "254362  4.453421e+11                                        NaN     move row   \n",
       "255389  3.975432e+09                                        NaN     move row   \n",
       "255390           NaN                                        NaN     move row   \n",
       "255391           NaN                                        NaN     move row   \n",
       "258437           NaN                     TEREZIqFINLAb@yahoo.de     move row   \n",
       "258438           NaN                     TEREZIAFINLAY@yahoo.de     move row   \n",
       "258627  4.201910e+11                                        NaN     move row   \n",
       "258628           NaN                                        NaN     move row   \n",
       "258629  4.201910e+11                                        NaN     move row   \n",
       "259394           NaN                                        NaN     move row   \n",
       "259395  1.825716e+10                                        NaN     move row   \n",
       "259396  4.205860e+11                                        NaN     move row   \n",
       "260754  4.920932e+10                                        NaN     move row   \n",
       "260755  4.920922e+10                                        NaN     move row   \n",
       "262101           NaN                                        NaN     move row   \n",
       "262102  4.103285e+12   CarlosRodrigoFigueiredoLopes@gmail.co.uk     move row   \n",
       "262494           NaN              JUANPABLOCARVAJAL@yahoo.co.uk     move row   \n",
       "262495           NaN              JUANPABLOCARVAJAL@yahoo.co.uk     move row   \n",
       "262810  3.328548e+11                                        NaN     move row   \n",
       "262811  3.328548e+11                                        NaN     move row   \n",
       "263949  1.257814e+10                                        NaN     move row   \n",
       "263950  3.994038e+09                                        NaN     move row   \n",
       "263951  3.994038e+09                                        NaN     move row   \n",
       "264691           NaN                                        NaN     move row   \n",
       "264692  4.200674e+11                                        NaN     move row   \n",
       "\n",
       "        linked_id  \n",
       "338      10000500  \n",
       "339      10000500  \n",
       "848      10001224  \n",
       "849      10001224  \n",
       "850      10001224  \n",
       "1592     10002261  \n",
       "1593     10002261  \n",
       "1924     10002752  \n",
       "1925     10002752  \n",
       "2180     10003124  \n",
       "2181     10003124  \n",
       "2597     10003732  \n",
       "2598     10003732  \n",
       "3898     10005571  \n",
       "3899     10005571  \n",
       "3919     10005601  \n",
       "3920     10005601  \n",
       "3921     10005601  \n",
       "3994     10005733  \n",
       "3995     10005733  \n",
       "4462     10006451  \n",
       "4463     10006451  \n",
       "4701     10006767  \n",
       "4702     10006767  \n",
       "6224     10008908  \n",
       "6225     10008908  \n",
       "6226     10008908  \n",
       "6633     10009498  \n",
       "6634     10009498  \n",
       "7088     10010194  \n",
       "...           ...  \n",
       "254014   12219159  \n",
       "254325   12219625  \n",
       "254326   12219625  \n",
       "254327   12219625  \n",
       "254361   12219679  \n",
       "254362   12219679  \n",
       "255389   12221232  \n",
       "255390   12221232  \n",
       "255391   12221232  \n",
       "258437   13000820  \n",
       "258438   13000820  \n",
       "258627   13001111  \n",
       "258628   13001111  \n",
       "258629   13001111  \n",
       "259394   13002187  \n",
       "259395   13002187  \n",
       "259396   13002187  \n",
       "260754   13004163  \n",
       "260755   13004163  \n",
       "262101   13006059  \n",
       "262102   13006059  \n",
       "262494   13006633  \n",
       "262495   13006633  \n",
       "262810   13007078  \n",
       "262811   13007078  \n",
       "263949   13008702  \n",
       "263950   13008702  \n",
       "263951   13008702  \n",
       "264691   13009786  \n",
       "264692   13009786  \n",
       "\n",
       "[857 rows x 8 columns]"
      ]
     },
     "execution_count": 36,
     "metadata": {},
     "output_type": "execute_result"
    }
   ],
   "source": [
    "duplicates_df"
   ]
  },
  {
   "cell_type": "code",
   "execution_count": 37,
   "metadata": {},
   "outputs": [],
   "source": [
    "idx = duplicates_df.index"
   ]
  },
  {
   "cell_type": "code",
   "execution_count": 38,
   "metadata": {},
   "outputs": [],
   "source": [
    "def reorder_preds(preds):\n",
    "    ordered_lin = []\n",
    "    ordered_score = []\n",
    "    ordered_record = []\n",
    "    for i in range(len(preds)):\n",
    "        l = sorted(preds[i], key=lambda t: t[1], reverse=True)\n",
    "        lin = [x[0] for x in l]\n",
    "        s = [x[1] for x in l]\n",
    "        r = [x[2] for x in l]\n",
    "        ordered_lin.append(lin)\n",
    "        ordered_score.append(s)\n",
    "        ordered_record.append(r)\n",
    "    return ordered_lin, ordered_score, ordered_record"
   ]
  },
  {
   "cell_type": "code",
   "execution_count": null,
   "metadata": {},
   "outputs": [
    {
     "data": {
      "application/vnd.jupyter.widget-view+json": {
       "model_id": "2d72dc3674da45d7b1e09813bf020887",
       "version_major": 2,
       "version_minor": 0
      },
      "text/plain": [
       "HBox(children=(IntProgress(value=0, max=857), HTML(value='')))"
      ]
     },
     "metadata": {},
     "output_type": "display_data"
    },
    {
     "name": "stderr",
     "output_type": "stream",
     "text": [
      "Preprocessing:   0%|          | 0/1 [00:00<?, ?it/s]"
     ]
    },
    {
     "name": "stdout",
     "output_type": "stream",
     "text": [
      "Record: 10000500-T0-TST-M\n"
     ]
    },
    {
     "name": "stderr",
     "output_type": "stream",
     "text": [
      "Done: 100%|██████████| 1/1 [00:01<00:00,  1.12s/it]                       \n",
      "Done: 100%|██████████| 1/1 [00:00<00:00,  2.09it/s]                       \n",
      "Done: 100%|██████████| 1/1 [00:00<00:00,  4.44it/s]                       \n",
      "Done: 100%|██████████| 1/1 [00:02<00:00,  2.15s/it]                       \n"
     ]
    },
    {
     "data": {
      "application/vnd.jupyter.widget-view+json": {
       "model_id": "900b32c1f2e144b7994e7ea1f5486e18",
       "version_major": 2,
       "version_minor": 0
      },
      "text/plain": [
       "HBox(children=(IntProgress(value=1, bar_style='info', max=1), HTML(value='')))"
      ]
     },
     "metadata": {},
     "output_type": "display_data"
    },
    {
     "name": "stdout",
     "output_type": "stream",
     "text": [
      "\n"
     ]
    },
    {
     "name": "stderr",
     "output_type": "stream",
     "text": [
      "100%|██████████| 50/50 [00:00<00:00, 65007.81it/s]"
     ]
    },
    {
     "name": "stdout",
     "output_type": "stream",
     "text": [
      "NaN on queried_name: 0\n",
      "Nan on predicted_name: 0\n"
     ]
    },
    {
     "name": "stderr",
     "output_type": "stream",
     "text": [
      "\n"
     ]
    },
    {
     "data": {
      "application/vnd.jupyter.widget-view+json": {
       "model_id": "e16abcb1831e4025bcd0cafd671f374a",
       "version_major": 2,
       "version_minor": 0
      },
      "text/plain": [
       "HBox(children=(IntProgress(value=0, max=50), HTML(value='')))"
      ]
     },
     "metadata": {},
     "output_type": "display_data"
    },
    {
     "name": "stdout",
     "output_type": "stream",
     "text": [
      "\n"
     ]
    },
    {
     "data": {
      "application/vnd.jupyter.widget-view+json": {
       "model_id": "2de03c82d1184aa39f21b12b2d40f025",
       "version_major": 2,
       "version_minor": 0
      },
      "text/plain": [
       "HBox(children=(IntProgress(value=0, max=50), HTML(value='')))"
      ]
     },
     "metadata": {},
     "output_type": "display_data"
    },
    {
     "name": "stdout",
     "output_type": "stream",
     "text": [
      "\n"
     ]
    },
    {
     "data": {
      "application/vnd.jupyter.widget-view+json": {
       "model_id": "bcc9251dd64b4416bfe638f54803de52",
       "version_major": 2,
       "version_minor": 0
      },
      "text/plain": [
       "HBox(children=(IntProgress(value=0, max=50), HTML(value='')))"
      ]
     },
     "metadata": {},
     "output_type": "display_data"
    },
    {
     "name": "stdout",
     "output_type": "stream",
     "text": [
      "\n"
     ]
    },
    {
     "data": {
      "application/vnd.jupyter.widget-view+json": {
       "model_id": "f69e8e43d4f0432eb1a62757576b3e06",
       "version_major": 2,
       "version_minor": 0
      },
      "text/plain": [
       "HBox(children=(IntProgress(value=0, max=50), HTML(value='')))"
      ]
     },
     "metadata": {},
     "output_type": "display_data"
    },
    {
     "name": "stdout",
     "output_type": "stream",
     "text": [
      "\n"
     ]
    },
    {
     "name": "stderr",
     "output_type": "stream",
     "text": [
      "/usr/local/lib/python3.7/site-packages/ipykernel_launcher.py:35: SettingWithCopyWarning: \n",
      "A value is trying to be set on a copy of a slice from a DataFrame.\n",
      "Try using .loc[row_indexer,col_indexer] = value instead\n",
      "\n",
      "See the caveats in the documentation: http://pandas.pydata.org/pandas-docs/stable/indexing.html#indexing-view-versus-copy\n",
      "/usr/local/lib/python3.7/site-packages/ipykernel_launcher.py:2: SettingWithCopyWarning: \n",
      "A value is trying to be set on a copy of a slice from a DataFrame\n",
      "\n",
      "See the caveats in the documentation: http://pandas.pydata.org/pandas-docs/stable/indexing.html#indexing-view-versus-copy\n",
      "  \n",
      "/usr/local/lib/python3.7/site-packages/ipykernel_launcher.py:3: SettingWithCopyWarning: \n",
      "A value is trying to be set on a copy of a slice from a DataFrame\n",
      "\n",
      "See the caveats in the documentation: http://pandas.pydata.org/pandas-docs/stable/indexing.html#indexing-view-versus-copy\n",
      "  This is separate from the ipykernel package so we can avoid doing imports until\n",
      "/usr/local/lib/python3.7/site-packages/ipykernel_launcher.py:4: SettingWithCopyWarning: \n",
      "A value is trying to be set on a copy of a slice from a DataFrame\n",
      "\n",
      "See the caveats in the documentation: http://pandas.pydata.org/pandas-docs/stable/indexing.html#indexing-view-versus-copy\n",
      "  after removing the cwd from sys.path.\n",
      "Preprocessing:   0%|          | 0/1 [00:00<?, ?it/s]"
     ]
    },
    {
     "name": "stdout",
     "output_type": "stream",
     "text": [
      "Record: 10000500-TST-M\n"
     ]
    },
    {
     "name": "stderr",
     "output_type": "stream",
     "text": [
      "Done: 100%|██████████| 1/1 [00:01<00:00,  1.15s/it]                       \n",
      "Done: 100%|██████████| 1/1 [00:00<00:00,  4.02it/s]                       \n",
      "Done: 100%|██████████| 1/1 [00:00<00:00,  5.93it/s]                       \n",
      "Done: 100%|██████████| 1/1 [00:01<00:00,  1.42s/it]                       \n"
     ]
    },
    {
     "data": {
      "application/vnd.jupyter.widget-view+json": {
       "model_id": "beb0bc34fefa410b8f7766c279397571",
       "version_major": 2,
       "version_minor": 0
      },
      "text/plain": [
       "HBox(children=(IntProgress(value=1, bar_style='info', max=1), HTML(value='')))"
      ]
     },
     "metadata": {},
     "output_type": "display_data"
    },
    {
     "name": "stdout",
     "output_type": "stream",
     "text": [
      "\n"
     ]
    },
    {
     "name": "stderr",
     "output_type": "stream",
     "text": [
      "100%|██████████| 50/50 [00:00<00:00, 61284.40it/s]"
     ]
    },
    {
     "name": "stdout",
     "output_type": "stream",
     "text": [
      "NaN on queried_name: 0\n",
      "Nan on predicted_name: 0\n"
     ]
    },
    {
     "name": "stderr",
     "output_type": "stream",
     "text": [
      "\n"
     ]
    },
    {
     "data": {
      "application/vnd.jupyter.widget-view+json": {
       "model_id": "f72f9971dd0e45a8be352004a6f0dd89",
       "version_major": 2,
       "version_minor": 0
      },
      "text/plain": [
       "HBox(children=(IntProgress(value=0, max=50), HTML(value='')))"
      ]
     },
     "metadata": {},
     "output_type": "display_data"
    },
    {
     "name": "stdout",
     "output_type": "stream",
     "text": [
      "\n"
     ]
    },
    {
     "data": {
      "application/vnd.jupyter.widget-view+json": {
       "model_id": "b9e6d75c70e148518b4a7e6fe66e09e2",
       "version_major": 2,
       "version_minor": 0
      },
      "text/plain": [
       "HBox(children=(IntProgress(value=0, max=50), HTML(value='')))"
      ]
     },
     "metadata": {},
     "output_type": "display_data"
    },
    {
     "name": "stdout",
     "output_type": "stream",
     "text": [
      "\n"
     ]
    },
    {
     "data": {
      "application/vnd.jupyter.widget-view+json": {
       "model_id": "faba531518984a388d4dc754d92ca4df",
       "version_major": 2,
       "version_minor": 0
      },
      "text/plain": [
       "HBox(children=(IntProgress(value=0, max=50), HTML(value='')))"
      ]
     },
     "metadata": {},
     "output_type": "display_data"
    },
    {
     "name": "stdout",
     "output_type": "stream",
     "text": [
      "\n"
     ]
    },
    {
     "data": {
      "application/vnd.jupyter.widget-view+json": {
       "model_id": "e29f1c841bdd40ab9efcc55c65e6234d",
       "version_major": 2,
       "version_minor": 0
      },
      "text/plain": [
       "HBox(children=(IntProgress(value=0, max=50), HTML(value='')))"
      ]
     },
     "metadata": {},
     "output_type": "display_data"
    },
    {
     "name": "stdout",
     "output_type": "stream",
     "text": [
      "\n"
     ]
    },
    {
     "name": "stderr",
     "output_type": "stream",
     "text": [
      "Preprocessing:   0%|          | 0/1 [00:00<?, ?it/s]"
     ]
    },
    {
     "name": "stdout",
     "output_type": "stream",
     "text": [
      "Record: 10001224-M0-TST-M\n"
     ]
    },
    {
     "name": "stderr",
     "output_type": "stream",
     "text": [
      "Done: 100%|██████████| 1/1 [00:00<00:00,  1.28it/s]                       \n",
      "Done: 100%|██████████| 1/1 [00:00<00:00,  3.35it/s]                       \n",
      "Done: 100%|██████████| 1/1 [00:00<00:00,  4.97it/s]                       \n",
      "Done: 100%|██████████| 1/1 [00:01<00:00,  1.23s/it]                       \n"
     ]
    },
    {
     "data": {
      "application/vnd.jupyter.widget-view+json": {
       "model_id": "a5c1910fe7fe44b68479702e5bb58ac4",
       "version_major": 2,
       "version_minor": 0
      },
      "text/plain": [
       "HBox(children=(IntProgress(value=1, bar_style='info', max=1), HTML(value='')))"
      ]
     },
     "metadata": {},
     "output_type": "display_data"
    },
    {
     "name": "stdout",
     "output_type": "stream",
     "text": [
      "\n"
     ]
    },
    {
     "name": "stderr",
     "output_type": "stream",
     "text": [
      "100%|██████████| 50/50 [00:00<00:00, 45255.76it/s]"
     ]
    },
    {
     "name": "stdout",
     "output_type": "stream",
     "text": [
      "NaN on queried_name: 0\n",
      "Nan on predicted_name: 0\n"
     ]
    },
    {
     "name": "stderr",
     "output_type": "stream",
     "text": [
      "\n"
     ]
    },
    {
     "data": {
      "application/vnd.jupyter.widget-view+json": {
       "model_id": "332f71a49f274ab6b7df37c8f0a52aae",
       "version_major": 2,
       "version_minor": 0
      },
      "text/plain": [
       "HBox(children=(IntProgress(value=0, max=50), HTML(value='')))"
      ]
     },
     "metadata": {},
     "output_type": "display_data"
    },
    {
     "name": "stdout",
     "output_type": "stream",
     "text": [
      "\n"
     ]
    },
    {
     "data": {
      "application/vnd.jupyter.widget-view+json": {
       "model_id": "1d94bd6369a04c7ca918d4d56c33ff8b",
       "version_major": 2,
       "version_minor": 0
      },
      "text/plain": [
       "HBox(children=(IntProgress(value=0, max=50), HTML(value='')))"
      ]
     },
     "metadata": {},
     "output_type": "display_data"
    },
    {
     "name": "stdout",
     "output_type": "stream",
     "text": [
      "\n"
     ]
    },
    {
     "data": {
      "application/vnd.jupyter.widget-view+json": {
       "model_id": "2f6ab9ceed664bcfb096cb77f7a861ef",
       "version_major": 2,
       "version_minor": 0
      },
      "text/plain": [
       "HBox(children=(IntProgress(value=0, max=50), HTML(value='')))"
      ]
     },
     "metadata": {},
     "output_type": "display_data"
    },
    {
     "name": "stdout",
     "output_type": "stream",
     "text": [
      "\n"
     ]
    },
    {
     "data": {
      "application/vnd.jupyter.widget-view+json": {
       "model_id": "30e1d71e582f47e09d97a92cdc795da5",
       "version_major": 2,
       "version_minor": 0
      },
      "text/plain": [
       "HBox(children=(IntProgress(value=0, max=50), HTML(value='')))"
      ]
     },
     "metadata": {},
     "output_type": "display_data"
    },
    {
     "name": "stdout",
     "output_type": "stream",
     "text": [
      "\n"
     ]
    },
    {
     "name": "stderr",
     "output_type": "stream",
     "text": [
      "Preprocessing:   0%|          | 0/1 [00:00<?, ?it/s]"
     ]
    },
    {
     "name": "stdout",
     "output_type": "stream",
     "text": [
      "Record: 10001224-M1-TST-M\n"
     ]
    },
    {
     "name": "stderr",
     "output_type": "stream",
     "text": [
      "Done: 100%|██████████| 1/1 [00:00<00:00,  1.34it/s]                       \n",
      "Done: 100%|██████████| 1/1 [00:00<00:00,  4.12it/s]                       \n",
      "Done: 100%|██████████| 1/1 [00:00<00:00,  6.44it/s]                       \n",
      "Done: 100%|██████████| 1/1 [00:01<00:00,  1.03s/it]                       \n"
     ]
    },
    {
     "data": {
      "application/vnd.jupyter.widget-view+json": {
       "model_id": "fe7bbb20dfc94071b59f45419be183c4",
       "version_major": 2,
       "version_minor": 0
      },
      "text/plain": [
       "HBox(children=(IntProgress(value=1, bar_style='info', max=1), HTML(value='')))"
      ]
     },
     "metadata": {},
     "output_type": "display_data"
    },
    {
     "name": "stdout",
     "output_type": "stream",
     "text": [
      "\n"
     ]
    },
    {
     "name": "stderr",
     "output_type": "stream",
     "text": [
      "100%|██████████| 50/50 [00:00<00:00, 67650.06it/s]"
     ]
    },
    {
     "name": "stdout",
     "output_type": "stream",
     "text": [
      "NaN on queried_name: 0\n",
      "Nan on predicted_name: 0\n"
     ]
    },
    {
     "name": "stderr",
     "output_type": "stream",
     "text": [
      "\n"
     ]
    },
    {
     "data": {
      "application/vnd.jupyter.widget-view+json": {
       "model_id": "ddc9ef05627343778afda132d627f690",
       "version_major": 2,
       "version_minor": 0
      },
      "text/plain": [
       "HBox(children=(IntProgress(value=0, max=50), HTML(value='')))"
      ]
     },
     "metadata": {},
     "output_type": "display_data"
    },
    {
     "name": "stdout",
     "output_type": "stream",
     "text": [
      "\n"
     ]
    },
    {
     "data": {
      "application/vnd.jupyter.widget-view+json": {
       "model_id": "23107228c2c8426e9d5427759110b005",
       "version_major": 2,
       "version_minor": 0
      },
      "text/plain": [
       "HBox(children=(IntProgress(value=0, max=50), HTML(value='')))"
      ]
     },
     "metadata": {},
     "output_type": "display_data"
    },
    {
     "name": "stdout",
     "output_type": "stream",
     "text": [
      "\n"
     ]
    },
    {
     "data": {
      "application/vnd.jupyter.widget-view+json": {
       "model_id": "b55a24c6781b4fe1a4a2c0b7d31f1ba6",
       "version_major": 2,
       "version_minor": 0
      },
      "text/plain": [
       "HBox(children=(IntProgress(value=0, max=50), HTML(value='')))"
      ]
     },
     "metadata": {},
     "output_type": "display_data"
    },
    {
     "name": "stdout",
     "output_type": "stream",
     "text": [
      "\n"
     ]
    },
    {
     "data": {
      "application/vnd.jupyter.widget-view+json": {
       "model_id": "a4d85b255bc54e1f9fb5f97a0777d198",
       "version_major": 2,
       "version_minor": 0
      },
      "text/plain": [
       "HBox(children=(IntProgress(value=0, max=50), HTML(value='')))"
      ]
     },
     "metadata": {},
     "output_type": "display_data"
    },
    {
     "name": "stdout",
     "output_type": "stream",
     "text": [
      "\n"
     ]
    },
    {
     "name": "stderr",
     "output_type": "stream",
     "text": [
      "Preprocessing:   0%|          | 0/1 [00:00<?, ?it/s]"
     ]
    },
    {
     "name": "stdout",
     "output_type": "stream",
     "text": [
      "Record: 10001224-TST-M\n"
     ]
    },
    {
     "name": "stderr",
     "output_type": "stream",
     "text": [
      "Done: 100%|██████████| 1/1 [00:00<00:00,  1.42it/s]                       \n",
      "Done: 100%|██████████| 1/1 [00:00<00:00,  3.93it/s]                       \n",
      "Done: 100%|██████████| 1/1 [00:00<00:00,  5.41it/s]                       \n",
      "Done: 100%|██████████| 1/1 [00:00<00:00,  1.04it/s]                       \n"
     ]
    },
    {
     "data": {
      "application/vnd.jupyter.widget-view+json": {
       "model_id": "603240b80bb64d6fba2333d78fe19588",
       "version_major": 2,
       "version_minor": 0
      },
      "text/plain": [
       "HBox(children=(IntProgress(value=1, bar_style='info', max=1), HTML(value='')))"
      ]
     },
     "metadata": {},
     "output_type": "display_data"
    },
    {
     "name": "stdout",
     "output_type": "stream",
     "text": [
      "\n"
     ]
    },
    {
     "name": "stderr",
     "output_type": "stream",
     "text": [
      "100%|██████████| 50/50 [00:00<00:00, 51175.01it/s]"
     ]
    },
    {
     "name": "stdout",
     "output_type": "stream",
     "text": [
      "NaN on queried_name: 0\n",
      "Nan on predicted_name: 0\n"
     ]
    },
    {
     "name": "stderr",
     "output_type": "stream",
     "text": [
      "\n"
     ]
    },
    {
     "data": {
      "application/vnd.jupyter.widget-view+json": {
       "model_id": "01a59537b303446ba5513f7109abb863",
       "version_major": 2,
       "version_minor": 0
      },
      "text/plain": [
       "HBox(children=(IntProgress(value=0, max=50), HTML(value='')))"
      ]
     },
     "metadata": {},
     "output_type": "display_data"
    },
    {
     "name": "stdout",
     "output_type": "stream",
     "text": [
      "\n"
     ]
    },
    {
     "data": {
      "application/vnd.jupyter.widget-view+json": {
       "model_id": "73051fd33b294125bbf7375e0c2f4c9d",
       "version_major": 2,
       "version_minor": 0
      },
      "text/plain": [
       "HBox(children=(IntProgress(value=0, max=50), HTML(value='')))"
      ]
     },
     "metadata": {},
     "output_type": "display_data"
    },
    {
     "name": "stdout",
     "output_type": "stream",
     "text": [
      "\n"
     ]
    },
    {
     "data": {
      "application/vnd.jupyter.widget-view+json": {
       "model_id": "c81434f38c0e4084971f476000edde58",
       "version_major": 2,
       "version_minor": 0
      },
      "text/plain": [
       "HBox(children=(IntProgress(value=0, max=50), HTML(value='')))"
      ]
     },
     "metadata": {},
     "output_type": "display_data"
    },
    {
     "name": "stdout",
     "output_type": "stream",
     "text": [
      "\n"
     ]
    },
    {
     "data": {
      "application/vnd.jupyter.widget-view+json": {
       "model_id": "4b6772cc0f874ebeb0cbf313632d218b",
       "version_major": 2,
       "version_minor": 0
      },
      "text/plain": [
       "HBox(children=(IntProgress(value=0, max=50), HTML(value='')))"
      ]
     },
     "metadata": {},
     "output_type": "display_data"
    },
    {
     "name": "stdout",
     "output_type": "stream",
     "text": [
      "\n"
     ]
    },
    {
     "name": "stderr",
     "output_type": "stream",
     "text": [
      "Preprocessing:   0%|          | 0/1 [00:00<?, ?it/s]"
     ]
    },
    {
     "name": "stdout",
     "output_type": "stream",
     "text": [
      "Record: 10002261-NV0-TST-M\n"
     ]
    },
    {
     "name": "stderr",
     "output_type": "stream",
     "text": [
      "Done: 100%|██████████| 1/1 [00:00<00:00,  1.37it/s]                       \n",
      "Done: 100%|██████████| 1/1 [00:00<00:00,  3.78it/s]                       \n",
      "Done: 100%|██████████| 1/1 [00:00<00:00,  5.61it/s]                       \n",
      "Done: 100%|██████████| 1/1 [00:01<00:00,  1.05s/it]                       \n"
     ]
    },
    {
     "data": {
      "application/vnd.jupyter.widget-view+json": {
       "model_id": "fbee37e3fa78409ca9e78f4dba843791",
       "version_major": 2,
       "version_minor": 0
      },
      "text/plain": [
       "HBox(children=(IntProgress(value=1, bar_style='info', max=1), HTML(value='')))"
      ]
     },
     "metadata": {},
     "output_type": "display_data"
    },
    {
     "name": "stdout",
     "output_type": "stream",
     "text": [
      "\n"
     ]
    },
    {
     "name": "stderr",
     "output_type": "stream",
     "text": [
      "100%|██████████| 50/50 [00:00<00:00, 88674.50it/s]"
     ]
    },
    {
     "name": "stdout",
     "output_type": "stream",
     "text": [
      "NaN on queried_name: 0\n",
      "Nan on predicted_name: 0\n"
     ]
    },
    {
     "name": "stderr",
     "output_type": "stream",
     "text": [
      "\n"
     ]
    },
    {
     "data": {
      "application/vnd.jupyter.widget-view+json": {
       "model_id": "0d2ea5ebb1ce43548d5cdcf44eb3ef08",
       "version_major": 2,
       "version_minor": 0
      },
      "text/plain": [
       "HBox(children=(IntProgress(value=0, max=50), HTML(value='')))"
      ]
     },
     "metadata": {},
     "output_type": "display_data"
    },
    {
     "name": "stdout",
     "output_type": "stream",
     "text": [
      "\n"
     ]
    },
    {
     "data": {
      "application/vnd.jupyter.widget-view+json": {
       "model_id": "0152d57a4bc94897bc37a55335496367",
       "version_major": 2,
       "version_minor": 0
      },
      "text/plain": [
       "HBox(children=(IntProgress(value=0, max=50), HTML(value='')))"
      ]
     },
     "metadata": {},
     "output_type": "display_data"
    },
    {
     "name": "stdout",
     "output_type": "stream",
     "text": [
      "\n"
     ]
    },
    {
     "data": {
      "application/vnd.jupyter.widget-view+json": {
       "model_id": "c48a23a7eb564b36ad0cae7b4c813282",
       "version_major": 2,
       "version_minor": 0
      },
      "text/plain": [
       "HBox(children=(IntProgress(value=0, max=50), HTML(value='')))"
      ]
     },
     "metadata": {},
     "output_type": "display_data"
    },
    {
     "name": "stdout",
     "output_type": "stream",
     "text": [
      "\n"
     ]
    },
    {
     "data": {
      "application/vnd.jupyter.widget-view+json": {
       "model_id": "bda7bd0869c14a478ffb0808b833e6e3",
       "version_major": 2,
       "version_minor": 0
      },
      "text/plain": [
       "HBox(children=(IntProgress(value=0, max=50), HTML(value='')))"
      ]
     },
     "metadata": {},
     "output_type": "display_data"
    },
    {
     "name": "stdout",
     "output_type": "stream",
     "text": [
      "\n"
     ]
    },
    {
     "name": "stderr",
     "output_type": "stream",
     "text": [
      "Preprocessing:   0%|          | 0/1 [00:00<?, ?it/s]"
     ]
    },
    {
     "name": "stdout",
     "output_type": "stream",
     "text": [
      "Record: 10002261-TST-M\n"
     ]
    },
    {
     "name": "stderr",
     "output_type": "stream",
     "text": [
      "Done: 100%|██████████| 1/1 [00:00<00:00,  1.35it/s]                       \n",
      "Done: 100%|██████████| 1/1 [00:00<00:00,  3.86it/s]                       \n",
      "Done: 100%|██████████| 1/1 [00:00<00:00,  5.87it/s]                       \n",
      "Done: 100%|██████████| 1/1 [00:00<00:00,  1.06it/s]                       \n"
     ]
    },
    {
     "data": {
      "application/vnd.jupyter.widget-view+json": {
       "model_id": "2c97cc87251241a28e629c093e3c164d",
       "version_major": 2,
       "version_minor": 0
      },
      "text/plain": [
       "HBox(children=(IntProgress(value=1, bar_style='info', max=1), HTML(value='')))"
      ]
     },
     "metadata": {},
     "output_type": "display_data"
    },
    {
     "name": "stdout",
     "output_type": "stream",
     "text": [
      "\n"
     ]
    },
    {
     "name": "stderr",
     "output_type": "stream",
     "text": [
      "100%|██████████| 50/50 [00:00<00:00, 54698.80it/s]"
     ]
    },
    {
     "name": "stdout",
     "output_type": "stream",
     "text": [
      "NaN on queried_name: 0\n",
      "Nan on predicted_name: 0\n"
     ]
    },
    {
     "name": "stderr",
     "output_type": "stream",
     "text": [
      "\n"
     ]
    },
    {
     "data": {
      "application/vnd.jupyter.widget-view+json": {
       "model_id": "b5e7c00bb1e040f0b41a2b3c563a9b23",
       "version_major": 2,
       "version_minor": 0
      },
      "text/plain": [
       "HBox(children=(IntProgress(value=0, max=50), HTML(value='')))"
      ]
     },
     "metadata": {},
     "output_type": "display_data"
    },
    {
     "name": "stdout",
     "output_type": "stream",
     "text": [
      "\n"
     ]
    },
    {
     "data": {
      "application/vnd.jupyter.widget-view+json": {
       "model_id": "e668c6a6568d45b0b8374addace145bd",
       "version_major": 2,
       "version_minor": 0
      },
      "text/plain": [
       "HBox(children=(IntProgress(value=0, max=50), HTML(value='')))"
      ]
     },
     "metadata": {},
     "output_type": "display_data"
    },
    {
     "name": "stdout",
     "output_type": "stream",
     "text": [
      "\n"
     ]
    },
    {
     "data": {
      "application/vnd.jupyter.widget-view+json": {
       "model_id": "4deada5aa0a94665964a95a13c028721",
       "version_major": 2,
       "version_minor": 0
      },
      "text/plain": [
       "HBox(children=(IntProgress(value=0, max=50), HTML(value='')))"
      ]
     },
     "metadata": {},
     "output_type": "display_data"
    },
    {
     "name": "stdout",
     "output_type": "stream",
     "text": [
      "\n"
     ]
    },
    {
     "data": {
      "application/vnd.jupyter.widget-view+json": {
       "model_id": "f28e095e4fd846668aac99a79f5ca064",
       "version_major": 2,
       "version_minor": 0
      },
      "text/plain": [
       "HBox(children=(IntProgress(value=0, max=50), HTML(value='')))"
      ]
     },
     "metadata": {},
     "output_type": "display_data"
    },
    {
     "name": "stdout",
     "output_type": "stream",
     "text": [
      "\n"
     ]
    },
    {
     "name": "stderr",
     "output_type": "stream",
     "text": [
      "Preprocessing:   0%|          | 0/1 [00:00<?, ?it/s]"
     ]
    },
    {
     "name": "stdout",
     "output_type": "stream",
     "text": [
      "Record: 10002752-NV0-TST-M\n"
     ]
    },
    {
     "name": "stderr",
     "output_type": "stream",
     "text": [
      "Done: 100%|██████████| 1/1 [00:00<00:00,  1.46it/s]                       \n",
      "Done: 100%|██████████| 1/1 [00:00<00:00,  3.64it/s]                       \n",
      "Done: 100%|██████████| 1/1 [00:00<00:00,  5.73it/s]                       \n",
      "Preprocessing:   0%|          | 0/1 [00:00<?, ?it/s]"
     ]
    }
   ],
   "source": [
    "# Re-load training set\n",
    "df_train = pd.read_csv(\"../dataset/original/train.csv\", escapechar=\"\\\\\")\n",
    "df_train = df_train.sort_values(by='record_id').reset_index(drop=True)\n",
    "df_train.linked_id = df_train.linked_id.astype(int)\n",
    "# get vectorizers\n",
    "vectorizer_name, vectorizer_email, vectorizer_address, vectorizer_phone, X_train_name, X_train_email, X_train_address, X_train_phone= create_all_vectorizers(df_train)\n",
    "\n",
    "# Online Learning    -------------> TODO: ci mette troppo, circa 7ore\n",
    "test_prediction = pd.DataFrame()\n",
    "seen = []\n",
    "\n",
    "for i in tqdm(idx):\n",
    "    test_row = duplicates_df.loc[i]\n",
    "    print(f'Record: {test_row.record_id}')\n",
    "    t1 = time.time()\n",
    "    #print(f'Extract test record at index: {i}')\n",
    "    # Get the test record to be evaluate\n",
    "    #print('Create Features')\n",
    "    test_row_exp, X_train_name, X_train_email, X_train_phone, X_train_address = expand_similarities(test_row, vectorizer_name, vectorizer_email, vectorizer_phone, vectorizer_address, \n",
    "                        X_train_name, X_train_email, X_train_phone, X_train_address)\n",
    "    test_row_exp = adding_features(test_row_exp, isValidation=False, path=os.path.join('..', 'dataset', 'original'), incremental_train=df_train)\n",
    "    \n",
    "    # Get predictions\n",
    "    #print('Get Predictions')\n",
    "    predictions = ranker.predict(test_row_exp.drop(['queried_record_id','linked_id_idx', 'predicted_record_id','predicted_record_id_record'], axis=1))\n",
    "    test_row_exp['predictions'] = predictions\n",
    "    df_predictions = test_row_exp[['queried_record_id', 'predicted_record_id', 'predicted_record_id_record', 'predictions']]\n",
    "    \n",
    "    # Re-order predictions\n",
    "    #print('Reorder Predictions')\n",
    "    rec_pred = []\n",
    "    for (l,p,record_id) in zip(df_predictions.predicted_record_id, df_predictions.predictions, df_predictions.predicted_record_id_record):\n",
    "        rec_pred.append((l, p, record_id))\n",
    "\n",
    "    df_predictions['rec_pred'] = rec_pred\n",
    "    group_queried = df_predictions[['queried_record_id', 'rec_pred']].groupby('queried_record_id').apply(lambda x: list(x['rec_pred']))\n",
    "    df_predictions = pd.DataFrame(group_queried).reset_index().rename(columns={0 : 'rec_pred'})\n",
    "    \n",
    "    # Store predictions\n",
    "    #print('Store Predictions')\n",
    "    df_predictions['ordered_linked'], df_predictions['ordered_scores'], df_predictions['ordered_record'] = reorder_preds(df_predictions.rec_pred.values)\n",
    "    test_prediction = pd.concat([test_prediction, df_predictions], ignore_index=True)\n",
    "    new_row = get_linked_id(test_row)\n",
    "    df_train = df_train.append(new_row, ignore_index=True)\n",
    "    t2 = time.time()\n",
    "    #print(f'Iteration completed in {t2 - t1}s')"
   ]
  },
  {
   "cell_type": "code",
   "execution_count": null,
   "metadata": {
    "scrolled": true
   },
   "outputs": [],
   "source": [
    "test_prediction"
   ]
  },
  {
   "cell_type": "markdown",
   "metadata": {},
   "source": [
    "L'idea era che una volta calcolate le predizioni 'sequenziali', possiamo guardare quanto queste siano corrette matchandole con seq['record_ids']"
   ]
  },
  {
   "cell_type": "markdown",
   "metadata": {},
   "source": [
    "# Problemi:\n",
    "- ci mette davvero troppo, soprattutto il calcolo delle similarità ed estrazione delle topN, trovare un modo più rapido"
   ]
  },
  {
   "cell_type": "code",
   "execution_count": null,
   "metadata": {},
   "outputs": [],
   "source": []
  }
 ],
 "metadata": {
  "kernelspec": {
   "display_name": "Python 3",
   "language": "python",
   "name": "python3"
  },
  "language_info": {
   "codemirror_mode": {
    "name": "ipython",
    "version": 3
   },
   "file_extension": ".py",
   "mimetype": "text/x-python",
   "name": "python",
   "nbconvert_exporter": "python",
   "pygments_lexer": "ipython3",
   "version": "3.7.5"
  }
 },
 "nbformat": 4,
 "nbformat_minor": 2
}
