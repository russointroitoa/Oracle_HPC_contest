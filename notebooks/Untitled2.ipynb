{
 "cells": [
  {
   "cell_type": "code",
   "execution_count": 1,
   "metadata": {},
   "outputs": [],
   "source": [
    "import pandas as pd"
   ]
  },
  {
   "cell_type": "code",
   "execution_count": 2,
   "metadata": {},
   "outputs": [],
   "source": [
    "df_test = pd.read_csv(\"../dataset/original/test.csv\", escapechar=\"\\\\\")"
   ]
  },
  {
   "cell_type": "code",
   "execution_count": 3,
   "metadata": {},
   "outputs": [
    {
     "data": {
      "text/html": [
       "<div>\n",
       "<style scoped>\n",
       "    .dataframe tbody tr th:only-of-type {\n",
       "        vertical-align: middle;\n",
       "    }\n",
       "\n",
       "    .dataframe tbody tr th {\n",
       "        vertical-align: top;\n",
       "    }\n",
       "\n",
       "    .dataframe thead th {\n",
       "        text-align: right;\n",
       "    }\n",
       "</style>\n",
       "<table border=\"1\" class=\"dataframe\">\n",
       "  <thead>\n",
       "    <tr style=\"text-align: right;\">\n",
       "      <th></th>\n",
       "      <th>record_id</th>\n",
       "      <th>name</th>\n",
       "      <th>type</th>\n",
       "      <th>address</th>\n",
       "      <th>phone</th>\n",
       "      <th>email</th>\n",
       "      <th>modification</th>\n",
       "    </tr>\n",
       "  </thead>\n",
       "  <tbody>\n",
       "    <tr>\n",
       "      <th>0</th>\n",
       "      <td>10051937-TST-MR</td>\n",
       "      <td>CHEYHAM CORPORATION LIMITED</td>\n",
       "      <td>entity</td>\n",
       "      <td>NaN</td>\n",
       "      <td>1.986537e+10</td>\n",
       "      <td>sales@protonmail.com</td>\n",
       "      <td>move unique</td>\n",
       "    </tr>\n",
       "    <tr>\n",
       "      <th>1</th>\n",
       "      <td>10070762-TST-MR</td>\n",
       "      <td>MEABIZ LIMITED</td>\n",
       "      <td>entity</td>\n",
       "      <td>NaN</td>\n",
       "      <td>3.374033e+11</td>\n",
       "      <td>NaN</td>\n",
       "      <td>move unique</td>\n",
       "    </tr>\n",
       "    <tr>\n",
       "      <th>2</th>\n",
       "      <td>10000304-TST-MR</td>\n",
       "      <td>CHAMPLE INVESTMENTS LTD.</td>\n",
       "      <td>entity</td>\n",
       "      <td>NaN</td>\n",
       "      <td>4.142094e+12</td>\n",
       "      <td>NaN</td>\n",
       "      <td>move unique</td>\n",
       "    </tr>\n",
       "    <tr>\n",
       "      <th>3</th>\n",
       "      <td>10151607-TST-MR</td>\n",
       "      <td>Concept I Media and Technology Company Limited</td>\n",
       "      <td>entity</td>\n",
       "      <td>NaN</td>\n",
       "      <td>1.480354e+10</td>\n",
       "      <td>NaN</td>\n",
       "      <td>move unique</td>\n",
       "    </tr>\n",
       "    <tr>\n",
       "      <th>4</th>\n",
       "      <td>10124701-TST-MR</td>\n",
       "      <td>ARRA RESOURCES LIMITED</td>\n",
       "      <td>entity</td>\n",
       "      <td>NaN</td>\n",
       "      <td>4.207630e+11</td>\n",
       "      <td>NaN</td>\n",
       "      <td>move unique</td>\n",
       "    </tr>\n",
       "  </tbody>\n",
       "</table>\n",
       "</div>"
      ],
      "text/plain": [
       "         record_id                                            name    type  \\\n",
       "0  10051937-TST-MR                     CHEYHAM CORPORATION LIMITED  entity   \n",
       "1  10070762-TST-MR                                  MEABIZ LIMITED  entity   \n",
       "2  10000304-TST-MR                        CHAMPLE INVESTMENTS LTD.  entity   \n",
       "3  10151607-TST-MR  Concept I Media and Technology Company Limited  entity   \n",
       "4  10124701-TST-MR                          ARRA RESOURCES LIMITED  entity   \n",
       "\n",
       "  address         phone                 email modification  \n",
       "0     NaN  1.986537e+10  sales@protonmail.com  move unique  \n",
       "1     NaN  3.374033e+11                   NaN  move unique  \n",
       "2     NaN  4.142094e+12                   NaN  move unique  \n",
       "3     NaN  1.480354e+10                   NaN  move unique  \n",
       "4     NaN  4.207630e+11                   NaN  move unique  "
      ]
     },
     "execution_count": 3,
     "metadata": {},
     "output_type": "execute_result"
    }
   ],
   "source": [
    "df_test.head()"
   ]
  },
  {
   "cell_type": "code",
   "execution_count": null,
   "metadata": {},
   "outputs": [],
   "source": []
  }
 ],
 "metadata": {
  "kernelspec": {
   "display_name": "Python 3",
   "language": "python",
   "name": "python3"
  },
  "language_info": {
   "codemirror_mode": {
    "name": "ipython",
    "version": 3
   },
   "file_extension": ".py",
   "mimetype": "text/x-python",
   "name": "python",
   "nbconvert_exporter": "python",
   "pygments_lexer": "ipython3",
   "version": "3.7.1"
  }
 },
 "nbformat": 4,
 "nbformat_minor": 2
}
